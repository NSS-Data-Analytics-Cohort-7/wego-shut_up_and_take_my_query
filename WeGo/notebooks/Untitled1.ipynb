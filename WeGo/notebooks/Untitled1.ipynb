{
 "cells": [
  {
   "cell_type": "code",
   "execution_count": null,
   "id": "e8fa8927",
   "metadata": {},
   "outputs": [],
   "source": [
    "#import"
   ]
  },
  {
   "cell_type": "code",
   "execution_count": null,
   "id": "de4b1148",
   "metadata": {},
   "outputs": [],
   "source": [
    "from pandasql import sqldf\n",
    "import pandas as pd\n",
    "import numpy as np\n",
    "import matplotlib.pyplot as plt\n",
    "import seaborn as sns\n",
    "from bs4 import BeautifulSoup\n",
    "import io\n",
    "import requests\n",
    "from mpl_toolkits.mplot3d import Axes3D\n",
    "from matplotlib.colors import ListedColormap"
   ]
  },
  {
   "cell_type": "code",
   "execution_count": null,
   "id": "00c8ff95",
   "metadata": {},
   "outputs": [],
   "source": [
    "#project csv"
   ]
  },
  {
   "cell_type": "code",
   "execution_count": null,
   "id": "32bb3929",
   "metadata": {},
   "outputs": [],
   "source": [
    "project_csv = pd.read_csv('../data/Headway Data.csv')\n",
    "print(project_csv)"
   ]
  },
  {
   "cell_type": "code",
   "execution_count": null,
   "id": "a2c0f61e",
   "metadata": {},
   "outputs": [],
   "source": [
    "#project dataframe"
   ]
  },
  {
   "cell_type": "code",
   "execution_count": null,
   "id": "0d9aba83",
   "metadata": {
    "scrolled": true
   },
   "outputs": [],
   "source": [
    "project_csv_df = pd.DataFrame(project_csv)\n",
    "project_csv_df"
   ]
  },
  {
   "cell_type": "code",
   "execution_count": null,
   "id": "731721b8",
   "metadata": {},
   "outputs": [],
   "source": [
    "#sql query"
   ]
  },
  {
   "cell_type": "code",
   "execution_count": null,
   "id": "5f59bc9e",
   "metadata": {},
   "outputs": [],
   "source": [
    "sql_df3 = 'SELECT DISTINCT(ROUTE_DIRECTION_NAME),ROUTE_ABBR, OPERATOR, AVG(ACTUAL_HDWY), AVG(DWELL_IN_MINS), ADHERENCE FROM project_csv_df WHERE ACTUAL_HDWY IS NOT NULL GROUP BY ROUTE_ABBR ORDER BY AVG(ADHERENCE) DESC'\n",
    "sqldf(sql_df3, globals())\n",
    "SQLDF = sqldf(sql_df3, globals())\n",
    "SQLDF"
   ]
  },
  {
   "cell_type": "code",
   "execution_count": null,
   "id": "e5aab9b6",
   "metadata": {},
   "outputs": [],
   "source": [
    "#headway groupby"
   ]
  },
  {
   "cell_type": "code",
   "execution_count": null,
   "id": "7fffc2c6",
   "metadata": {},
   "outputs": [],
   "source": [
    "hdwy_gb = project_csv_df.groupby(['OPERATOR'],as_index = False)['HDWY_DEV'].sum()\n",
    "hdwy_gb"
   ]
  },
  {
   "cell_type": "markdown",
   "id": "5f95de4f",
   "metadata": {},
   "source": [
    "# correlation matrix"
   ]
  },
  {
   "cell_type": "code",
   "execution_count": null,
   "id": "49284beb",
   "metadata": {
    "scrolled": true
   },
   "outputs": [],
   "source": [
    "rs = np.random.RandomState(0)\n",
    "df = pd.DataFrame(rs.rand(10, 10))\n",
    "corr = SQLDF.corr()\n",
    "corr.style.background_gradient(cmap='Paired')"
   ]
  },
  {
   "cell_type": "markdown",
   "id": "fce85d19",
   "metadata": {},
   "source": [
    "# heat map"
   ]
  },
  {
   "cell_type": "code",
   "execution_count": null,
   "id": "65583678",
   "metadata": {},
   "outputs": [],
   "source": [
    "\n",
    "f = plt.figure(figsize=(19, 15))\n",
    "\n",
    "plt.matshow(SQLDF.corr(), fignum=f.number)\n",
    "plt.xticks(range(SQLDF.select_dtypes(['number']).shape[1]), SQLDF.select_dtypes(['number']).columns, fontsize=14, rotation=45)\n",
    "plt.yticks(range(SQLDF.select_dtypes(['number']).shape[1]), SQLDF.select_dtypes(['number']).columns, fontsize=14)\n",
    "\n",
    "cb = plt.colorbar()\n",
    "cb.ax.tick_params(labelsize=14)\n",
    "\n",
    "sns.set_theme(style='whitegrid', palette=('Paired'), font='sans-serif', font_scale=1, color_codes=True, rc=None)\n",
    "\n",
    "plt.title('Correlation Matrix', fontsize=16);"
   ]
  },
  {
   "cell_type": "code",
   "execution_count": null,
   "id": "8a1ac769",
   "metadata": {},
   "outputs": [],
   "source": [
    "#drop df"
   ]
  },
  {
   "cell_type": "code",
   "execution_count": null,
   "id": "a15692dc",
   "metadata": {},
   "outputs": [],
   "source": [
    "drop_df = project_csv_df.drop(project_csv_df.columns[[0,1,2,3,5,7,10,11,12,13,14,21,22,23,24,25,26,27,28]], axis=1)\n",
    "drop_df "
   ]
  },
  {
   "cell_type": "code",
   "execution_count": null,
   "id": "cb0720e3",
   "metadata": {
    "scrolled": true
   },
   "outputs": [],
   "source": [
    "sql_df2 = 'SELECT ROUTE_ABBR, OPERATOR, AVG(DWELL_IN_MINS) AS DWELL_IN_MINS, AVG(ACTUAL_HDWY) AS ACTUAL_HDWY, ROUTE_DIRECTION_NAME, AVG(ADHERENCE) AS AVG_ADHERENCE FROM drop_df WHERE DWELL_IN_MINS > 0 GROUP BY ROUTE_ABBR ORDER BY DWELL_IN_MINS DESC'\n",
    "sqldf(sql_df2, globals())\n",
    "question_6_1 = sqldf(sql_df2, globals())\n",
    "question_6_1"
   ]
  },
  {
   "cell_type": "code",
   "execution_count": null,
   "id": "7b40049b",
   "metadata": {},
   "outputs": [],
   "source": [
    "sql_df3 = 'SELECT ROUTE_ABBR, OPERATOR, AVG(DWELL_IN_MINS) AS DWELL_IN_MINS, AVG(ACTUAL_HDWY) AS ACTUAL_HDWY, AVG(ROUTE_DIRECTION_NAME), AVG(ADHERENCE) AS AVG_ADHERENCE FROM drop_df WHERE DWELL_IN_MINS > 0 GROUP BY ROUTE_ABBR ORDER BY DWELL_IN_MINS DESC'\n",
    "sqldf(sql_df3, globals())\n",
    "question_6_2 = sqldf(sql_df3, globals())\n",
    "question_6_2"
   ]
  },
  {
   "cell_type": "markdown",
   "id": "c60771a7",
   "metadata": {},
   "source": [
    "# SQL ABOVE"
   ]
  },
  {
   "cell_type": "code",
   "execution_count": null,
   "id": "20420152",
   "metadata": {},
   "outputs": [],
   "source": [
    "sql_df4 = 'SELECT OVERLOAD_ID, OPERATOR, ROUTE_ABBR, DWELL_IN_MINS, ACTUAL_HDWY, ROUTE_DIRECTION_NAME, ADHERENCE FROM drop_df WHERE ACTUAL_HDWY IS NOT NULL AND ADHERENCE > 0 GROUP BY ROUTE_ABBR ORDER BY DWELL_IN_MINS DESC'\n",
    "sqldf(sql_df4, globals())\n",
    "question_6_4 = sqldf(sql_df4, globals())\n",
    "question_6_4"
   ]
  },
  {
   "cell_type": "markdown",
   "id": "213ecc18",
   "metadata": {},
   "source": [
    "# IS SQL BELOW"
   ]
  },
  {
   "cell_type": "code",
   "execution_count": null,
   "id": "94372513",
   "metadata": {},
   "outputs": [],
   "source": [
    "sql_df7 = 'SELECT OVERLOAD_ID, OPERATOR, ROUTE_ABBR, DWELL_IN_MINS, ACTUAL_HDWY, ROUTE_DIRECTION_NAME, ADHERENCE FROM drop_df WHERE ACTUAL_HDWY IS NOT NULL AND ADHERENCE <= 0 GROUP BY ROUTE_ABBR ORDER BY DWELL_IN_MINS DESC'\n",
    "sqldf(sql_df7, globals())\n",
    "question_6_7 = sqldf(sql_df7, globals())\n",
    "question_6_7"
   ]
  },
  {
   "cell_type": "code",
   "execution_count": null,
   "id": "4d7d77ec",
   "metadata": {},
   "outputs": [],
   "source": [
    "sql_df5 = 'SELECT OVERLOAD_ID ,ROUTE_ABBR, AVG(DWELL_IN_MINS) AS DWELL_IN_MINS, AVG(ACTUAL_HDWY) AS ACTUAL_HDWY, AVG(ROUTE_DIRECTION_NAME), AVG(ADHERENCE) AS AVG_ADHERENCE FROM drop_df WHERE DWELL_IN_MINS > 0 GROUP BY ROUTE_ABBR ORDER BY DWELL_IN_MINS DESC'\n",
    "sqldf(sql_df5, globals())\n",
    "question_6_5 = sqldf(sql_df5, globals())\n",
    "question_6_5"
   ]
  },
  {
   "cell_type": "markdown",
   "id": "b946ce9c",
   "metadata": {},
   "source": [
    "# positive adherence"
   ]
  },
  {
   "cell_type": "code",
   "execution_count": null,
   "id": "9bbb153d",
   "metadata": {},
   "outputs": [],
   "source": []
  },
  {
   "cell_type": "code",
   "execution_count": null,
   "id": "d0057e01",
   "metadata": {},
   "outputs": [],
   "source": []
  },
  {
   "cell_type": "markdown",
   "id": "29d07c79",
   "metadata": {},
   "source": [
    "# negative adherence"
   ]
  },
  {
   "cell_type": "code",
   "execution_count": null,
   "id": "5994c82b",
   "metadata": {},
   "outputs": [],
   "source": []
  },
  {
   "cell_type": "code",
   "execution_count": null,
   "id": "d49635dd",
   "metadata": {},
   "outputs": [],
   "source": []
  },
  {
   "cell_type": "markdown",
   "id": "b71184d2",
   "metadata": {},
   "source": [
    "# on time %"
   ]
  },
  {
   "cell_type": "code",
   "execution_count": null,
   "id": "d9aeb353",
   "metadata": {},
   "outputs": [],
   "source": [
    "print(question_6_7.to_string())"
   ]
  },
  {
   "cell_type": "code",
   "execution_count": null,
   "id": "0b89305b",
   "metadata": {},
   "outputs": [],
   "source": [
    "rename_df = question_6_1.rename(columns= {'ROUTE_ABBR': 'ROUTE ABBR', 'DWELL_IN_MINS': 'AVG DWELL IN MINS', 'AVG_ADHERENCE': 'AVG ADHERENCE', 'ACTUAL_HDWY' : 'AVG ACTUAL HDWY'})\n",
    "rename_df"
   ]
  },
  {
   "cell_type": "markdown",
   "id": "54e59cad",
   "metadata": {},
   "source": [
    "# 3d graph"
   ]
  },
  {
   "cell_type": "code",
   "execution_count": null,
   "id": "df44aa85",
   "metadata": {},
   "outputs": [],
   "source": [
    "fig = plt.figure(figsize= (16,9))\n",
    "\n",
    "ax = fig.add_subplot(111, projection= '3d')\n",
    "x= rename_df['AVG DWELL IN MINS']\n",
    "y= rename_df['AVG ADHERENCE']\n",
    "z= rename_df['ROUTE ABBR']\n",
    "colors=sns.color_palette('Paired',8)\n",
    "\n",
    "\n",
    "ax.set_xlabel('Dwell in Mins')\n",
    "ax.set_ylabel('Avg Adherence')\n",
    "ax.set_zlabel('Route')\n",
    "\n",
    "\n",
    "cb = ax.scatter3D(x, y, z, s=z*15, c=colors)\n",
    "\n",
    "\n",
    "sns.set_theme(style='whitegrid', palette=('Paired'), font='sans-serif', font_scale=1, color_codes=True, rc=None)\n",
    "\n",
    "plt.show;"
   ]
  },
  {
   "cell_type": "code",
   "execution_count": null,
   "id": "419351db",
   "metadata": {},
   "outputs": [],
   "source": [
    "#describe"
   ]
  },
  {
   "cell_type": "code",
   "execution_count": null,
   "id": "ad2eb094",
   "metadata": {},
   "outputs": [],
   "source": [
    "describe= rename_df.describe()\n",
    "describe"
   ]
  },
  {
   "cell_type": "markdown",
   "id": "e31f7aaa",
   "metadata": {},
   "source": [
    "# positive adherence graph"
   ]
  },
  {
   "cell_type": "code",
   "execution_count": null,
   "id": "9d0fc562",
   "metadata": {},
   "outputs": [],
   "source": [
    "f = plt.figure(figsize=(30, 15))\n",
    "\n",
    "labels = ['52', '23', '56', '50', '7', '55', '22', '3']\n",
    "AVG_ACTUAL_HDWY = [16.64, 14.4, 11.81, 16.76, 21.95, 11.24, 32.12, 18.69]\n",
    "AVG_DWELL_IN_MINS = [6.41, 7.5, 6.55, 6.92, 8.15, 6.92, 9.6, 4.73]\n",
    "AVG_ADHERENCE = [0.7, 1.11, 0.62, 0.69, 0.65, .69, 0.84, 0.77]\n",
    "\n",
    "x = np.arange(len(labels))\n",
    "width = 0.5\n",
    "\n",
    "fig, ax = plt.subplots()\n",
    "\n",
    "colors = sns.mpl_palette(\"Paired\", 8)\n",
    "\n",
    "rects1 = ax.bar(x - width/2, AVG_ACTUAL_HDWY, width, label= 'Avg Actual Headway', color = colors, edgecolor= 'black')\n",
    "rects2 = ax.bar(x + width/2, AVG_DWELL_IN_MINS, width, label= 'Avg Dwell in Mins', color = colors, edgecolor= 'black')\n",
    "rects3 = ax.bar(x + width/2, AVG_ADHERENCE, width, label= 'Avg Adherence', color = colors, edgecolor= 'black')\n",
    "\n",
    "ax.set_ylabel('MINS')\n",
    "ax.set_title('Average Headway, Dwell Time, Positive Adherence')\n",
    "ax.set_xticks(x, labels)\n",
    "ax.legend()\n",
    "\n",
    "ax.bar_label(rects1, label_type='edge', color='black')\n",
    "ax.bar_label(rects2, label_type='edge', color ='black')\n",
    "ax.bar_label(rects3, label_type='edge', color ='white')\n",
    "\n",
    "sns.set_theme(style='whitegrid', palette=('Paired'), font='sans-serif', font_scale=1, color_codes=True, rc=None)\n",
    "\n",
    "hatches = [\"//\", \"\\\\\\\\\", \"O\"]\n",
    "# Loop over the bars\n",
    "for bars, hatch in zip(ax.containers, hatches):\n",
    "    # Set a different hatch for each group of bars\n",
    "    for bar in bars:\n",
    "        bar.set_hatch(hatch)\n",
    "        \n",
    "ax.legend(handles=[rects1, rects2, rects3], loc =2)        \n",
    "        \n",
    "fig.tight_layout()\n",
    "plt.show;"
   ]
  },
  {
   "cell_type": "markdown",
   "id": "306e6c67",
   "metadata": {},
   "source": [
    "# negative adherence graph"
   ]
  },
  {
   "cell_type": "code",
   "execution_count": null,
   "id": "8702dfb8",
   "metadata": {},
   "outputs": [],
   "source": [
    "f = plt.figure(figsize=(30, 15))\n",
    "\n",
    "labels = ['52', '23', '56', '50', '7', '55', '22', '3']\n",
    "AVG_ACTUAL_HDWY = [20.9, 18.76, 14.42, 20.57, 24.61, 14.29, 30.85, 25.52]\n",
    "AVG_DWELL_IN_MINS = [9.42, 10.85, 8.9, 10.18, 12.97, 10.55, 11.90, 11.4]\n",
    "AVG_ADHERENCE = [-2.89, -2.04, -2.54, -3.03, -2.47, -2.52, -2.08, -2.59]\n",
    "\n",
    "x = np.arange(len(labels))\n",
    "width = 0.5\n",
    "\n",
    "fig, ax = plt.subplots()\n",
    "\n",
    "colors = sns.mpl_palette(\"Paired\", 8)\n",
    "\n",
    "rects1 = ax.bar(x - width/2, AVG_ACTUAL_HDWY, width, label= 'Avg Actual Headway', color = colors, edgecolor= 'black')\n",
    "rects2 = ax.bar(x + width/2, AVG_DWELL_IN_MINS, width, label= 'Avg Dwell in Mins', color = colors, edgecolor= 'black')\n",
    "rects3 = ax.bar(x + width/2, AVG_ADHERENCE, width, label= 'Avg Adherence', color = colors, edgecolor= 'black')\n",
    "\n",
    "ax.set_ylabel('MINS')\n",
    "ax.set_title('Average Headway, Dwell Time, Negative Adherence')\n",
    "ax.set_xticks(x, labels)\n",
    "\n",
    "\n",
    "ax.bar_label(rects1, label_type='edge', color='black')\n",
    "ax.bar_label(rects2, label_type='edge', color ='black')\n",
    "ax.bar_label(rects3, label_type='center', color ='white', padding = -15)\n",
    "\n",
    "sns.set_theme(style='whitegrid', palette=('Paired'), font='sans-serif', font_scale=1, color_codes=True, rc=None)\n",
    "\n",
    "hatches = [\"//\", \"\\\\\\\\\", \"O\"]\n",
    "# Loop over the bars\n",
    "for bars, hatch in zip(ax.containers, hatches):\n",
    "    # Set a different hatch for each group of bars\n",
    "    for bar in bars:\n",
    "        bar.set_hatch(hatch)\n",
    "\n",
    "ax.legend(handles=[rects1, rects2, rects3], loc =2)\n",
    "\n",
    "fig.tight_layout()\n",
    "plt.show;"
   ]
  },
  {
   "cell_type": "code",
   "execution_count": null,
   "id": "85ecb250",
   "metadata": {},
   "outputs": [],
   "source": [
    "#direction_groupby"
   ]
  },
  {
   "cell_type": "markdown",
   "id": "6457776b",
   "metadata": {},
   "source": [
    "# ACTUAL DIRECTION GRAPH"
   ]
  },
  {
   "cell_type": "code",
   "execution_count": null,
   "id": "feabcf47",
   "metadata": {},
   "outputs": [],
   "source": [
    "f = plt.figure(figsize=(30, 15))\n",
    "\n",
    "\n",
    "\n",
    "labels = ['From', 'To']\n",
    "AVG_ACTUAL_HDWY = [15.47, 22.8]\n",
    "AVG_DWELL_IN_MINS = [6.83, 10.34]\n",
    "AVG_ADHERENCE = [0.35, -1.83]\n",
    "\n",
    "x = np.arange(len(labels))\n",
    "width = 0.5\n",
    "\n",
    "fig, ax = plt.subplots()\n",
    "colors=sns.color_palette('Paired')[0:5]\n",
    "rects1 = ax.bar(x - width/2, AVG_ACTUAL_HDWY, width, label= 'Avg Actual Headway', edgecolor = 'black')\n",
    "rects2 = ax.bar(x + width/2, AVG_DWELL_IN_MINS, width, label= 'Avg Dwell in Mins', edgecolor = 'black')\n",
    "rects3 = ax.bar(x + width/2, AVG_ADHERENCE, width, label= 'Avg Adherence', edgecolor = 'black')\n",
    "\n",
    "\n",
    "ax.set_ylabel('MINS')\n",
    "ax.set_title('Average Headway, Dwell Time, Adherence')\n",
    "ax.set_xticks(x, labels)\n",
    "ax.legend(\n",
    "         fontsize = 14,\n",
    "         bbox_to_anchor = (1.02, 0.7))\n",
    "\n",
    "ax.bar_label(rects1, label_type='edge', color='black', padding=-2, fontsize=12)\n",
    "ax.bar_label(rects2, label_type='edge', color ='black', fontsize= 12)\n",
    "ax.bar_label(rects3, label_type='edge', color ='black', fontsize=12)\n",
    "\n",
    "hatches = [\"//\", \"\\\\\\\\\", \"O\"]\n",
    "# Loop over the bars\n",
    "for bars, hatch in zip(ax.containers, hatches):\n",
    "    # Set a different hatch for each group of bars\n",
    "    for bar in bars:\n",
    "        bar.set_hatch(hatch)\n",
    "\n",
    "sns.set_theme(style='whitegrid', palette=('Paired'), font='sans-serif', font_scale=1, color_codes=True, rc=None)\n",
    "\n",
    "plt.show;"
   ]
  },
  {
   "cell_type": "markdown",
   "id": "afb90b8c",
   "metadata": {},
   "source": [
    "# AVG actual hdwy pie"
   ]
  },
  {
   "cell_type": "code",
   "execution_count": 1,
   "id": "3c8f8121",
   "metadata": {},
   "outputs": [
    {
     "ename": "NameError",
     "evalue": "name 'np' is not defined",
     "output_type": "error",
     "traceback": [
      "\u001b[0;31m---------------------------------------------------------------------------\u001b[0m",
      "\u001b[0;31mNameError\u001b[0m                                 Traceback (most recent call last)",
      "Input \u001b[0;32mIn [1]\u001b[0m, in \u001b[0;36m<cell line: 1>\u001b[0;34m()\u001b[0m\n\u001b[0;32m----> 1\u001b[0m x\u001b[38;5;241m=\u001b[39m \u001b[43mnp\u001b[49m\u001b[38;5;241m.\u001b[39marray([\u001b[38;5;241m19.32\u001b[39m, \u001b[38;5;241m21.52\u001b[39m])\n\u001b[1;32m      2\u001b[0m mylabels \u001b[38;5;241m=\u001b[39m [\u001b[38;5;124m'\u001b[39m\u001b[38;5;124mFrom\u001b[39m\u001b[38;5;124m'\u001b[39m, \u001b[38;5;124m'\u001b[39m\u001b[38;5;124mTo\u001b[39m\u001b[38;5;124m'\u001b[39m]\n\u001b[1;32m      5\u001b[0m colors\u001b[38;5;241m=\u001b[39m sns\u001b[38;5;241m.\u001b[39mcolor_palette(\u001b[38;5;124m'\u001b[39m\u001b[38;5;124mPaired\u001b[39m\u001b[38;5;124m'\u001b[39m)\n",
      "\u001b[0;31mNameError\u001b[0m: name 'np' is not defined"
     ]
    }
   ],
   "source": [
    "x= np.array([19.32, 21.52])\n",
    "mylabels = ['From', 'To']\n",
    "\n",
    "\n",
    "colors= sns.color_palette('Paired')\n",
    "\n",
    "def func(pct, allvalues):\n",
    "    absolute = float(pct / 100.*np.sum(allvalues))\n",
    "    return \"{:.1f}%\\n({:d})\".format(pct, absolute)\n",
    "\n",
    "fig, ax = plt.subplots(figsize=(6, 6))\n",
    "explode = (0, 0.05)\n",
    "\n",
    "ax.pie(x, explode = explode, labels = mylabels, colors = colors, autopct=lambda pct: func(pct, x))\n",
    "ax.set_title('Average Dwell in Mins To/From')\n",
    "plt.tight_layout()\n",
    "\n",
    "\n",
    "plt.show()"
   ]
  },
  {
   "cell_type": "markdown",
   "id": "7f49e605",
   "metadata": {},
   "source": [
    "# AVG Dwell in Mins PIE"
   ]
  },
  {
   "cell_type": "code",
   "execution_count": null,
   "id": "65c77924",
   "metadata": {},
   "outputs": [],
   "source": [
    "x= np.array([9.62, 10.43 ])\n",
    "mylabels = ['From', 'To']\n",
    "\n",
    "colors= sns.color_palette('Paired')\n",
    "\n",
    "def func(pct, allvals):\n",
    "    absolute = int(round(pct/100.*np.sum(allvals)))\n",
    "    return \"{:.0f}%\\n({:d})\".format(pct, absolute)\n",
    "\n",
    "fig, ax = plt.subplots(figsize=(6, 6))\n",
    "explode = (0, 0.05)\n",
    "\n",
    "ax.pie(x, explode = explode, labels = mylabels, colors = colors, autopct=lambda pct: func(pct, x))\n",
    "ax.set_title('Average Dwell in Mins To/From')\n",
    "plt.tight_layout()\n",
    "\n",
    "\n",
    "plt.show()"
   ]
  },
  {
   "cell_type": "markdown",
   "id": "d4b2aee5",
   "metadata": {},
   "source": [
    "# Adherence PIE"
   ]
  },
  {
   "cell_type": "code",
   "execution_count": null,
   "id": "36ccbcce",
   "metadata": {},
   "outputs": [],
   "source": [
    "x= np.array([1.99, 2.29 ])\n",
    "mylabels = ['From', 'To']\n",
    "\n",
    "colors= sns.color_palette('Paired')\n",
    "\n",
    "def func(pct, allvalues):\n",
    "    absolute = int(pct / 100.*np.sum(allvalues))\n",
    "    return \"{:.1f}%\\n({:d})\".format(pct, absolute)\n",
    "\n",
    "fig, ax = plt.subplots(figsize=(6, 6))\n",
    "\n",
    "explode = (0, 0.05)\n",
    "\n",
    "ax.pie(x, explode = explode, labels = mylabels, colors = colors, autopct=lambda pct: func(pct, x))\n",
    "ax.set_title('Average Adherence (Negative)')\n",
    "plt.tight_layout()\n",
    "\n",
    "plt.show()"
   ]
  },
  {
   "cell_type": "code",
   "execution_count": null,
   "id": "c7e4d18c",
   "metadata": {},
   "outputs": [],
   "source": []
  }
 ],
 "metadata": {
  "kernelspec": {
   "display_name": "Python 3 (ipykernel)",
   "language": "python",
   "name": "python3"
  },
  "language_info": {
   "codemirror_mode": {
    "name": "ipython",
    "version": 3
   },
   "file_extension": ".py",
   "mimetype": "text/x-python",
   "name": "python",
   "nbconvert_exporter": "python",
   "pygments_lexer": "ipython3",
   "version": "3.9.12"
  }
 },
 "nbformat": 4,
 "nbformat_minor": 5
}
