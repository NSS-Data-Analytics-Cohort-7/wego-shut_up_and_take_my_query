{
 "cells": [
  {
   "cell_type": "code",
   "execution_count": null,
   "id": "e8fa8927",
   "metadata": {},
   "outputs": [],
   "source": [
    "#import"
   ]
  },
  {
   "cell_type": "code",
   "execution_count": null,
   "id": "de4b1148",
   "metadata": {},
   "outputs": [],
   "source": [
    "from pandasql import sqldf\n",
    "import pandas as pd\n",
    "import numpy as np\n",
    "import matplotlib.pyplot as plt\n",
    "import seaborn as sns\n",
    "from bs4 import BeautifulSoup\n",
    "import io\n",
    "import requests\n",
    "from mpl_toolkits.mplot3d import Axes3D\n",
    "from matplotlib.colors import ListedColormap"
   ]
  },
  {
   "cell_type": "code",
   "execution_count": null,
   "id": "00c8ff95",
   "metadata": {},
   "outputs": [],
   "source": [
    "#project csv"
   ]
  },
  {
   "cell_type": "code",
   "execution_count": null,
   "id": "32bb3929",
   "metadata": {},
   "outputs": [],
   "source": [
    "project_csv = pd.read_csv('../data/Headway Data.csv')\n",
    "print(project_csv)"
   ]
  },
  {
   "cell_type": "code",
   "execution_count": null,
   "id": "a2c0f61e",
   "metadata": {},
   "outputs": [],
   "source": [
    "#project dataframe"
   ]
  },
  {
   "cell_type": "code",
   "execution_count": null,
   "id": "0d9aba83",
   "metadata": {},
   "outputs": [],
   "source": [
    "project_csv_df = pd.DataFrame(project_csv)\n",
    "project_csv_df"
   ]
  },
  {
   "cell_type": "code",
   "execution_count": null,
   "id": "a15692dc",
   "metadata": {},
   "outputs": [],
   "source": [
    "drop_df = project_csv_df.drop(project_csv_df.columns[[0,1,2,3,5,7,9,10,11,12,13,14,21,22,23,24,25,26,27,28,29]], axis=1)\n",
    "drop_df "
   ]
  },
  {
   "cell_type": "code",
   "execution_count": null,
   "id": "77b9fb8c",
   "metadata": {},
   "outputs": [],
   "source": []
  }
 ],
 "metadata": {
  "kernelspec": {
   "display_name": "Python 3 (ipykernel)",
   "language": "python",
   "name": "python3"
  },
  "language_info": {
   "codemirror_mode": {
    "name": "ipython",
    "version": 3
   },
   "file_extension": ".py",
   "mimetype": "text/x-python",
   "name": "python",
   "nbconvert_exporter": "python",
   "pygments_lexer": "ipython3",
   "version": "3.9.12"
  }
 },
 "nbformat": 4,
 "nbformat_minor": 5
}
