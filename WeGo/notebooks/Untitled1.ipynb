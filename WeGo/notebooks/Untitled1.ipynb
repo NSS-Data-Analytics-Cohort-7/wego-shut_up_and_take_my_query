{
 "cells": [
  {
   "cell_type": "code",
   "execution_count": null,
   "id": "e8fa8927",
   "metadata": {},
   "outputs": [],
   "source": [
    "#import"
   ]
  },
  {
   "cell_type": "code",
   "execution_count": null,
   "id": "de4b1148",
   "metadata": {},
   "outputs": [],
   "source": [
    "from pandasql import sqldf\n",
    "import pandas as pd\n",
    "import numpy as np\n",
    "import matplotlib.pyplot as plt\n",
    "import seaborn as sns\n",
    "from bs4 import BeautifulSoup\n",
    "import io\n",
    "import requests\n",
    "from mpl_toolkits.mplot3d import Axes3D\n",
    "from matplotlib.colors import ListedColormap"
   ]
  },
  {
   "cell_type": "code",
   "execution_count": null,
   "id": "00c8ff95",
   "metadata": {},
   "outputs": [],
   "source": [
    "#project csv"
   ]
  },
  {
   "cell_type": "code",
   "execution_count": null,
   "id": "32bb3929",
   "metadata": {},
   "outputs": [],
   "source": [
    "project_csv = pd.read_csv('../data/Headway Data.csv')\n",
    "print(project_csv)"
   ]
  },
  {
   "cell_type": "code",
   "execution_count": null,
   "id": "a2c0f61e",
   "metadata": {},
   "outputs": [],
   "source": [
    "#project dataframe"
   ]
  },
  {
   "cell_type": "code",
   "execution_count": null,
   "id": "0d9aba83",
   "metadata": {
    "scrolled": true
   },
   "outputs": [],
   "source": [
    "project_csv_df = pd.DataFrame(project_csv)\n",
    "project_csv_df"
   ]
  },
  {
   "cell_type": "code",
   "execution_count": null,
   "id": "a5c3b3e4",
   "metadata": {},
   "outputs": [],
   "source": [
    "#sql query"
   ]
  },
  {
   "cell_type": "code",
   "execution_count": null,
   "id": "5f59bc9e",
   "metadata": {},
   "outputs": [],
   "source": [
    "sql_df3 = 'SELECT DISTINCT(ROUTE_DIRECTION_NAME),ROUTE_ABBR, OPERATOR, AVG(ACTUAL_HDWY), AVG(DWELL_IN_MINS), ADHERENCE FROM project_csv_df WHERE ACTUAL_HDWY IS NOT NULL GROUP BY ROUTE_ABBR ORDER BY AVG(ADHERENCE) DESC'\n",
    "sqldf(sql_df3, globals())\n",
    "SQLDF = sqldf(sql_df3, globals())\n",
    "SQLDF"
   ]
  },
  {
   "cell_type": "code",
   "execution_count": null,
   "id": "4922da3d",
   "metadata": {},
   "outputs": [],
   "source": [
    "#headway groupby"
   ]
  },
  {
   "cell_type": "code",
   "execution_count": null,
   "id": "7fffc2c6",
   "metadata": {},
   "outputs": [],
   "source": [
    "hdwy_gb = project_csv_df.groupby(['OPERATOR'],as_index = False)['HDWY_DEV'].sum()\n",
    "hdwy_gb"
   ]
  },
  {
   "cell_type": "markdown",
   "id": "88124c18",
   "metadata": {},
   "source": [
    "# correlation matrix"
   ]
  },
  {
   "cell_type": "code",
   "execution_count": null,
   "id": "49284beb",
   "metadata": {
    "scrolled": true
   },
   "outputs": [],
   "source": [
    "rs = np.random.RandomState(0)\n",
    "df = pd.DataFrame(rs.rand(10, 10))\n",
    "corr = SQLDF.corr()\n",
    "corr.style.background_gradient(cmap='coolwarm')"
   ]
  },
  {
   "cell_type": "markdown",
   "id": "1e64b695",
   "metadata": {},
   "source": [
    "# heat map"
   ]
  },
  {
   "cell_type": "code",
   "execution_count": null,
   "id": "65583678",
   "metadata": {},
   "outputs": [],
   "source": [
    "f = plt.figure(figsize=(19, 15))\n",
    "plt.matshow(SQLDF.corr(), fignum=f.number)\n",
    "plt.xticks(range(SQLDF.select_dtypes(['number']).shape[1]), SQLDF.select_dtypes(['number']).columns, fontsize=14, rotation=45)\n",
    "plt.yticks(range(SQLDF.select_dtypes(['number']).shape[1]), SQLDF.select_dtypes(['number']).columns, fontsize=14)\n",
    "cb = plt.colorbar()\n",
    "cb.ax.tick_params(labelsize=14)\n",
    "plt.title('Correlation Matrix', fontsize=16);"
   ]
  },
  {
   "cell_type": "code",
   "execution_count": null,
   "id": "d6d3d56b",
   "metadata": {},
   "outputs": [],
   "source": [
    "#drop df"
   ]
  },
  {
   "cell_type": "code",
   "execution_count": null,
   "id": "a15692dc",
   "metadata": {},
   "outputs": [],
   "source": [
    "drop_df = project_csv_df.drop(project_csv_df.columns[[0,1,2,3,5,7,10,11,12,13,14,21,22,23,24,25,26,27,28]], axis=1)\n",
    "drop_df "
   ]
  },
  {
   "cell_type": "code",
   "execution_count": null,
   "id": "cb0720e3",
   "metadata": {
    "scrolled": true
   },
   "outputs": [],
   "source": [
    "sql_df2 = 'SELECT ROUTE_ABBR, OPERATOR, AVG(DWELL_IN_MINS) AS DWELL_IN_MINS, AVG(ACTUAL_HDWY) AS ACTUAL_HDWY, ROUTE_DIRECTION_NAME, AVG(ADHERENCE) AS AVG_ADHERENCE FROM drop_df WHERE DWELL_IN_MINS > 0 GROUP BY ROUTE_ABBR ORDER BY DWELL_IN_MINS DESC'\n",
    "sqldf(sql_df2, globals())\n",
    "question_6_1 = sqldf(sql_df2, globals())\n",
    "question_6_1"
   ]
  },
  {
   "cell_type": "code",
   "execution_count": null,
   "id": "23c72be7",
   "metadata": {},
   "outputs": [],
   "source": [
    "sql_df3 = 'SELECT ROUTE_ABBR, OPERATOR, AVG(DWELL_IN_MINS) AS DWELL_IN_MINS, AVG(ACTUAL_HDWY) AS ACTUAL_HDWY, AVG(ROUTE_DIRECTION_NAME), AVG(ADHERENCE) AS AVG_ADHERENCE FROM drop_df WHERE DWELL_IN_MINS > 0 GROUP BY ROUTE_ABBR ORDER BY DWELL_IN_MINS DESC'\n",
    "sqldf(sql_df3, globals())\n",
    "question_6_2 = sqldf(sql_df3, globals())\n",
    "question_6_2"
   ]
  },
  {
   "cell_type": "code",
   "execution_count": null,
   "id": "0b89305b",
   "metadata": {},
   "outputs": [],
   "source": [
    "rename_df = question_6_1.rename(columns= {'ROUTE_ABBR': 'ROUTE ABBR', 'DWELL_IN_MINS': 'AVG DWELL IN MINS', 'AVG_ADHERENCE': 'AVG ADHERENCE', 'ACTUAL_HDWY' : 'AVG ACTUAL HDWY'})\n",
    "rename_df"
   ]
  },
  {
   "cell_type": "markdown",
   "id": "bfa87752",
   "metadata": {},
   "source": [
    "# 3d graph"
   ]
  },
  {
   "cell_type": "code",
   "execution_count": null,
   "id": "df44aa85",
   "metadata": {},
   "outputs": [],
   "source": [
    "fig = plt.figure(figsize= (16,9))\n",
    "ax = fig.add_subplot(111, projection= '3d')\n",
    "x= rename_df['AVG DWELL IN MINS']\n",
    "y= rename_df['AVG ADHERENCE']\n",
    "z= rename_df['ROUTE ABBR']\n",
    "colors = np.random.rand(8)\n",
    "\n",
    "\n",
    "ax.set_xlabel('DWELL IN MINS')\n",
    "ax.set_ylabel('AVG ADHERENCE')\n",
    "ax.set_zlabel('ROUTE')\n",
    "\n",
    "\n",
    "cb = ax.scatter3D(x, y, z, s=z*15, c=colors, cmap='coolwarm')\n",
    "plt.colorbar(cb)\n",
    "\n",
    "\n",
    "plt.show()"
   ]
  },
  {
   "cell_type": "code",
   "execution_count": null,
   "id": "a74d8fe1",
   "metadata": {},
   "outputs": [],
   "source": [
    "#describe"
   ]
  },
  {
   "cell_type": "code",
   "execution_count": null,
   "id": "ad2eb094",
   "metadata": {},
   "outputs": [],
   "source": [
    "describe= rename_df.describe()\n",
    "describe"
   ]
  },
  {
   "cell_type": "code",
   "execution_count": null,
   "id": "a4c48034",
   "metadata": {},
   "outputs": [],
   "source": [
    "#route_graph"
   ]
  },
  {
   "cell_type": "code",
   "execution_count": null,
   "id": "9d0fc562",
   "metadata": {},
   "outputs": [],
   "source": [
    "labels = [7, 22, 3, 23, 55, 50, 52, 56]\n",
    "AVG_ACTUAL_HDWY = [24.49, 31.04, 25.04, 18.34, 14.01, 20.28, 20.30, 14.18]\n",
    "AVG_DWELL_IN_MINS = [12.48, 11.32, 10.62, 10.36, 9.79, 9.78, 8.87, 8.62]\n",
    "AVG_ADHERENCE = [-2.34, -1.55, -2.40, -1.74, -2.40, -2.76, -2.24, -2.26]\n",
    "\n",
    "x = np.arange(len(labels))\n",
    "width = 0.5\n",
    "\n",
    "fig, ax = plt.subplots()\n",
    "rects1 = ax.bar(x - width/2, AVG_ACTUAL_HDWY, width, label= 'AVG ACTUAL HDWY')\n",
    "rects2 = ax.bar(x + width/2, AVG_DWELL_IN_MINS, width, label= 'AVG DWELL IN MINS')\n",
    "rects3 = ax.bar(x + width/2, AVG_ADHERENCE, width, label= 'AVG ADHERENCE')\n",
    "colors=np.random.rand(3)\n",
    "\n",
    "ax.set_ylabel('MINS')\n",
    "ax.set_title('Average Headway, Dwell Time, Adherence')\n",
    "ax.set_xticks(x, labels)\n",
    "ax.legend()\n",
    "\n",
    "ax.bar_label(rects1, label_type='edge', color='black', padding= -2, fontsize=13)\n",
    "ax.bar_label(rects2, label_type='center', color ='white', fontsize= 14)\n",
    "ax.bar_label(rects3, label_type='center', color ='white', padding = -15, fontsize=14)\n",
    "\n",
    "fig.tight_layout()\n",
    "plt.show()"
   ]
  },
  {
   "cell_type": "code",
   "execution_count": null,
   "id": "dcc05d91",
   "metadata": {},
   "outputs": [],
   "source": [
    "# direction graph"
   ]
  },
  {
   "cell_type": "code",
   "execution_count": null,
   "id": "8702dfb8",
   "metadata": {},
   "outputs": [],
   "source": [
    "f = plt.figure(figsize=(30, 15))\n",
    "\n",
    "labels = ['7 TO', '22 TO', '3 TO', '23 FROM', '55 TO', '50 TO', '52 FROM', '56 TO']\n",
    "AVG_ACTUAL_HDWY = [24.49, 31.04, 25.04, 18.34, 14.01, 20.28, 20.30, 14.18]\n",
    "AVG_DWELL_IN_MINS = [12.48, 11.32, 10.62, 10.36, 9.79, 9.78, 8.87, 8.62]\n",
    "AVG_ADHERENCE = [-2.34, -1.55, -2.40, -1.74, -2.40, -2.76, -2.24, -2.26]\n",
    "\n",
    "x = np.arange(len(labels))\n",
    "width = 0.5\n",
    "\n",
    "fig, ax = plt.subplots()\n",
    "rects1 = ax.bar(x - width/2, AVG_ACTUAL_HDWY, width, label= 'AVG ACTUAL HDWY')\n",
    "rects2 = ax.bar(x + width/2, AVG_DWELL_IN_MINS, width, label= 'AVG DWELL IN MINS')\n",
    "rects3 = ax.bar(x + width/2, AVG_ADHERENCE, width, label= 'AVG ADHERENCE')\n",
    "colors=np.random.rand(3)\n",
    "\n",
    "ax.set_ylabel('MINS')\n",
    "ax.set_title('Average Headway, Dwell Time, Adherence')\n",
    "ax.set_xticks(x, labels)\n",
    "ax.legend()\n",
    "\n",
    "ax.bar_label(rects1, label_type='edge', color='black', padding=-2, fontsize=13)\n",
    "ax.bar_label(rects2, label_type='center', color ='white', fontsize= 14)\n",
    "ax.bar_label(rects3, label_type='center', color ='white', padding = -15, fontsize=14)\n",
    "\n",
    "fig.tight_layout()\n",
    "plt.show()"
   ]
  },
  {
   "cell_type": "code",
   "execution_count": null,
   "id": "11e597fc",
   "metadata": {},
   "outputs": [],
   "source": [
    "#direction_groupby"
   ]
  },
  {
   "cell_type": "code",
   "execution_count": null,
   "id": "dd4e58d3",
   "metadata": {},
   "outputs": [],
   "source": [
    "direction = pd.DataFrame({\n",
    "    'Direction': ['To', 'To', 'To', 'From', 'To', 'To', 'From', 'To'],\n",
    "    'AVG_ACTUAL_HDWY': [24.49, 31.04, 25.04, 18.34, 14.01, 20.28, 20.30, 14.18],\n",
    "    'AVG_DWELL_IN_MINS' : [12.48, 11.32, 10.62, 10.36, 9.79, 9.78, 8.87, 8.62],\n",
    "    'AVG_ADHERENCE' : [-2.34, -1.55, -2.40, -1.74, -2.40, -2.76, -2.24, -2.26]\n",
    "})\n",
    "direction\n",
    "\n",
    "direction.groupby('Direction', as_index=True)[['AVG_ACTUAL_HDWY', 'AVG_DWELL_IN_MINS', 'AVG_ADHERENCE']].mean()\n"
   ]
  },
  {
   "cell_type": "markdown",
   "id": "c6c30038",
   "metadata": {},
   "source": [
    "# ACTUAL DIRECTION GRAPH"
   ]
  },
  {
   "cell_type": "code",
   "execution_count": null,
   "id": "9c24377d",
   "metadata": {},
   "outputs": [],
   "source": [
    "f = plt.figure(figsize=(30, 15))\n",
    "\n",
    "sns.color_palette('Paired')\n",
    "\n",
    "labels = ['From', 'To']\n",
    "AVG_ACTUAL_HDWY = [19.32, 21.51]\n",
    "AVG_DWELL_IN_MINS = [9.62, 10.43]\n",
    "AVG_ADHERENCE = [-1.99, -2.29]\n",
    "\n",
    "x = np.arange(len(labels))\n",
    "width = 0.5\n",
    "\n",
    "fig, ax = plt.subplots()\n",
    "rects1 = ax.bar(x - width/2, AVG_ACTUAL_HDWY, width, label= 'Avg Actual Headway')\n",
    "rects2 = ax.bar(x + width/2, AVG_DWELL_IN_MINS, width, label= 'Avg Dwell in Mins')\n",
    "rects3 = ax.bar(x + width/2, AVG_ADHERENCE, width, label= 'Avg Adherence')\n",
    "colors=np.random.rand(3)\n",
    "\n",
    "ax.set_ylabel('MINS')\n",
    "ax.set_title('Average Headway, Dwell Time, Adherence')\n",
    "ax.set_xticks(x, labels)\n",
    "ax.legend(\n",
    "         fontsize = 14,\n",
    "         bbox_to_anchor = (1.02, 0.7))\n",
    "\n",
    "ax.bar_label(rects1, label_type='edge', color='black', padding=-2, fontsize=12)\n",
    "ax.bar_label(rects2, label_type='edge', color ='black', fontsize= 12)\n",
    "ax.bar_label(rects3, label_type='center', color ='black', fontsize=12)\n",
    "\n",
    "plt.show();"
   ]
  },
  {
   "cell_type": "markdown",
   "id": "63fb46e6",
   "metadata": {},
   "source": [
    "# AVG actual hdwy pie"
   ]
  },
  {
   "cell_type": "code",
   "execution_count": null,
   "id": "3c8f8121",
   "metadata": {},
   "outputs": [],
   "source": [
    "x= np.array([19.32, 21.52])\n",
    "mylabels = ['From', 'To']\n",
    "\n",
    "sns.color_palette('Paired')\n",
    "\n",
    "fig, ax = plt.subplots(figsize=(6, 6))\n",
    "\n",
    "ax.pie(x, labels = mylabels, autopct='%.1f%%')\n",
    "ax.set_title('Average Headway To/From')\n",
    "plt.tight_layout()\n",
    "\n",
    "plt.show()\n"
   ]
  },
  {
   "cell_type": "markdown",
   "id": "ed48a132",
   "metadata": {},
   "source": [
    "# AVG Dwell in Mins PIE"
   ]
  },
  {
   "cell_type": "code",
   "execution_count": null,
   "id": "d04a2ff2",
   "metadata": {},
   "outputs": [],
   "source": [
    "x= np.array([9.62, 10.43 ])\n",
    "mylabels = ['From', 'To']\n",
    "\n",
    "sns.color_palette('Paired')\n",
    "\n",
    "fig, ax = plt.subplots(figsize=(6, 6))\n",
    "\n",
    "ax.pie(x, labels = mylabels, autopct='%.1f%%')\n",
    "ax.set_title('Average Dwell in Mins To/From')\n",
    "plt.tight_layout()\n",
    "\n",
    "plt.show()"
   ]
  },
  {
   "cell_type": "code",
   "execution_count": null,
   "id": "b4eebf12",
   "metadata": {},
   "outputs": [],
   "source": [
    "x= np.array([1.99, 2.29 ])\n",
    "mylabels = ['From', 'To']\n",
    "\n",
    "sns.color_palette('Paired')\n",
    "\n",
    "fig, ax = plt.subplots(figsize=(6, 6))\n",
    "\n",
    "ax.pie(x, labels = mylabels, autopct='%.1f%%')\n",
    "ax.set_title('Average Adherence (Negative)')\n",
    "plt.tight_layout()\n",
    "\n",
    "plt.show()"
   ]
  },
  {
   "cell_type": "code",
   "execution_count": null,
   "id": "ad199f8d",
   "metadata": {},
   "outputs": [],
   "source": []
  }
 ],
 "metadata": {
  "kernelspec": {
   "display_name": "Python 3 (ipykernel)",
   "language": "python",
   "name": "python3"
  },
  "language_info": {
   "codemirror_mode": {
    "name": "ipython",
    "version": 3
   },
   "file_extension": ".py",
   "mimetype": "text/x-python",
   "name": "python",
   "nbconvert_exporter": "python",
   "pygments_lexer": "ipython3",
   "version": "3.9.12"
  }
 },
 "nbformat": 4,
 "nbformat_minor": 5
}
