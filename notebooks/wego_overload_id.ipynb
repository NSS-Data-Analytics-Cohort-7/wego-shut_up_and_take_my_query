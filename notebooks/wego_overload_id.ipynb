{
 "cells": [
  {
   "cell_type": "code",
   "execution_count": 12,
   "metadata": {},
   "outputs": [],
   "source": [
    "import pandas as pd\n",
    "import numpy as np\n",
    "import matplotlib.pyplot as plt\n",
    "import seaborn as sns\n",
    "from datetime import datetime\n",
    "%matplotlib inline"
   ]
  },
  {
   "cell_type": "code",
   "execution_count": 13,
   "metadata": {},
   "outputs": [],
   "source": [
    "df = pd.read_csv(r\"C:\\Users\\jhank\\Desktop\\DA7\\Projects\\wego-shut_up_and_take_my_query\\data\\Headway Data.csv\")\n",
    "#df = pd.read_csv(r\"/home/jwhankins177/projects/wego/data/Headway Data.csv\")"
   ]
  },
  {
   "cell_type": "code",
   "execution_count": 14,
   "metadata": {},
   "outputs": [
    {
     "name": "stdout",
     "output_type": "stream",
     "text": [
      "<class 'pandas.core.frame.DataFrame'>\n",
      "RangeIndex: 1981715 entries, 0 to 1981714\n",
      "Data columns (total 30 columns):\n",
      " #   Column                     Dtype  \n",
      "---  ------                     -----  \n",
      " 0   CALENDAR_ID                int64  \n",
      " 1   SERVICE_ABBR               int64  \n",
      " 2   ADHERENCE_ID               int64  \n",
      " 3   DATE                       object \n",
      " 4   ROUTE_ABBR                 int64  \n",
      " 5   BLOCK_ABBR                 int64  \n",
      " 6   OPERATOR                   int64  \n",
      " 7   TRIP_ID                    int64  \n",
      " 8   OVERLOAD_ID                int64  \n",
      " 9   ROUTE_DIRECTION_NAME       object \n",
      " 10  TIME_POINT_ABBR            object \n",
      " 11  ROUTE_STOP_SEQUENCE        float64\n",
      " 12  TRIP_EDGE                  int64  \n",
      " 13  LATITUDE                   float64\n",
      " 14  LONGITUDE                  float64\n",
      " 15  SCHEDULED_TIME             object \n",
      " 16  ACTUAL_ARRIVAL_TIME        object \n",
      " 17  ACTUAL_DEPARTURE_TIME      object \n",
      " 18  ADHERENCE                  float64\n",
      " 19  SCHEDULED_HDWY             float64\n",
      " 20  ACTUAL_HDWY                float64\n",
      " 21  HDWY_DEV                   float64\n",
      " 22  ADJUSTED_EARLY_COUNT       int64  \n",
      " 23  ADJUSTED_LATE_COUNT        int64  \n",
      " 24  ADJUSTED_ONTIME_COUNT      int64  \n",
      " 25  STOP_CANCELLED             int64  \n",
      " 26  PREV_SCHED_STOP_CANCELLED  float64\n",
      " 27  IS_RELIEF                  int64  \n",
      " 28  BLOCK_STOP_ORDER           int64  \n",
      " 29  DWELL_IN_MINS              float64\n",
      "dtypes: float64(9), int64(15), object(6)\n",
      "memory usage: 453.6+ MB\n"
     ]
    }
   ],
   "source": [
    "df.info()"
   ]
  },
  {
   "cell_type": "code",
   "execution_count": 15,
   "metadata": {},
   "outputs": [
    {
     "data": {
      "text/plain": [
       "0          14:10:00  \n",
       "1          14:20:00  \n",
       "2          14:39:00  \n",
       "3          15:10:00  \n",
       "4          15:27:00  \n",
       "              ...    \n",
       "1981710    15:18:00  \n",
       "1981711    15:20:00  \n",
       "1981712    15:37:00  \n",
       "1981713    15:20:00  \n",
       "1981714    15:30:00  \n",
       "Name: SCHEDULED_TIME, Length: 1981715, dtype: object"
      ]
     },
     "execution_count": 15,
     "metadata": {},
     "output_type": "execute_result"
    }
   ],
   "source": [
    "df['SCHEDULED_TIME']"
   ]
  },
  {
   "cell_type": "code",
   "execution_count": 10,
   "metadata": {},
   "outputs": [],
   "source": [
    "df['SCHEDULED_TIME'] = datetime.now()"
   ]
  },
  {
   "cell_type": "code",
   "execution_count": 11,
   "metadata": {},
   "outputs": [
    {
     "data": {
      "text/plain": [
       "0         2022-11-10 20:42:09.276909\n",
       "1         2022-11-10 20:42:09.276909\n",
       "2         2022-11-10 20:42:09.276909\n",
       "3         2022-11-10 20:42:09.276909\n",
       "4         2022-11-10 20:42:09.276909\n",
       "                     ...            \n",
       "1981710   2022-11-10 20:42:09.276909\n",
       "1981711   2022-11-10 20:42:09.276909\n",
       "1981712   2022-11-10 20:42:09.276909\n",
       "1981713   2022-11-10 20:42:09.276909\n",
       "1981714   2022-11-10 20:42:09.276909\n",
       "Name: SCHEDULED_TIME, Length: 1981715, dtype: datetime64[ns]"
      ]
     },
     "execution_count": 11,
     "metadata": {},
     "output_type": "execute_result"
    }
   ],
   "source": [
    "df['SCHEDULED_TIME']"
   ]
  },
  {
   "cell_type": "code",
   "execution_count": 86,
   "metadata": {},
   "outputs": [
    {
     "data": {
      "text/html": [
       "<div>\n",
       "<style scoped>\n",
       "    .dataframe tbody tr th:only-of-type {\n",
       "        vertical-align: middle;\n",
       "    }\n",
       "\n",
       "    .dataframe tbody tr th {\n",
       "        vertical-align: top;\n",
       "    }\n",
       "\n",
       "    .dataframe thead th {\n",
       "        text-align: right;\n",
       "    }\n",
       "</style>\n",
       "<table border=\"1\" class=\"dataframe\">\n",
       "  <thead>\n",
       "    <tr style=\"text-align: right;\">\n",
       "      <th></th>\n",
       "      <th>CALENDAR_ID</th>\n",
       "      <th>SERVICE_ABBR</th>\n",
       "      <th>ADHERENCE_ID</th>\n",
       "      <th>DATE</th>\n",
       "      <th>ROUTE_ABBR</th>\n",
       "      <th>BLOCK_ABBR</th>\n",
       "      <th>OPERATOR</th>\n",
       "      <th>TRIP_ID</th>\n",
       "      <th>OVERLOAD_ID</th>\n",
       "      <th>ROUTE_DIRECTION_NAME</th>\n",
       "      <th>...</th>\n",
       "      <th>ACTUAL_HDWY</th>\n",
       "      <th>HDWY_DEV</th>\n",
       "      <th>ADJUSTED_EARLY_COUNT</th>\n",
       "      <th>ADJUSTED_LATE_COUNT</th>\n",
       "      <th>ADJUSTED_ONTIME_COUNT</th>\n",
       "      <th>STOP_CANCELLED</th>\n",
       "      <th>PREV_SCHED_STOP_CANCELLED</th>\n",
       "      <th>IS_RELIEF</th>\n",
       "      <th>BLOCK_STOP_ORDER</th>\n",
       "      <th>DWELL_IN_MINS</th>\n",
       "    </tr>\n",
       "  </thead>\n",
       "  <tbody>\n",
       "    <tr>\n",
       "      <th>0</th>\n",
       "      <td>120211101</td>\n",
       "      <td>1</td>\n",
       "      <td>76447164</td>\n",
       "      <td>2021-11-01</td>\n",
       "      <td>7</td>\n",
       "      <td>1704</td>\n",
       "      <td>2088</td>\n",
       "      <td>297750</td>\n",
       "      <td>0</td>\n",
       "      <td>TO DOWNTOWN</td>\n",
       "      <td>...</td>\n",
       "      <td>15.983333</td>\n",
       "      <td>1.983333</td>\n",
       "      <td>0</td>\n",
       "      <td>0</td>\n",
       "      <td>1</td>\n",
       "      <td>0</td>\n",
       "      <td>0.0</td>\n",
       "      <td>0</td>\n",
       "      <td>2</td>\n",
       "      <td>12.650000</td>\n",
       "    </tr>\n",
       "    <tr>\n",
       "      <th>1</th>\n",
       "      <td>120211101</td>\n",
       "      <td>1</td>\n",
       "      <td>76447165</td>\n",
       "      <td>2021-11-01</td>\n",
       "      <td>7</td>\n",
       "      <td>1704</td>\n",
       "      <td>2088</td>\n",
       "      <td>297750</td>\n",
       "      <td>0</td>\n",
       "      <td>TO DOWNTOWN</td>\n",
       "      <td>...</td>\n",
       "      <td>17.333333</td>\n",
       "      <td>3.333333</td>\n",
       "      <td>0</td>\n",
       "      <td>0</td>\n",
       "      <td>1</td>\n",
       "      <td>0</td>\n",
       "      <td>0.0</td>\n",
       "      <td>0</td>\n",
       "      <td>11</td>\n",
       "      <td>0.000000</td>\n",
       "    </tr>\n",
       "    <tr>\n",
       "      <th>2</th>\n",
       "      <td>120211101</td>\n",
       "      <td>1</td>\n",
       "      <td>76447166</td>\n",
       "      <td>2021-11-01</td>\n",
       "      <td>7</td>\n",
       "      <td>1704</td>\n",
       "      <td>2088</td>\n",
       "      <td>297750</td>\n",
       "      <td>0</td>\n",
       "      <td>TO DOWNTOWN</td>\n",
       "      <td>...</td>\n",
       "      <td>NaN</td>\n",
       "      <td>NaN</td>\n",
       "      <td>0</td>\n",
       "      <td>1</td>\n",
       "      <td>0</td>\n",
       "      <td>0</td>\n",
       "      <td>NaN</td>\n",
       "      <td>0</td>\n",
       "      <td>23</td>\n",
       "      <td>22.416666</td>\n",
       "    </tr>\n",
       "    <tr>\n",
       "      <th>3</th>\n",
       "      <td>120211101</td>\n",
       "      <td>1</td>\n",
       "      <td>76447167</td>\n",
       "      <td>2021-11-01</td>\n",
       "      <td>50</td>\n",
       "      <td>1704</td>\n",
       "      <td>2088</td>\n",
       "      <td>297749</td>\n",
       "      <td>0</td>\n",
       "      <td>TO DOWNTOWN</td>\n",
       "      <td>...</td>\n",
       "      <td>NaN</td>\n",
       "      <td>NaN</td>\n",
       "      <td>0</td>\n",
       "      <td>0</td>\n",
       "      <td>1</td>\n",
       "      <td>0</td>\n",
       "      <td>0.0</td>\n",
       "      <td>0</td>\n",
       "      <td>24</td>\n",
       "      <td>5.766666</td>\n",
       "    </tr>\n",
       "    <tr>\n",
       "      <th>4</th>\n",
       "      <td>120211101</td>\n",
       "      <td>1</td>\n",
       "      <td>76447168</td>\n",
       "      <td>2021-11-01</td>\n",
       "      <td>50</td>\n",
       "      <td>1704</td>\n",
       "      <td>2088</td>\n",
       "      <td>297749</td>\n",
       "      <td>0</td>\n",
       "      <td>TO DOWNTOWN</td>\n",
       "      <td>...</td>\n",
       "      <td>NaN</td>\n",
       "      <td>NaN</td>\n",
       "      <td>0</td>\n",
       "      <td>0</td>\n",
       "      <td>1</td>\n",
       "      <td>0</td>\n",
       "      <td>NaN</td>\n",
       "      <td>0</td>\n",
       "      <td>25</td>\n",
       "      <td>0.000000</td>\n",
       "    </tr>\n",
       "  </tbody>\n",
       "</table>\n",
       "<p>5 rows × 30 columns</p>\n",
       "</div>"
      ],
      "text/plain": [
       "   CALENDAR_ID  SERVICE_ABBR  ADHERENCE_ID        DATE  ROUTE_ABBR  \\\n",
       "0    120211101             1      76447164  2021-11-01           7   \n",
       "1    120211101             1      76447165  2021-11-01           7   \n",
       "2    120211101             1      76447166  2021-11-01           7   \n",
       "3    120211101             1      76447167  2021-11-01          50   \n",
       "4    120211101             1      76447168  2021-11-01          50   \n",
       "\n",
       "   BLOCK_ABBR  OPERATOR  TRIP_ID  OVERLOAD_ID ROUTE_DIRECTION_NAME  ...  \\\n",
       "0        1704      2088   297750            0          TO DOWNTOWN  ...   \n",
       "1        1704      2088   297750            0          TO DOWNTOWN  ...   \n",
       "2        1704      2088   297750            0          TO DOWNTOWN  ...   \n",
       "3        1704      2088   297749            0          TO DOWNTOWN  ...   \n",
       "4        1704      2088   297749            0          TO DOWNTOWN  ...   \n",
       "\n",
       "  ACTUAL_HDWY  HDWY_DEV  ADJUSTED_EARLY_COUNT  ADJUSTED_LATE_COUNT  \\\n",
       "0   15.983333  1.983333                     0                    0   \n",
       "1   17.333333  3.333333                     0                    0   \n",
       "2         NaN       NaN                     0                    1   \n",
       "3         NaN       NaN                     0                    0   \n",
       "4         NaN       NaN                     0                    0   \n",
       "\n",
       "   ADJUSTED_ONTIME_COUNT STOP_CANCELLED PREV_SCHED_STOP_CANCELLED IS_RELIEF  \\\n",
       "0                      1              0                       0.0         0   \n",
       "1                      1              0                       0.0         0   \n",
       "2                      0              0                       NaN         0   \n",
       "3                      1              0                       0.0         0   \n",
       "4                      1              0                       NaN         0   \n",
       "\n",
       "   BLOCK_STOP_ORDER  DWELL_IN_MINS  \n",
       "0                 2      12.650000  \n",
       "1                11       0.000000  \n",
       "2                23      22.416666  \n",
       "3                24       5.766666  \n",
       "4                25       0.000000  \n",
       "\n",
       "[5 rows x 30 columns]"
      ]
     },
     "execution_count": 86,
     "metadata": {},
     "output_type": "execute_result"
    }
   ],
   "source": [
    "df.head()"
   ]
  },
  {
   "cell_type": "code",
   "execution_count": null,
   "metadata": {},
   "outputs": [
    {
     "name": "stdout",
     "output_type": "stream",
     "text": [
      "<class 'pandas.core.frame.DataFrame'>\n",
      "RangeIndex: 1981715 entries, 0 to 1981714\n",
      "Data columns (total 5 columns):\n",
      " #   Column               Dtype  \n",
      "---  ------               -----  \n",
      " 0   ROUTE_ABBR           int64  \n",
      " 1   OVERLOAD_ID          int64  \n",
      " 2   HDWY_DEV             float64\n",
      " 3   ADJUSTED_LATE_COUNT  int64  \n",
      " 4   DWELL_IN_MINS        float64\n",
      "dtypes: float64(2), int64(3)\n",
      "memory usage: 75.6 MB\n"
     ]
    }
   ],
   "source": [
    "route_info = df[['ROUTE_ABBR','OVERLOAD_ID','HDWY_DEV','ADJUSTED_LATE_COUNT','DWELL_IN_MINS']]\n",
    "route_info.info()"
   ]
  },
  {
   "cell_type": "code",
   "execution_count": null,
   "metadata": {},
   "outputs": [
    {
     "name": "stderr",
     "output_type": "stream",
     "text": [
      "C:\\Users\\jhank\\AppData\\Local\\Temp\\ipykernel_22236\\3009095329.py:1: SettingWithCopyWarning: \n",
      "A value is trying to be set on a copy of a slice from a DataFrame.\n",
      "Try using .loc[row_indexer,col_indexer] = value instead\n",
      "\n",
      "See the caveats in the documentation: https://pandas.pydata.org/pandas-docs/stable/user_guide/indexing.html#returning-a-view-versus-a-copy\n",
      "  route_info['DWELL_IN_MINS'] = round(route_info['DWELL_IN_MINS'])\n"
     ]
    }
   ],
   "source": [
    "route_info['DWELL_IN_MINS'] = round(route_info['DWELL_IN_MINS'])"
   ]
  },
  {
   "cell_type": "code",
   "execution_count": null,
   "metadata": {},
   "outputs": [
    {
     "data": {
      "text/html": [
       "<div>\n",
       "<style scoped>\n",
       "    .dataframe tbody tr th:only-of-type {\n",
       "        vertical-align: middle;\n",
       "    }\n",
       "\n",
       "    .dataframe tbody tr th {\n",
       "        vertical-align: top;\n",
       "    }\n",
       "\n",
       "    .dataframe thead th {\n",
       "        text-align: right;\n",
       "    }\n",
       "</style>\n",
       "<table border=\"1\" class=\"dataframe\">\n",
       "  <thead>\n",
       "    <tr style=\"text-align: right;\">\n",
       "      <th></th>\n",
       "      <th>ROUTE_ABBR</th>\n",
       "      <th>OVERLOAD_ID</th>\n",
       "      <th>HDWY_DEV</th>\n",
       "      <th>ADJUSTED_LATE_COUNT</th>\n",
       "      <th>DWELL_IN_MINS</th>\n",
       "    </tr>\n",
       "  </thead>\n",
       "  <tbody>\n",
       "    <tr>\n",
       "      <th>0</th>\n",
       "      <td>7</td>\n",
       "      <td>0</td>\n",
       "      <td>1.983333</td>\n",
       "      <td>0</td>\n",
       "      <td>13.0</td>\n",
       "    </tr>\n",
       "    <tr>\n",
       "      <th>1</th>\n",
       "      <td>7</td>\n",
       "      <td>0</td>\n",
       "      <td>3.333333</td>\n",
       "      <td>0</td>\n",
       "      <td>0.0</td>\n",
       "    </tr>\n",
       "    <tr>\n",
       "      <th>2</th>\n",
       "      <td>7</td>\n",
       "      <td>0</td>\n",
       "      <td>NaN</td>\n",
       "      <td>1</td>\n",
       "      <td>22.0</td>\n",
       "    </tr>\n",
       "    <tr>\n",
       "      <th>3</th>\n",
       "      <td>50</td>\n",
       "      <td>0</td>\n",
       "      <td>NaN</td>\n",
       "      <td>0</td>\n",
       "      <td>6.0</td>\n",
       "    </tr>\n",
       "    <tr>\n",
       "      <th>4</th>\n",
       "      <td>50</td>\n",
       "      <td>0</td>\n",
       "      <td>NaN</td>\n",
       "      <td>0</td>\n",
       "      <td>0.0</td>\n",
       "    </tr>\n",
       "    <tr>\n",
       "      <th>5</th>\n",
       "      <td>22</td>\n",
       "      <td>0</td>\n",
       "      <td>NaN</td>\n",
       "      <td>0</td>\n",
       "      <td>12.0</td>\n",
       "    </tr>\n",
       "    <tr>\n",
       "      <th>6</th>\n",
       "      <td>22</td>\n",
       "      <td>0</td>\n",
       "      <td>NaN</td>\n",
       "      <td>0</td>\n",
       "      <td>0.0</td>\n",
       "    </tr>\n",
       "    <tr>\n",
       "      <th>7</th>\n",
       "      <td>22</td>\n",
       "      <td>0</td>\n",
       "      <td>NaN</td>\n",
       "      <td>0</td>\n",
       "      <td>0.0</td>\n",
       "    </tr>\n",
       "    <tr>\n",
       "      <th>8</th>\n",
       "      <td>22</td>\n",
       "      <td>0</td>\n",
       "      <td>NaN</td>\n",
       "      <td>0</td>\n",
       "      <td>0.0</td>\n",
       "    </tr>\n",
       "    <tr>\n",
       "      <th>9</th>\n",
       "      <td>22</td>\n",
       "      <td>0</td>\n",
       "      <td>NaN</td>\n",
       "      <td>0</td>\n",
       "      <td>11.0</td>\n",
       "    </tr>\n",
       "  </tbody>\n",
       "</table>\n",
       "</div>"
      ],
      "text/plain": [
       "   ROUTE_ABBR  OVERLOAD_ID  HDWY_DEV  ADJUSTED_LATE_COUNT  DWELL_IN_MINS\n",
       "0           7            0  1.983333                    0           13.0\n",
       "1           7            0  3.333333                    0            0.0\n",
       "2           7            0       NaN                    1           22.0\n",
       "3          50            0       NaN                    0            6.0\n",
       "4          50            0       NaN                    0            0.0\n",
       "5          22            0       NaN                    0           12.0\n",
       "6          22            0       NaN                    0            0.0\n",
       "7          22            0       NaN                    0            0.0\n",
       "8          22            0       NaN                    0            0.0\n",
       "9          22            0       NaN                    0           11.0"
      ]
     },
     "execution_count": 64,
     "metadata": {},
     "output_type": "execute_result"
    }
   ],
   "source": [
    "route_info.head(10)"
   ]
  },
  {
   "cell_type": "code",
   "execution_count": null,
   "metadata": {},
   "outputs": [
    {
     "data": {
      "text/plain": [
       "array([0, 1, 2, 3, 4, 5, 6], dtype=int64)"
      ]
     },
     "execution_count": 65,
     "metadata": {},
     "output_type": "execute_result"
    }
   ],
   "source": [
    "route_info['OVERLOAD_ID'].unique()"
   ]
  },
  {
   "cell_type": "code",
   "execution_count": null,
   "metadata": {},
   "outputs": [
    {
     "name": "stderr",
     "output_type": "stream",
     "text": [
      "C:\\Users\\jhank\\AppData\\Local\\Temp\\ipykernel_22236\\2064056450.py:1: FutureWarning: Indexing with multiple keys (implicitly converted to a tuple of keys) will be deprecated, use a list instead.\n",
      "  ri_overload = route_info.groupby(['OVERLOAD_ID'],as_index = False)['HDWY_DEV','ADJUSTED_LATE_COUNT','DWELL_IN_MINS'].mean()\n"
     ]
    }
   ],
   "source": [
    "ri_overload = route_info.groupby(['OVERLOAD_ID'],as_index = False)['HDWY_DEV','ADJUSTED_LATE_COUNT','DWELL_IN_MINS'].mean()"
   ]
  },
  {
   "cell_type": "code",
   "execution_count": null,
   "metadata": {},
   "outputs": [],
   "source": [
    "ri_overload['DWELL_IN_MINS'] = ri_overload['DWELL_IN_MINS'].round(2)"
   ]
  },
  {
   "cell_type": "code",
   "execution_count": null,
   "metadata": {},
   "outputs": [
    {
     "data": {
      "text/html": [
       "<div>\n",
       "<style scoped>\n",
       "    .dataframe tbody tr th:only-of-type {\n",
       "        vertical-align: middle;\n",
       "    }\n",
       "\n",
       "    .dataframe tbody tr th {\n",
       "        vertical-align: top;\n",
       "    }\n",
       "\n",
       "    .dataframe thead th {\n",
       "        text-align: right;\n",
       "    }\n",
       "</style>\n",
       "<table border=\"1\" class=\"dataframe\">\n",
       "  <thead>\n",
       "    <tr style=\"text-align: right;\">\n",
       "      <th></th>\n",
       "      <th>OVERLOAD_ID</th>\n",
       "      <th>HDWY_DEV</th>\n",
       "      <th>ADJUSTED_LATE_COUNT</th>\n",
       "      <th>DWELL_IN_MINS</th>\n",
       "    </tr>\n",
       "  </thead>\n",
       "  <tbody>\n",
       "    <tr>\n",
       "      <th>0</th>\n",
       "      <td>0</td>\n",
       "      <td>0.368416</td>\n",
       "      <td>0.103376</td>\n",
       "      <td>2.87</td>\n",
       "    </tr>\n",
       "    <tr>\n",
       "      <th>1</th>\n",
       "      <td>1</td>\n",
       "      <td>-0.214941</td>\n",
       "      <td>0.468124</td>\n",
       "      <td>1.02</td>\n",
       "    </tr>\n",
       "    <tr>\n",
       "      <th>2</th>\n",
       "      <td>2</td>\n",
       "      <td>-0.187011</td>\n",
       "      <td>0.357232</td>\n",
       "      <td>1.51</td>\n",
       "    </tr>\n",
       "    <tr>\n",
       "      <th>3</th>\n",
       "      <td>3</td>\n",
       "      <td>-0.613367</td>\n",
       "      <td>0.256445</td>\n",
       "      <td>1.90</td>\n",
       "    </tr>\n",
       "    <tr>\n",
       "      <th>4</th>\n",
       "      <td>4</td>\n",
       "      <td>-0.553265</td>\n",
       "      <td>0.084615</td>\n",
       "      <td>2.56</td>\n",
       "    </tr>\n",
       "  </tbody>\n",
       "</table>\n",
       "</div>"
      ],
      "text/plain": [
       "   OVERLOAD_ID  HDWY_DEV  ADJUSTED_LATE_COUNT  DWELL_IN_MINS\n",
       "0            0  0.368416             0.103376           2.87\n",
       "1            1 -0.214941             0.468124           1.02\n",
       "2            2 -0.187011             0.357232           1.51\n",
       "3            3 -0.613367             0.256445           1.90\n",
       "4            4 -0.553265             0.084615           2.56"
      ]
     },
     "execution_count": 76,
     "metadata": {},
     "output_type": "execute_result"
    }
   ],
   "source": [
    "ri_overload.head()"
   ]
  },
  {
   "cell_type": "code",
   "execution_count": null,
   "metadata": {},
   "outputs": [
    {
     "data": {
      "text/plain": [
       "<AxesSubplot:xlabel='OVERLOAD_ID', ylabel='DWELL_IN_MINS'>"
      ]
     },
     "execution_count": 78,
     "metadata": {},
     "output_type": "execute_result"
    },
    {
     "data": {
      "image/png": "[encoded data removed]",
      "text/plain": [
       "<Figure size 640x480 with 1 Axes>"
      ]
     },
     "metadata": {},
     "output_type": "display_data"
    }
   ],
   "source": [
    "sns.barplot(y = \"DWELL_IN_MINS\", x = 'OVERLOAD_ID',\n",
    "            palette=[\"m\", \"g\"],\n",
    "            data=ri_overload)"
   ]
  }
 ],
 "metadata": {
  "kernelspec": {
   "display_name": "Python 3.9.7 ('base')",
   "language": "python",
   "name": "python3"
  },
  "language_info": {
   "codemirror_mode": {
    "name": "ipython",
    "version": 3
   },
   "file_extension": ".py",
   "mimetype": "text/x-python",
   "name": "python",
   "nbconvert_exporter": "python",
   "pygments_lexer": "ipython3",
   "version": "3.9.7"
  },
  "orig_nbformat": 4,
  "vscode": {
   "interpreter": {
    "hash": "e83933c89791523ce27b9c1ac2fa3a2bbb0f839e7a6d72c2a74f34bb50225d36"
   }
  }
 },
 "nbformat": 4,
 "nbformat_minor": 2
}
