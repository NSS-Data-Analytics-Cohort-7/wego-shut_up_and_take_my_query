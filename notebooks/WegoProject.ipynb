{
 "cells": [
  {
   "cell_type": "code",
   "execution_count": null,
   "id": "890ac240",
   "metadata": {},
   "outputs": [],
   "source": [
    "import pandas as pd\n",
    "import numpy as np\n",
    "import matplotlib.pyplot as plt\n",
    "import seaborn as sns\n",
    "pd.options.display.max_columns = None\n"
   ]
  },
  {
   "cell_type": "code",
   "execution_count": null,
   "id": "9db69789",
   "metadata": {},
   "outputs": [],
   "source": [
    "bna_22 = pd.read_csv('../data/bna_2022.csv')"
   ]
  },
  {
   "cell_type": "code",
   "execution_count": null,
   "id": "7d5782b6",
   "metadata": {},
   "outputs": [],
   "source": [
    "bna_w = pd.read_csv('../data/bna_weather.csv')"
   ]
  },
  {
   "cell_type": "code",
   "execution_count": null,
   "id": "2d97554c",
   "metadata": {},
   "outputs": [],
   "source": [
    "hw_data = pd.read_csv('../data/Headway Data.csv')"
   ]
  },
  {
   "cell_type": "code",
   "execution_count": null,
   "id": "a309c8a9",
   "metadata": {},
   "outputs": [],
   "source": [
    "bna_22"
   ]
  },
  {
   "cell_type": "code",
   "execution_count": null,
   "id": "571fcf75",
   "metadata": {},
   "outputs": [],
   "source": [
    "bna_w"
   ]
  },
  {
   "cell_type": "code",
   "execution_count": null,
   "id": "62658315",
   "metadata": {},
   "outputs": [],
   "source": [
    "hw_data"
   ]
  },
  {
   "cell_type": "code",
   "execution_count": null,
   "id": "6ead7759",
   "metadata": {},
   "outputs": [],
   "source": [
    "display(hw_data)"
   ]
  },
  {
   "cell_type": "code",
   "execution_count": null,
   "id": "0ce73ccb",
   "metadata": {},
   "outputs": [],
   "source": [
    "print(hw_data.dtypes)"
   ]
  },
  {
   "cell_type": "code",
   "execution_count": null,
   "id": "b26daa38",
   "metadata": {},
   "outputs": [],
   "source": [
    "hw_data2 = hw_data[['ROUTE_STOP_SEQUENCE','TRIP_EDGE']]\n",
    "display(hw_data2)"
   ]
  },
  {
   "cell_type": "code",
   "execution_count": null,
   "id": "cc451305",
   "metadata": {},
   "outputs": [],
   "source": []
  }
 ],
 "metadata": {
  "kernelspec": {
   "display_name": "Python 3 (ipykernel)",
   "language": "python",
   "name": "python3"
  },
  "language_info": {
   "codemirror_mode": {
    "name": "ipython",
    "version": 3
   },
   "file_extension": ".py",
   "mimetype": "text/x-python",
   "name": "python",
   "nbconvert_exporter": "python",
   "pygments_lexer": "ipython3",
   "version": "3.9.7"
  }
 },
 "nbformat": 4,
 "nbformat_minor": 5
}
