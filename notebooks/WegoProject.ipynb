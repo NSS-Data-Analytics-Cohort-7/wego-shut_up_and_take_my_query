{
 "cells": [
  {
   "cell_type": "code",
   "execution_count": null,
   "id": "890ac240",
   "metadata": {},
   "outputs": [],
   "source": [
    "import pandas as pd\n",
    "import numpy as np\n",
    "import matplotlib.pyplot as plt\n",
    "import seaborn as sns\n",
    "pd.options.display.max_columns = None\n"
   ]
  },
  {
   "cell_type": "code",
   "execution_count": null,
   "id": "9db69789",
   "metadata": {},
   "outputs": [],
   "source": [
    "bna_22 = pd.read_csv('../data/bna_2022.csv')"
   ]
  },
  {
   "cell_type": "code",
   "execution_count": null,
   "id": "7d5782b6",
   "metadata": {},
   "outputs": [],
   "source": [
    "bna_w = pd.read_csv('../data/bna_weather.csv')"
   ]
  },
  {
   "cell_type": "code",
   "execution_count": null,
   "id": "2d97554c",
   "metadata": {},
   "outputs": [],
   "source": [
    "hw_data = pd.read_csv('../data/Headway Data.csv')"
   ]
  },
  {
   "cell_type": "code",
   "execution_count": null,
   "id": "a309c8a9",
   "metadata": {},
   "outputs": [],
   "source": [
    "bna_22"
   ]
  },
  {
   "cell_type": "code",
   "execution_count": null,
   "id": "571fcf75",
   "metadata": {},
   "outputs": [],
   "source": [
    "bna_w"
   ]
  },
  {
   "cell_type": "code",
   "execution_count": null,
   "id": "62658315",
   "metadata": {},
   "outputs": [],
   "source": [
    "hw_data"
   ]
  },
  {
   "cell_type": "code",
   "execution_count": null,
   "id": "6ead7759",
   "metadata": {},
   "outputs": [],
   "source": [
    "display(hw_data)"
   ]
  },
  {
   "cell_type": "code",
   "execution_count": null,
   "id": "0ce73ccb",
   "metadata": {},
   "outputs": [],
   "source": [
    "print(hw_data.dtypes)"
   ]
  },
  {
   "cell_type": "code",
   "execution_count": null,
   "id": "b26daa38",
   "metadata": {},
   "outputs": [],
   "source": [
    "hw_data2 = hw_data[['ROUTE_STOP_SEQUENCE','TRIP_EDGE']]\n",
    "display(hw_data2)"
   ]
  },
  {
   "cell_type": "code",
   "execution_count": null,
   "id": "cc451305",
   "metadata": {},
   "outputs": [],
   "source": [
    "oper = hw_data.groupby(['OPERATOR']).count()\n",
    "oper"
   ]
  },
  {
   "cell_type": "code",
   "execution_count": null,
   "id": "2e38f02e",
   "metadata": {
    "scrolled": true
   },
   "outputs": [],
   "source": [
    "posdev = hw_data.loc[hw_data['HDWY_DEV'] > 0]\n",
    "posdev"
   ]
  },
  {
   "cell_type": "code",
   "execution_count": null,
   "id": "5ba1502b",
   "metadata": {},
   "outputs": [],
   "source": [
    "negdev = hw_data.loc[hw_data['HDWY_DEV'] < 0]\n",
    "negdev"
   ]
  },
  {
   "cell_type": "code",
   "execution_count": null,
   "id": "f484f53b",
   "metadata": {},
   "outputs": [],
   "source": [
    "hw_data.groupby(['OPERATOR'])['ADHERENCE'].mean()"
   ]
  },
  {
   "cell_type": "code",
   "execution_count": null,
   "id": "05b7f92a",
   "metadata": {},
   "outputs": [],
   "source": [
    "fdownt = hw_data.loc[(hw_data['ROUTE_DIRECTION_NAME'] == 'FROM DOWNTOWN')]\n",
    "fdownt"
   ]
  },
  {
   "cell_type": "code",
   "execution_count": null,
   "id": "009c4557",
   "metadata": {},
   "outputs": [],
   "source": [
    "downdwell = fdownt[['ROUTE_DIRECTION_NAME','DWELL_IN_MINS']]\n",
    "downdwell"
   ]
  },
  {
   "cell_type": "code",
   "execution_count": null,
   "id": "28333239",
   "metadata": {},
   "outputs": [],
   "source": [
    "todownt = hw_data.loc[(hw_data['ROUTE_DIRECTION_NAME'] == 'TO DOWNTOWN')]\n",
    "todownt"
   ]
  },
  {
   "cell_type": "code",
   "execution_count": null,
   "id": "ec1d94d1",
   "metadata": {},
   "outputs": [],
   "source": [
    "todwell = todownt[['ROUTE_DIRECTION_NAME','DWELL_IN_MINS']]\n",
    "todwell"
   ]
  },
  {
   "cell_type": "markdown",
   "id": "21b34a6c",
   "metadata": {},
   "source": [
    "### here i am trying to convert the scheduled time from object to int so that i can subtract scheduled time and actual arrival time"
   ]
  },
  {
   "cell_type": "code",
   "execution_count": null,
   "id": "683e4969",
   "metadata": {},
   "outputs": [],
   "source": [
    "hw_data['SCHEDULED_TIME'] = hw_data['SCHEDULED_TIME'].astype(str).str[:8].astype(int)\n"
   ]
  },
  {
   "cell_type": "code",
   "execution_count": null,
   "id": "3aac0c1b",
   "metadata": {},
   "outputs": [],
   "source": [
    "print(hw_data.dtypes)"
   ]
  },
  {
   "cell_type": "code",
   "execution_count": null,
   "id": "a371ab78",
   "metadata": {},
   "outputs": [],
   "source": [
    "hw_data\n"
   ]
  },
  {
   "cell_type": "code",
   "execution_count": null,
   "id": "504f76dc",
   "metadata": {},
   "outputs": [],
   "source": [
    "hw_data['performance'] = hw_data['SCHEDULED_TIME'] - hw_data['ACTUAL_ARRIVAL_TIME']\n"
   ]
  },
  {
   "cell_type": "code",
   "execution_count": null,
   "id": "78ee896a",
   "metadata": {},
   "outputs": [],
   "source": [
    "print(hw_data[['performance']].head(20))"
   ]
  }
 ],
 "metadata": {
  "kernelspec": {
   "display_name": "Python 3 (ipykernel)",
   "language": "python",
   "name": "python3"
  },
  "language_info": {
   "codemirror_mode": {
    "name": "ipython",
    "version": 3
   },
   "file_extension": ".py",
   "mimetype": "text/x-python",
   "name": "python",
   "nbconvert_exporter": "python",
   "pygments_lexer": "ipython3",
   "version": "3.9.7"
  }
 },
 "nbformat": 4,
 "nbformat_minor": 5
}
