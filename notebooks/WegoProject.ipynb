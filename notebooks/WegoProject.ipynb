{
 "cells": [
  {
   "cell_type": "code",
   "execution_count": null,
   "id": "890ac240",
   "metadata": {},
   "outputs": [],
   "source": [
    "import pandas as pd\n",
    "import numpy as np\n",
    "import matplotlib.pyplot as plt\n",
    "import seaborn as sns\n",
    "pd.options.display.max_columns = None\n"
   ]
  },
  {
   "cell_type": "code",
   "execution_count": null,
   "id": "9db69789",
   "metadata": {},
   "outputs": [],
   "source": [
    "bna_22 = pd.read_csv('../data/bna_2022.csv')"
   ]
  },
  {
   "cell_type": "code",
   "execution_count": null,
   "id": "7d5782b6",
   "metadata": {},
   "outputs": [],
   "source": [
    "bna_w = pd.read_csv('../data/bna_weather.csv')"
   ]
  },
  {
   "cell_type": "code",
   "execution_count": null,
   "id": "2d97554c",
   "metadata": {},
   "outputs": [],
   "source": [
    "hw_data = pd.read_csv('../data/Headway Data.csv')"
   ]
  },
  {
   "cell_type": "code",
   "execution_count": null,
   "id": "a309c8a9",
   "metadata": {},
   "outputs": [],
   "source": [
    "bna_22"
   ]
  },
  {
   "cell_type": "code",
   "execution_count": null,
   "id": "571fcf75",
   "metadata": {},
   "outputs": [],
   "source": [
    "bna_w"
   ]
  },
  {
   "cell_type": "code",
   "execution_count": null,
   "id": "62658315",
   "metadata": {},
   "outputs": [],
   "source": [
    "hw_data"
   ]
  },
  {
   "cell_type": "code",
   "execution_count": null,
   "id": "6ead7759",
   "metadata": {},
   "outputs": [],
   "source": [
    "display(hw_data)"
   ]
  },
  {
   "cell_type": "code",
   "execution_count": null,
   "id": "0ce73ccb",
   "metadata": {},
   "outputs": [],
   "source": [
    "print(hw_data.dtypes)"
   ]
  },
  {
   "cell_type": "code",
   "execution_count": null,
   "id": "b26daa38",
   "metadata": {},
   "outputs": [],
   "source": [
    "hw_data2 = hw_data[['ROUTE_STOP_SEQUENCE','TRIP_EDGE']]\n",
    "display(hw_data2)"
   ]
  },
  {
   "cell_type": "code",
   "execution_count": null,
   "id": "cc451305",
   "metadata": {},
   "outputs": [],
   "source": [
    "oper = hw_data.groupby(['OPERATOR']).count()\n",
    "oper"
   ]
  },
  {
   "cell_type": "code",
   "execution_count": null,
   "id": "2e38f02e",
   "metadata": {
    "scrolled": true
   },
   "outputs": [],
   "source": [
    "posdev = hw_data.loc[hw_data['HDWY_DEV'] > 0]\n",
    "posdev"
   ]
  },
  {
   "cell_type": "code",
   "execution_count": null,
   "id": "5ba1502b",
   "metadata": {},
   "outputs": [],
   "source": [
    "negdev = hw_data.loc[hw_data['HDWY_DEV'] < 0]\n",
    "negdev"
   ]
  },
  {
   "cell_type": "code",
   "execution_count": null,
   "id": "f484f53b",
   "metadata": {},
   "outputs": [],
   "source": [
    "hw_data.groupby(['OPERATOR'])['ADHERENCE'].mean()"
   ]
  },
  {
   "cell_type": "code",
   "execution_count": null,
   "id": "05b7f92a",
   "metadata": {},
   "outputs": [],
   "source": [
    "fdownt = hw_data.loc[(hw_data['ROUTE_DIRECTION_NAME'] == 'FROM DOWNTOWN')]\n",
    "fdownt"
   ]
  },
  {
   "cell_type": "code",
   "execution_count": null,
   "id": "4be68ddb",
   "metadata": {},
   "outputs": [],
   "source": [
    "downdwell = fdownt[['ROUTE_DIRECTION_NAME','DWELL_IN_MINS']]\n",
    "downdwell"
   ]
  },
  {
   "cell_type": "code",
   "execution_count": null,
   "id": "859fbc64",
   "metadata": {},
   "outputs": [],
   "source": [
    "todownt = hw_data.loc[(hw_data['ROUTE_DIRECTION_NAME'] == 'TO DOWNTOWN')]\n",
    "todownt"
   ]
  },
  {
   "cell_type": "code",
   "execution_count": null,
   "id": "8682a5c3",
   "metadata": {},
   "outputs": [],
   "source": [
    "todwell = todownt[['ROUTE_DIRECTION_NAME','DWELL_IN_MINS']]\n",
    "todwell"
   ]
  },
  {
   "cell_type": "code",
   "execution_count": null,
   "id": "12f83e43",
   "metadata": {},
   "outputs": [],
   "source": [
    "print(hw_data.dtypes)"
   ]
  },
  {
   "cell_type": "code",
   "execution_count": null,
   "id": "3988202e",
   "metadata": {
    "scrolled": true
   },
   "outputs": [],
   "source": [
    "hw_data\n"
   ]
  },
  {
   "cell_type": "code",
   "execution_count": null,
   "id": "704e0863",
   "metadata": {},
   "outputs": [],
   "source": [
    "meanad = hw_data.groupby(['OPERATOR'])['ADHERENCE'].mean()\n",
    "meanad"
   ]
  },
  {
   "cell_type": "code",
   "execution_count": null,
   "id": "709a3aa8",
   "metadata": {},
   "outputs": [],
   "source": [
    "meanad.head(10)"
   ]
  },
  {
   "cell_type": "code",
   "execution_count": null,
   "id": "bb7f0db7",
   "metadata": {
    "scrolled": true
   },
   "outputs": [],
   "source": [
    "op1 = hw_data[['OPERATOR','ADHERENCE','DWELL_IN_MINS']]\n",
    "op1\n"
   ]
  },
  {
   "cell_type": "code",
   "execution_count": null,
   "id": "7969186d",
   "metadata": {},
   "outputs": [],
   "source": [
    "avgop1 = op1.groupby('OPERATOR').agg({'ADHERENCE': ['mean'],'DWELL_IN_MINS':['mean']}).head(10)\n",
    "avgs = pd.DataFrame(avgop1)\n",
    "print(avgs)"
   ]
  },
  {
   "cell_type": "code",
   "execution_count": null,
   "id": "d0cad02e",
   "metadata": {},
   "outputs": [],
   "source": [
    "avgs.columns = ['ad_avg', 'dwell_avg']\n",
    "print(avgs)"
   ]
  },
  {
   "cell_type": "code",
   "execution_count": null,
   "id": "05412cd4",
   "metadata": {},
   "outputs": [],
   "source": [
    "sns.set_theme(style='ticks')\n",
    "\n",
    "f, ax = plt.subplots(figsize=(7, 6))\n",
    "\n",
    "sns.set_theme(style='ticks')\n",
    "\n",
    "sns.boxplot( x = 'ad_avg',  y='OPERATOR', data= avgs,\n",
    "           whis=[0,100], width=.6, palette='vlag')\n",
    "sns.stripplot(x ='ad_avg', y= 'OPERATOR', data= avgs,\n",
    "             size=4, color= '.3', linewidth=0)\n",
    "ax.xaxis.grid(True)\n",
    "ax.set(ylabel='')\n",
    "sns.despine(trim=True, left=True)"
   ]
  },
  {
   "cell_type": "code",
   "execution_count": null,
   "id": "bd20a6cb",
   "metadata": {},
   "outputs": [],
   "source": [
    "sns.set_theme(style='ticks')\n",
    "\n",
    "f, ax = plt.subplots(figsize=(7, 6))\n",
    "\n",
    "sns.boxplot( y='ad_avg', data=avgs,\n",
    "           whis=[0,100], width=.6, palette='vlag')\n",
    "sns.stripplot( y= 'ad_avg', data= avgs,\n",
    "             size=4, color= '.3', linewidth=0)\n",
    "ax.xaxis.grid(True)\n",
    "ax.set(ylabel='')\n",
    "sns.despine(trim=True, left=True)"
   ]
  },
  {
   "cell_type": "code",
   "execution_count": null,
   "id": "10c14868",
   "metadata": {},
   "outputs": [],
   "source": [
    "f = plt.figure(figsize=(30, 15))\n",
    "labels = ['From', 'To']\n",
    "AVG_DWELL_IN_MINS = [9.62, 10.435]\n",
    "AVG_ADHERENCE = [-1.99, -2.29]\n",
    "x = np.arange(len(labels))\n",
    "width = 0.5\n",
    "fig, ax = plt.subplots()\n",
    "\n",
    "rects2 = ax.bar(x + width/2, AVG_DWELL_IN_MINS, width, label= 'AVG DWELL IN MINS')\n",
    "rects3 = ax.bar(x + width/2, AVG_ADHERENCE, width, label= 'AVG ADHERENCE IN MINS')\n",
    "colors=np.random.rand(3)\n",
    "ax.set_ylabel('MINS')\n",
    "ax.set_title('Dwell Time, Adherence')\n",
    "\n",
    "ax.legend(\n",
    "         fontsize = 14,\n",
    "         bbox_to_anchor = (1.02, 0.7))\n",
    "\n",
    "ax.bar_label(rects2, label_type='edge', color ='black', fontsize= 12)\n",
    "ax.bar_label(rects3, label_type='center', color ='black', fontsize=12)\n",
    "plt.show();\n",
    "\n"
   ]
  },
  {
   "cell_type": "code",
   "execution_count": null,
   "id": "75844878",
   "metadata": {},
   "outputs": [],
   "source": []
  }
 ],
 "metadata": {
  "kernelspec": {
   "display_name": "Python 3 (ipykernel)",
   "language": "python",
   "name": "python3"
  },
  "language_info": {
   "codemirror_mode": {
    "name": "ipython",
    "version": 3
   },
   "file_extension": ".py",
   "mimetype": "text/x-python",
   "name": "python",
   "nbconvert_exporter": "python",
   "pygments_lexer": "ipython3",
   "version": "3.9.7"
  }
 },
 "nbformat": 4,
 "nbformat_minor": 5
}
