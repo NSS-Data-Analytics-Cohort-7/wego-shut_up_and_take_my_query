{
 "cells": [
  {
   "cell_type": "markdown",
   "metadata": {},
   "source": [
    "## How much of a factor does the driver have on headway and on-time performance? The driver is indicated by the OPERATOR variable."
   ]
  },
  {
   "cell_type": "code",
   "execution_count": 2,
   "metadata": {},
   "outputs": [],
   "source": [
    "import pandas as pd\n",
    "import numpy as np\n",
    "import matplotlib.pyplot as plt\n",
    "import seaborn as sns\n",
    "%matplotlib inline"
   ]
  },
  {
   "cell_type": "code",
   "execution_count": 3,
   "metadata": {},
   "outputs": [],
   "source": [
    "df = pd.read_csv(r\"C:\\Users\\jhank\\Desktop\\DA7\\Projects\\wego-shut_up_and_take_my_query\\data\\Headway Data.csv\")\n",
    "#df = pd.read_csv(r\"/home/jwhankins177/projects/wego/data/Headway Data.csv\")"
   ]
  },
  {
   "cell_type": "code",
   "execution_count": 4,
   "metadata": {},
   "outputs": [
    {
     "data": {
      "text/html": [
       "<div>\n",
       "<style scoped>\n",
       "    .dataframe tbody tr th:only-of-type {\n",
       "        vertical-align: middle;\n",
       "    }\n",
       "\n",
       "    .dataframe tbody tr th {\n",
       "        vertical-align: top;\n",
       "    }\n",
       "\n",
       "    .dataframe thead th {\n",
       "        text-align: right;\n",
       "    }\n",
       "</style>\n",
       "<table border=\"1\" class=\"dataframe\">\n",
       "  <thead>\n",
       "    <tr style=\"text-align: right;\">\n",
       "      <th></th>\n",
       "      <th>CALENDAR_ID</th>\n",
       "      <th>SERVICE_ABBR</th>\n",
       "      <th>ADHERENCE_ID</th>\n",
       "      <th>DATE</th>\n",
       "      <th>ROUTE_ABBR</th>\n",
       "      <th>BLOCK_ABBR</th>\n",
       "      <th>OPERATOR</th>\n",
       "      <th>TRIP_ID</th>\n",
       "      <th>OVERLOAD_ID</th>\n",
       "      <th>ROUTE_DIRECTION_NAME</th>\n",
       "      <th>...</th>\n",
       "      <th>ACTUAL_HDWY</th>\n",
       "      <th>HDWY_DEV</th>\n",
       "      <th>ADJUSTED_EARLY_COUNT</th>\n",
       "      <th>ADJUSTED_LATE_COUNT</th>\n",
       "      <th>ADJUSTED_ONTIME_COUNT</th>\n",
       "      <th>STOP_CANCELLED</th>\n",
       "      <th>PREV_SCHED_STOP_CANCELLED</th>\n",
       "      <th>IS_RELIEF</th>\n",
       "      <th>BLOCK_STOP_ORDER</th>\n",
       "      <th>DWELL_IN_MINS</th>\n",
       "    </tr>\n",
       "  </thead>\n",
       "  <tbody>\n",
       "    <tr>\n",
       "      <th>1981705</th>\n",
       "      <td>120221101</td>\n",
       "      <td>1</td>\n",
       "      <td>91057372</td>\n",
       "      <td>2022-11-01</td>\n",
       "      <td>50</td>\n",
       "      <td>8601</td>\n",
       "      <td>2600</td>\n",
       "      <td>329896</td>\n",
       "      <td>0</td>\n",
       "      <td>FROM DOWNTOWN</td>\n",
       "      <td>...</td>\n",
       "      <td>NaN</td>\n",
       "      <td>NaN</td>\n",
       "      <td>0</td>\n",
       "      <td>0</td>\n",
       "      <td>1</td>\n",
       "      <td>0</td>\n",
       "      <td>0.0</td>\n",
       "      <td>0</td>\n",
       "      <td>23</td>\n",
       "      <td>9.166666</td>\n",
       "    </tr>\n",
       "    <tr>\n",
       "      <th>1981706</th>\n",
       "      <td>120221101</td>\n",
       "      <td>1</td>\n",
       "      <td>91057373</td>\n",
       "      <td>2022-11-01</td>\n",
       "      <td>50</td>\n",
       "      <td>8601</td>\n",
       "      <td>2600</td>\n",
       "      <td>329896</td>\n",
       "      <td>0</td>\n",
       "      <td>FROM DOWNTOWN</td>\n",
       "      <td>...</td>\n",
       "      <td>NaN</td>\n",
       "      <td>NaN</td>\n",
       "      <td>0</td>\n",
       "      <td>0</td>\n",
       "      <td>1</td>\n",
       "      <td>0</td>\n",
       "      <td>NaN</td>\n",
       "      <td>0</td>\n",
       "      <td>24</td>\n",
       "      <td>9.416666</td>\n",
       "    </tr>\n",
       "    <tr>\n",
       "      <th>1981707</th>\n",
       "      <td>120221101</td>\n",
       "      <td>1</td>\n",
       "      <td>91057381</td>\n",
       "      <td>2022-11-01</td>\n",
       "      <td>55</td>\n",
       "      <td>8604</td>\n",
       "      <td>2374</td>\n",
       "      <td>329899</td>\n",
       "      <td>0</td>\n",
       "      <td>TO DOWNTOWN</td>\n",
       "      <td>...</td>\n",
       "      <td>NaN</td>\n",
       "      <td>NaN</td>\n",
       "      <td>0</td>\n",
       "      <td>0</td>\n",
       "      <td>1</td>\n",
       "      <td>0</td>\n",
       "      <td>0.0</td>\n",
       "      <td>0</td>\n",
       "      <td>2</td>\n",
       "      <td>31.933333</td>\n",
       "    </tr>\n",
       "    <tr>\n",
       "      <th>1981708</th>\n",
       "      <td>120221101</td>\n",
       "      <td>1</td>\n",
       "      <td>91057382</td>\n",
       "      <td>2022-11-01</td>\n",
       "      <td>55</td>\n",
       "      <td>8604</td>\n",
       "      <td>2374</td>\n",
       "      <td>329899</td>\n",
       "      <td>0</td>\n",
       "      <td>TO DOWNTOWN</td>\n",
       "      <td>...</td>\n",
       "      <td>NaN</td>\n",
       "      <td>NaN</td>\n",
       "      <td>0</td>\n",
       "      <td>0</td>\n",
       "      <td>1</td>\n",
       "      <td>0</td>\n",
       "      <td>NaN</td>\n",
       "      <td>0</td>\n",
       "      <td>3</td>\n",
       "      <td>0.000000</td>\n",
       "    </tr>\n",
       "    <tr>\n",
       "      <th>1981709</th>\n",
       "      <td>120221101</td>\n",
       "      <td>1</td>\n",
       "      <td>91057723</td>\n",
       "      <td>2022-11-01</td>\n",
       "      <td>50</td>\n",
       "      <td>9302</td>\n",
       "      <td>2355</td>\n",
       "      <td>329980</td>\n",
       "      <td>0</td>\n",
       "      <td>TO DOWNTOWN</td>\n",
       "      <td>...</td>\n",
       "      <td>NaN</td>\n",
       "      <td>NaN</td>\n",
       "      <td>0</td>\n",
       "      <td>0</td>\n",
       "      <td>1</td>\n",
       "      <td>0</td>\n",
       "      <td>0.0</td>\n",
       "      <td>0</td>\n",
       "      <td>2</td>\n",
       "      <td>20.916666</td>\n",
       "    </tr>\n",
       "    <tr>\n",
       "      <th>1981710</th>\n",
       "      <td>120221101</td>\n",
       "      <td>1</td>\n",
       "      <td>91057724</td>\n",
       "      <td>2022-11-01</td>\n",
       "      <td>50</td>\n",
       "      <td>9302</td>\n",
       "      <td>2355</td>\n",
       "      <td>329980</td>\n",
       "      <td>0</td>\n",
       "      <td>TO DOWNTOWN</td>\n",
       "      <td>...</td>\n",
       "      <td>NaN</td>\n",
       "      <td>NaN</td>\n",
       "      <td>0</td>\n",
       "      <td>0</td>\n",
       "      <td>1</td>\n",
       "      <td>0</td>\n",
       "      <td>NaN</td>\n",
       "      <td>0</td>\n",
       "      <td>3</td>\n",
       "      <td>1.016666</td>\n",
       "    </tr>\n",
       "    <tr>\n",
       "      <th>1981711</th>\n",
       "      <td>120221101</td>\n",
       "      <td>1</td>\n",
       "      <td>91057851</td>\n",
       "      <td>2022-11-01</td>\n",
       "      <td>50</td>\n",
       "      <td>9950</td>\n",
       "      <td>1880</td>\n",
       "      <td>330003</td>\n",
       "      <td>0</td>\n",
       "      <td>TO DOWNTOWN</td>\n",
       "      <td>...</td>\n",
       "      <td>7.633333</td>\n",
       "      <td>-2.366667</td>\n",
       "      <td>1</td>\n",
       "      <td>0</td>\n",
       "      <td>0</td>\n",
       "      <td>0</td>\n",
       "      <td>0.0</td>\n",
       "      <td>0</td>\n",
       "      <td>2</td>\n",
       "      <td>9.900000</td>\n",
       "    </tr>\n",
       "    <tr>\n",
       "      <th>1981712</th>\n",
       "      <td>120221101</td>\n",
       "      <td>1</td>\n",
       "      <td>91057852</td>\n",
       "      <td>2022-11-01</td>\n",
       "      <td>50</td>\n",
       "      <td>9950</td>\n",
       "      <td>1880</td>\n",
       "      <td>330003</td>\n",
       "      <td>0</td>\n",
       "      <td>TO DOWNTOWN</td>\n",
       "      <td>...</td>\n",
       "      <td>NaN</td>\n",
       "      <td>NaN</td>\n",
       "      <td>1</td>\n",
       "      <td>0</td>\n",
       "      <td>0</td>\n",
       "      <td>0</td>\n",
       "      <td>NaN</td>\n",
       "      <td>0</td>\n",
       "      <td>3</td>\n",
       "      <td>0.000000</td>\n",
       "    </tr>\n",
       "    <tr>\n",
       "      <th>1981713</th>\n",
       "      <td>120221101</td>\n",
       "      <td>1</td>\n",
       "      <td>91057881</td>\n",
       "      <td>2022-11-01</td>\n",
       "      <td>56</td>\n",
       "      <td>9975</td>\n",
       "      <td>1922</td>\n",
       "      <td>330011</td>\n",
       "      <td>0</td>\n",
       "      <td>TO DOWNTOWN</td>\n",
       "      <td>...</td>\n",
       "      <td>NaN</td>\n",
       "      <td>NaN</td>\n",
       "      <td>0</td>\n",
       "      <td>0</td>\n",
       "      <td>1</td>\n",
       "      <td>0</td>\n",
       "      <td>0.0</td>\n",
       "      <td>0</td>\n",
       "      <td>2</td>\n",
       "      <td>19.366666</td>\n",
       "    </tr>\n",
       "    <tr>\n",
       "      <th>1981714</th>\n",
       "      <td>120221101</td>\n",
       "      <td>1</td>\n",
       "      <td>91057882</td>\n",
       "      <td>2022-11-01</td>\n",
       "      <td>56</td>\n",
       "      <td>9975</td>\n",
       "      <td>1922</td>\n",
       "      <td>330011</td>\n",
       "      <td>0</td>\n",
       "      <td>TO DOWNTOWN</td>\n",
       "      <td>...</td>\n",
       "      <td>NaN</td>\n",
       "      <td>NaN</td>\n",
       "      <td>0</td>\n",
       "      <td>0</td>\n",
       "      <td>1</td>\n",
       "      <td>0</td>\n",
       "      <td>NaN</td>\n",
       "      <td>0</td>\n",
       "      <td>3</td>\n",
       "      <td>1.683333</td>\n",
       "    </tr>\n",
       "  </tbody>\n",
       "</table>\n",
       "<p>10 rows × 30 columns</p>\n",
       "</div>"
      ],
      "text/plain": [
       "         CALENDAR_ID  SERVICE_ABBR  ADHERENCE_ID        DATE  ROUTE_ABBR  \\\n",
       "1981705    120221101             1      91057372  2022-11-01          50   \n",
       "1981706    120221101             1      91057373  2022-11-01          50   \n",
       "1981707    120221101             1      91057381  2022-11-01          55   \n",
       "1981708    120221101             1      91057382  2022-11-01          55   \n",
       "1981709    120221101             1      91057723  2022-11-01          50   \n",
       "1981710    120221101             1      91057724  2022-11-01          50   \n",
       "1981711    120221101             1      91057851  2022-11-01          50   \n",
       "1981712    120221101             1      91057852  2022-11-01          50   \n",
       "1981713    120221101             1      91057881  2022-11-01          56   \n",
       "1981714    120221101             1      91057882  2022-11-01          56   \n",
       "\n",
       "         BLOCK_ABBR  OPERATOR  TRIP_ID  OVERLOAD_ID ROUTE_DIRECTION_NAME  ...  \\\n",
       "1981705        8601      2600   329896            0        FROM DOWNTOWN  ...   \n",
       "1981706        8601      2600   329896            0        FROM DOWNTOWN  ...   \n",
       "1981707        8604      2374   329899            0          TO DOWNTOWN  ...   \n",
       "1981708        8604      2374   329899            0          TO DOWNTOWN  ...   \n",
       "1981709        9302      2355   329980            0          TO DOWNTOWN  ...   \n",
       "1981710        9302      2355   329980            0          TO DOWNTOWN  ...   \n",
       "1981711        9950      1880   330003            0          TO DOWNTOWN  ...   \n",
       "1981712        9950      1880   330003            0          TO DOWNTOWN  ...   \n",
       "1981713        9975      1922   330011            0          TO DOWNTOWN  ...   \n",
       "1981714        9975      1922   330011            0          TO DOWNTOWN  ...   \n",
       "\n",
       "        ACTUAL_HDWY  HDWY_DEV  ADJUSTED_EARLY_COUNT  ADJUSTED_LATE_COUNT  \\\n",
       "1981705         NaN       NaN                     0                    0   \n",
       "1981706         NaN       NaN                     0                    0   \n",
       "1981707         NaN       NaN                     0                    0   \n",
       "1981708         NaN       NaN                     0                    0   \n",
       "1981709         NaN       NaN                     0                    0   \n",
       "1981710         NaN       NaN                     0                    0   \n",
       "1981711    7.633333 -2.366667                     1                    0   \n",
       "1981712         NaN       NaN                     1                    0   \n",
       "1981713         NaN       NaN                     0                    0   \n",
       "1981714         NaN       NaN                     0                    0   \n",
       "\n",
       "         ADJUSTED_ONTIME_COUNT STOP_CANCELLED PREV_SCHED_STOP_CANCELLED  \\\n",
       "1981705                      1              0                       0.0   \n",
       "1981706                      1              0                       NaN   \n",
       "1981707                      1              0                       0.0   \n",
       "1981708                      1              0                       NaN   \n",
       "1981709                      1              0                       0.0   \n",
       "1981710                      1              0                       NaN   \n",
       "1981711                      0              0                       0.0   \n",
       "1981712                      0              0                       NaN   \n",
       "1981713                      1              0                       0.0   \n",
       "1981714                      1              0                       NaN   \n",
       "\n",
       "        IS_RELIEF  BLOCK_STOP_ORDER  DWELL_IN_MINS  \n",
       "1981705         0                23       9.166666  \n",
       "1981706         0                24       9.416666  \n",
       "1981707         0                 2      31.933333  \n",
       "1981708         0                 3       0.000000  \n",
       "1981709         0                 2      20.916666  \n",
       "1981710         0                 3       1.016666  \n",
       "1981711         0                 2       9.900000  \n",
       "1981712         0                 3       0.000000  \n",
       "1981713         0                 2      19.366666  \n",
       "1981714         0                 3       1.683333  \n",
       "\n",
       "[10 rows x 30 columns]"
      ]
     },
     "execution_count": 4,
     "metadata": {},
     "output_type": "execute_result"
    }
   ],
   "source": [
    "df.tail(10)"
   ]
  },
  {
   "cell_type": "code",
   "execution_count": 5,
   "metadata": {},
   "outputs": [
    {
     "name": "stdout",
     "output_type": "stream",
     "text": [
      "<class 'pandas.core.frame.DataFrame'>\n",
      "RangeIndex: 1981715 entries, 0 to 1981714\n",
      "Data columns (total 30 columns):\n",
      " #   Column                     Dtype  \n",
      "---  ------                     -----  \n",
      " 0   CALENDAR_ID                int64  \n",
      " 1   SERVICE_ABBR               int64  \n",
      " 2   ADHERENCE_ID               int64  \n",
      " 3   DATE                       object \n",
      " 4   ROUTE_ABBR                 int64  \n",
      " 5   BLOCK_ABBR                 int64  \n",
      " 6   OPERATOR                   int64  \n",
      " 7   TRIP_ID                    int64  \n",
      " 8   OVERLOAD_ID                int64  \n",
      " 9   ROUTE_DIRECTION_NAME       object \n",
      " 10  TIME_POINT_ABBR            object \n",
      " 11  ROUTE_STOP_SEQUENCE        float64\n",
      " 12  TRIP_EDGE                  int64  \n",
      " 13  LATITUDE                   float64\n",
      " 14  LONGITUDE                  float64\n",
      " 15  SCHEDULED_TIME             object \n",
      " 16  ACTUAL_ARRIVAL_TIME        object \n",
      " 17  ACTUAL_DEPARTURE_TIME      object \n",
      " 18  ADHERENCE                  float64\n",
      " 19  SCHEDULED_HDWY             float64\n",
      " 20  ACTUAL_HDWY                float64\n",
      " 21  HDWY_DEV                   float64\n",
      " 22  ADJUSTED_EARLY_COUNT       int64  \n",
      " 23  ADJUSTED_LATE_COUNT        int64  \n",
      " 24  ADJUSTED_ONTIME_COUNT      int64  \n",
      " 25  STOP_CANCELLED             int64  \n",
      " 26  PREV_SCHED_STOP_CANCELLED  float64\n",
      " 27  IS_RELIEF                  int64  \n",
      " 28  BLOCK_STOP_ORDER           int64  \n",
      " 29  DWELL_IN_MINS              float64\n",
      "dtypes: float64(9), int64(15), object(6)\n",
      "memory usage: 453.6+ MB\n"
     ]
    }
   ],
   "source": [
    "df.info()"
   ]
  },
  {
   "cell_type": "markdown",
   "metadata": {},
   "source": [
    "#### Create a dataframe containing relevant info."
   ]
  },
  {
   "cell_type": "code",
   "execution_count": 6,
   "metadata": {},
   "outputs": [
    {
     "name": "stdout",
     "output_type": "stream",
     "text": [
      "<class 'pandas.core.frame.DataFrame'>\n",
      "RangeIndex: 1981715 entries, 0 to 1981714\n",
      "Data columns (total 2 columns):\n",
      " #   Column    Dtype  \n",
      "---  ------    -----  \n",
      " 0   OPERATOR  int64  \n",
      " 1   HDWY_DEV  float64\n",
      "dtypes: float64(1), int64(1)\n",
      "memory usage: 30.2 MB\n"
     ]
    }
   ],
   "source": [
    "hdwy = df[['OPERATOR','HDWY_DEV']]\n",
    "hdwy.info()"
   ]
  },
  {
   "cell_type": "code",
   "execution_count": 7,
   "metadata": {},
   "outputs": [
    {
     "name": "stdout",
     "output_type": "stream",
     "text": [
      "<class 'pandas.core.frame.DataFrame'>\n",
      "RangeIndex: 1981715 entries, 0 to 1981714\n",
      "Data columns (total 2 columns):\n",
      " #   Column    Dtype  \n",
      "---  ------    -----  \n",
      " 0   OPERATOR  int64  \n",
      " 1   HDWY_DEV  float64\n",
      "dtypes: float64(1), int64(1)\n",
      "memory usage: 30.2 MB\n"
     ]
    }
   ],
   "source": [
    "hdwy.info()"
   ]
  },
  {
   "cell_type": "code",
   "execution_count": 8,
   "metadata": {},
   "outputs": [
    {
     "data": {
      "text/html": [
       "<div>\n",
       "<style scoped>\n",
       "    .dataframe tbody tr th:only-of-type {\n",
       "        vertical-align: middle;\n",
       "    }\n",
       "\n",
       "    .dataframe tbody tr th {\n",
       "        vertical-align: top;\n",
       "    }\n",
       "\n",
       "    .dataframe thead th {\n",
       "        text-align: right;\n",
       "    }\n",
       "</style>\n",
       "<table border=\"1\" class=\"dataframe\">\n",
       "  <thead>\n",
       "    <tr style=\"text-align: right;\">\n",
       "      <th></th>\n",
       "      <th>OPERATOR</th>\n",
       "      <th>HDWY_DEV</th>\n",
       "    </tr>\n",
       "  </thead>\n",
       "  <tbody>\n",
       "    <tr>\n",
       "      <th>0</th>\n",
       "      <td>2088</td>\n",
       "      <td>1.983333</td>\n",
       "    </tr>\n",
       "    <tr>\n",
       "      <th>1</th>\n",
       "      <td>2088</td>\n",
       "      <td>3.333333</td>\n",
       "    </tr>\n",
       "    <tr>\n",
       "      <th>2</th>\n",
       "      <td>2088</td>\n",
       "      <td>NaN</td>\n",
       "    </tr>\n",
       "    <tr>\n",
       "      <th>3</th>\n",
       "      <td>2088</td>\n",
       "      <td>NaN</td>\n",
       "    </tr>\n",
       "    <tr>\n",
       "      <th>4</th>\n",
       "      <td>2088</td>\n",
       "      <td>NaN</td>\n",
       "    </tr>\n",
       "    <tr>\n",
       "      <th>5</th>\n",
       "      <td>1352</td>\n",
       "      <td>NaN</td>\n",
       "    </tr>\n",
       "    <tr>\n",
       "      <th>6</th>\n",
       "      <td>1352</td>\n",
       "      <td>NaN</td>\n",
       "    </tr>\n",
       "    <tr>\n",
       "      <th>7</th>\n",
       "      <td>1352</td>\n",
       "      <td>NaN</td>\n",
       "    </tr>\n",
       "    <tr>\n",
       "      <th>8</th>\n",
       "      <td>1352</td>\n",
       "      <td>NaN</td>\n",
       "    </tr>\n",
       "    <tr>\n",
       "      <th>9</th>\n",
       "      <td>1352</td>\n",
       "      <td>NaN</td>\n",
       "    </tr>\n",
       "    <tr>\n",
       "      <th>10</th>\n",
       "      <td>1352</td>\n",
       "      <td>NaN</td>\n",
       "    </tr>\n",
       "    <tr>\n",
       "      <th>11</th>\n",
       "      <td>1352</td>\n",
       "      <td>NaN</td>\n",
       "    </tr>\n",
       "    <tr>\n",
       "      <th>12</th>\n",
       "      <td>1352</td>\n",
       "      <td>-0.366667</td>\n",
       "    </tr>\n",
       "    <tr>\n",
       "      <th>13</th>\n",
       "      <td>1352</td>\n",
       "      <td>0.866666</td>\n",
       "    </tr>\n",
       "    <tr>\n",
       "      <th>14</th>\n",
       "      <td>1352</td>\n",
       "      <td>-1.016667</td>\n",
       "    </tr>\n",
       "    <tr>\n",
       "      <th>15</th>\n",
       "      <td>1352</td>\n",
       "      <td>NaN</td>\n",
       "    </tr>\n",
       "    <tr>\n",
       "      <th>16</th>\n",
       "      <td>1352</td>\n",
       "      <td>1.116666</td>\n",
       "    </tr>\n",
       "    <tr>\n",
       "      <th>17</th>\n",
       "      <td>1352</td>\n",
       "      <td>0.400000</td>\n",
       "    </tr>\n",
       "    <tr>\n",
       "      <th>18</th>\n",
       "      <td>1352</td>\n",
       "      <td>NaN</td>\n",
       "    </tr>\n",
       "    <tr>\n",
       "      <th>19</th>\n",
       "      <td>1352</td>\n",
       "      <td>0.233333</td>\n",
       "    </tr>\n",
       "    <tr>\n",
       "      <th>20</th>\n",
       "      <td>1352</td>\n",
       "      <td>5.416666</td>\n",
       "    </tr>\n",
       "    <tr>\n",
       "      <th>21</th>\n",
       "      <td>1352</td>\n",
       "      <td>10.066666</td>\n",
       "    </tr>\n",
       "    <tr>\n",
       "      <th>22</th>\n",
       "      <td>1352</td>\n",
       "      <td>NaN</td>\n",
       "    </tr>\n",
       "    <tr>\n",
       "      <th>23</th>\n",
       "      <td>1352</td>\n",
       "      <td>3.366666</td>\n",
       "    </tr>\n",
       "    <tr>\n",
       "      <th>24</th>\n",
       "      <td>1352</td>\n",
       "      <td>-3.666667</td>\n",
       "    </tr>\n",
       "    <tr>\n",
       "      <th>25</th>\n",
       "      <td>1352</td>\n",
       "      <td>NaN</td>\n",
       "    </tr>\n",
       "    <tr>\n",
       "      <th>26</th>\n",
       "      <td>1352</td>\n",
       "      <td>NaN</td>\n",
       "    </tr>\n",
       "    <tr>\n",
       "      <th>27</th>\n",
       "      <td>1352</td>\n",
       "      <td>-1.466667</td>\n",
       "    </tr>\n",
       "    <tr>\n",
       "      <th>28</th>\n",
       "      <td>1352</td>\n",
       "      <td>2.883333</td>\n",
       "    </tr>\n",
       "    <tr>\n",
       "      <th>29</th>\n",
       "      <td>1352</td>\n",
       "      <td>NaN</td>\n",
       "    </tr>\n",
       "    <tr>\n",
       "      <th>30</th>\n",
       "      <td>1352</td>\n",
       "      <td>1.183333</td>\n",
       "    </tr>\n",
       "    <tr>\n",
       "      <th>31</th>\n",
       "      <td>1352</td>\n",
       "      <td>4.800000</td>\n",
       "    </tr>\n",
       "    <tr>\n",
       "      <th>32</th>\n",
       "      <td>1352</td>\n",
       "      <td>NaN</td>\n",
       "    </tr>\n",
       "    <tr>\n",
       "      <th>33</th>\n",
       "      <td>1352</td>\n",
       "      <td>0.400000</td>\n",
       "    </tr>\n",
       "    <tr>\n",
       "      <th>34</th>\n",
       "      <td>1352</td>\n",
       "      <td>-0.083334</td>\n",
       "    </tr>\n",
       "    <tr>\n",
       "      <th>35</th>\n",
       "      <td>1352</td>\n",
       "      <td>NaN</td>\n",
       "    </tr>\n",
       "    <tr>\n",
       "      <th>36</th>\n",
       "      <td>1352</td>\n",
       "      <td>-2.316667</td>\n",
       "    </tr>\n",
       "    <tr>\n",
       "      <th>37</th>\n",
       "      <td>1352</td>\n",
       "      <td>2.433333</td>\n",
       "    </tr>\n",
       "    <tr>\n",
       "      <th>38</th>\n",
       "      <td>1352</td>\n",
       "      <td>NaN</td>\n",
       "    </tr>\n",
       "    <tr>\n",
       "      <th>39</th>\n",
       "      <td>1352</td>\n",
       "      <td>-0.133334</td>\n",
       "    </tr>\n",
       "  </tbody>\n",
       "</table>\n",
       "</div>"
      ],
      "text/plain": [
       "    OPERATOR   HDWY_DEV\n",
       "0       2088   1.983333\n",
       "1       2088   3.333333\n",
       "2       2088        NaN\n",
       "3       2088        NaN\n",
       "4       2088        NaN\n",
       "5       1352        NaN\n",
       "6       1352        NaN\n",
       "7       1352        NaN\n",
       "8       1352        NaN\n",
       "9       1352        NaN\n",
       "10      1352        NaN\n",
       "11      1352        NaN\n",
       "12      1352  -0.366667\n",
       "13      1352   0.866666\n",
       "14      1352  -1.016667\n",
       "15      1352        NaN\n",
       "16      1352   1.116666\n",
       "17      1352   0.400000\n",
       "18      1352        NaN\n",
       "19      1352   0.233333\n",
       "20      1352   5.416666\n",
       "21      1352  10.066666\n",
       "22      1352        NaN\n",
       "23      1352   3.366666\n",
       "24      1352  -3.666667\n",
       "25      1352        NaN\n",
       "26      1352        NaN\n",
       "27      1352  -1.466667\n",
       "28      1352   2.883333\n",
       "29      1352        NaN\n",
       "30      1352   1.183333\n",
       "31      1352   4.800000\n",
       "32      1352        NaN\n",
       "33      1352   0.400000\n",
       "34      1352  -0.083334\n",
       "35      1352        NaN\n",
       "36      1352  -2.316667\n",
       "37      1352   2.433333\n",
       "38      1352        NaN\n",
       "39      1352  -0.133334"
      ]
     },
     "execution_count": 8,
     "metadata": {},
     "output_type": "execute_result"
    }
   ],
   "source": [
    "hdwy.head(40)"
   ]
  },
  {
   "cell_type": "code",
   "execution_count": 9,
   "metadata": {},
   "outputs": [
    {
     "data": {
      "text/plain": [
       "OPERATOR  HDWY_DEV \n",
       "409       -0.383334    60\n",
       "          -0.166667    59\n",
       "          -0.200000    58\n",
       "2186       0.000000    58\n",
       "1020      -0.416667    55\n",
       "                       ..\n",
       "1842      -8.833334     1\n",
       "          -8.800000     1\n",
       "          -8.783334     1\n",
       "          -8.766667     1\n",
       "22554      1.966666     1\n",
       "Length: 352657, dtype: int64"
      ]
     },
     "execution_count": 9,
     "metadata": {},
     "output_type": "execute_result"
    }
   ],
   "source": [
    "hdwy.value_counts()"
   ]
  },
  {
   "cell_type": "markdown",
   "metadata": {},
   "source": [
    "Drop all rows with nulls."
   ]
  },
  {
   "cell_type": "code",
   "execution_count": 10,
   "metadata": {},
   "outputs": [
    {
     "name": "stderr",
     "output_type": "stream",
     "text": [
      "c:\\Users\\jhank\\anaconda3\\lib\\site-packages\\pandas\\util\\_decorators.py:311: SettingWithCopyWarning: \n",
      "A value is trying to be set on a copy of a slice from a DataFrame\n",
      "\n",
      "See the caveats in the documentation: https://pandas.pydata.org/pandas-docs/stable/user_guide/indexing.html#returning-a-view-versus-a-copy\n",
      "  return func(*args, **kwargs)\n"
     ]
    }
   ],
   "source": [
    "hdwy.dropna(inplace=True)"
   ]
  },
  {
   "cell_type": "markdown",
   "metadata": {},
   "source": [
    "Rename columns."
   ]
  },
  {
   "cell_type": "code",
   "execution_count": 11,
   "metadata": {},
   "outputs": [],
   "source": [
    "hdwy.columns = ['operator', 'hdwy_dev']"
   ]
  },
  {
   "cell_type": "code",
   "execution_count": 12,
   "metadata": {},
   "outputs": [
    {
     "name": "stdout",
     "output_type": "stream",
     "text": [
      "<class 'pandas.core.frame.DataFrame'>\n",
      "Int64Index: 1507347 entries, 0 to 1981711\n",
      "Data columns (total 2 columns):\n",
      " #   Column    Non-Null Count    Dtype  \n",
      "---  ------    --------------    -----  \n",
      " 0   operator  1507347 non-null  int64  \n",
      " 1   hdwy_dev  1507347 non-null  float64\n",
      "dtypes: float64(1), int64(1)\n",
      "memory usage: 34.5 MB\n"
     ]
    }
   ],
   "source": [
    "hdwy.info()"
   ]
  },
  {
   "cell_type": "markdown",
   "metadata": {},
   "source": [
    "Group by operator id. Sum."
   ]
  },
  {
   "cell_type": "code",
   "execution_count": 13,
   "metadata": {},
   "outputs": [],
   "source": [
    "hdwy_gb = hdwy.groupby(['operator'],as_index = False)['hdwy_dev'].sum()"
   ]
  },
  {
   "cell_type": "code",
   "execution_count": 14,
   "metadata": {},
   "outputs": [
    {
     "data": {
      "text/html": [
       "<div>\n",
       "<style scoped>\n",
       "    .dataframe tbody tr th:only-of-type {\n",
       "        vertical-align: middle;\n",
       "    }\n",
       "\n",
       "    .dataframe tbody tr th {\n",
       "        vertical-align: top;\n",
       "    }\n",
       "\n",
       "    .dataframe thead th {\n",
       "        text-align: right;\n",
       "    }\n",
       "</style>\n",
       "<table border=\"1\" class=\"dataframe\">\n",
       "  <thead>\n",
       "    <tr style=\"text-align: right;\">\n",
       "      <th></th>\n",
       "      <th>operator</th>\n",
       "      <th>hdwy_dev</th>\n",
       "    </tr>\n",
       "  </thead>\n",
       "  <tbody>\n",
       "    <tr>\n",
       "      <th>0</th>\n",
       "      <td>0</td>\n",
       "      <td>27.049975</td>\n",
       "    </tr>\n",
       "    <tr>\n",
       "      <th>1</th>\n",
       "      <td>30</td>\n",
       "      <td>-8.250001</td>\n",
       "    </tr>\n",
       "    <tr>\n",
       "      <th>2</th>\n",
       "      <td>85</td>\n",
       "      <td>-9.833334</td>\n",
       "    </tr>\n",
       "    <tr>\n",
       "      <th>3</th>\n",
       "      <td>86</td>\n",
       "      <td>-88.300006</td>\n",
       "    </tr>\n",
       "    <tr>\n",
       "      <th>4</th>\n",
       "      <td>93</td>\n",
       "      <td>12.816665</td>\n",
       "    </tr>\n",
       "    <tr>\n",
       "      <th>...</th>\n",
       "      <td>...</td>\n",
       "      <td>...</td>\n",
       "    </tr>\n",
       "    <tr>\n",
       "      <th>439</th>\n",
       "      <td>2622</td>\n",
       "      <td>-54.933463</td>\n",
       "    </tr>\n",
       "    <tr>\n",
       "      <th>440</th>\n",
       "      <td>2623</td>\n",
       "      <td>-75.050044</td>\n",
       "    </tr>\n",
       "    <tr>\n",
       "      <th>441</th>\n",
       "      <td>2624</td>\n",
       "      <td>60.749987</td>\n",
       "    </tr>\n",
       "    <tr>\n",
       "      <th>442</th>\n",
       "      <td>2630</td>\n",
       "      <td>-24.483389</td>\n",
       "    </tr>\n",
       "    <tr>\n",
       "      <th>443</th>\n",
       "      <td>22554</td>\n",
       "      <td>-32.450001</td>\n",
       "    </tr>\n",
       "  </tbody>\n",
       "</table>\n",
       "<p>444 rows × 2 columns</p>\n",
       "</div>"
      ],
      "text/plain": [
       "     operator   hdwy_dev\n",
       "0           0  27.049975\n",
       "1          30  -8.250001\n",
       "2          85  -9.833334\n",
       "3          86 -88.300006\n",
       "4          93  12.816665\n",
       "..        ...        ...\n",
       "439      2622 -54.933463\n",
       "440      2623 -75.050044\n",
       "441      2624  60.749987\n",
       "442      2630 -24.483389\n",
       "443     22554 -32.450001\n",
       "\n",
       "[444 rows x 2 columns]"
      ]
     },
     "execution_count": 14,
     "metadata": {},
     "output_type": "execute_result"
    }
   ],
   "source": [
    "hdwy_gb"
   ]
  },
  {
   "cell_type": "markdown",
   "metadata": {},
   "source": [
    "Graph"
   ]
  },
  {
   "cell_type": "code",
   "execution_count": 15,
   "metadata": {},
   "outputs": [
    {
     "data": {
      "text/plain": [
       "<AxesSubplot:>"
      ]
     },
     "execution_count": 15,
     "metadata": {},
     "output_type": "execute_result"
    },
    {
     "data": {
      "image/png": "[encoded data removed]",
      "text/plain": [
       "<Figure size 640x480 with 1 Axes>"
      ]
     },
     "metadata": {},
     "output_type": "display_data"
    }
   ],
   "source": [
    "hdwy_gb['hdwy_dev'].plot(kind='box')"
   ]
  },
  {
   "cell_type": "code",
   "execution_count": 16,
   "metadata": {},
   "outputs": [
    {
     "data": {
      "text/plain": [
       "312    34458.480598\n",
       "18     24896.647263\n",
       "241    17897.930499\n",
       "218    16774.281483\n",
       "238    16289.597135\n",
       "158    14220.748003\n",
       "171    14113.280896\n",
       "14     13593.697703\n",
       "103    13132.081289\n",
       "317    12090.679946\n",
       "Name: hdwy_dev, dtype: float64"
      ]
     },
     "execution_count": 16,
     "metadata": {},
     "output_type": "execute_result"
    }
   ],
   "source": [
    "hdwy_gb['hdwy_dev'].nlargest(10)"
   ]
  },
  {
   "cell_type": "code",
   "execution_count": 17,
   "metadata": {},
   "outputs": [
    {
     "data": {
      "text/plain": [
       "193   -10925.286407\n",
       "315    -7406.935503\n",
       "174    -7227.951619\n",
       "15     -6159.336547\n",
       "154    -6042.602813\n",
       "180    -5833.534662\n",
       "63     -5748.653927\n",
       "142    -5155.467901\n",
       "173    -5056.934770\n",
       "298    -5016.267764\n",
       "Name: hdwy_dev, dtype: float64"
      ]
     },
     "execution_count": 17,
     "metadata": {},
     "output_type": "execute_result"
    }
   ],
   "source": [
    "hdwy_gb['hdwy_dev'].nsmallest(10)"
   ]
  },
  {
   "cell_type": "code",
   "execution_count": 18,
   "metadata": {},
   "outputs": [
    {
     "data": {
      "text/html": [
       "<div>\n",
       "<style scoped>\n",
       "    .dataframe tbody tr th:only-of-type {\n",
       "        vertical-align: middle;\n",
       "    }\n",
       "\n",
       "    .dataframe tbody tr th {\n",
       "        vertical-align: top;\n",
       "    }\n",
       "\n",
       "    .dataframe thead th {\n",
       "        text-align: right;\n",
       "    }\n",
       "</style>\n",
       "<table border=\"1\" class=\"dataframe\">\n",
       "  <thead>\n",
       "    <tr style=\"text-align: right;\">\n",
       "      <th></th>\n",
       "      <th>operator</th>\n",
       "      <th>hdwy_dev</th>\n",
       "    </tr>\n",
       "  </thead>\n",
       "  <tbody>\n",
       "    <tr>\n",
       "      <th>count</th>\n",
       "      <td>444.000000</td>\n",
       "      <td>444.000000</td>\n",
       "    </tr>\n",
       "    <tr>\n",
       "      <th>mean</th>\n",
       "      <td>1814.137387</td>\n",
       "      <td>1238.263620</td>\n",
       "    </tr>\n",
       "    <tr>\n",
       "      <th>std</th>\n",
       "      <td>1205.534310</td>\n",
       "      <td>4094.219948</td>\n",
       "    </tr>\n",
       "    <tr>\n",
       "      <th>min</th>\n",
       "      <td>0.000000</td>\n",
       "      <td>-10925.286407</td>\n",
       "    </tr>\n",
       "    <tr>\n",
       "      <th>25%</th>\n",
       "      <td>1329.250000</td>\n",
       "      <td>-342.363516</td>\n",
       "    </tr>\n",
       "    <tr>\n",
       "      <th>50%</th>\n",
       "      <td>1918.500000</td>\n",
       "      <td>146.033248</td>\n",
       "    </tr>\n",
       "    <tr>\n",
       "      <th>75%</th>\n",
       "      <td>2373.250000</td>\n",
       "      <td>2303.923642</td>\n",
       "    </tr>\n",
       "    <tr>\n",
       "      <th>max</th>\n",
       "      <td>22554.000000</td>\n",
       "      <td>34458.480598</td>\n",
       "    </tr>\n",
       "  </tbody>\n",
       "</table>\n",
       "</div>"
      ],
      "text/plain": [
       "           operator      hdwy_dev\n",
       "count    444.000000    444.000000\n",
       "mean    1814.137387   1238.263620\n",
       "std     1205.534310   4094.219948\n",
       "min        0.000000 -10925.286407\n",
       "25%     1329.250000   -342.363516\n",
       "50%     1918.500000    146.033248\n",
       "75%     2373.250000   2303.923642\n",
       "max    22554.000000  34458.480598"
      ]
     },
     "execution_count": 18,
     "metadata": {},
     "output_type": "execute_result"
    }
   ],
   "source": [
    "hdwy_gb.describe()"
   ]
  },
  {
   "cell_type": "markdown",
   "metadata": {},
   "source": [
    "Sum graphs"
   ]
  },
  {
   "cell_type": "code",
   "execution_count": 19,
   "metadata": {},
   "outputs": [
    {
     "data": {
      "image/png": "[encoded data removed]",
      "text/plain": [
       "<Figure size 640x480 with 1 Axes>"
      ]
     },
     "metadata": {},
     "output_type": "display_data"
    }
   ],
   "source": [
    "p = sns.boxplot(x=\"hdwy_dev\",\n",
    "            palette=[\"m\", \"g\"],\n",
    "            data=hdwy_gb)\n",
    "ax = plt.gca()\n",
    "# ylim max value to be set\n",
    "y_max = hdwy_gb['hdwy_dev'].value_counts().max() \n",
    "ax.set_ylim([0, y_max])\n",
    "\n",
    "# Iterate through the list of axes' patches\n",
    "for p in ax.patches:\n",
    "    ax.text(p.get_x() + p.get_width()/2., p.get_height(), '%d' % int(p.get_height()), \n",
    "            fontsize=12, color='red', ha='center', va='bottom')\n",
    "\n",
    "plt.show()"
   ]
  },
  {
   "cell_type": "code",
   "execution_count": 20,
   "metadata": {},
   "outputs": [
    {
     "data": {
      "text/plain": [
       "<AxesSubplot:ylabel='Frequency'>"
      ]
     },
     "execution_count": 20,
     "metadata": {},
     "output_type": "execute_result"
    },
    {
     "data": {
      "image/png": "[encoded data removed]",
      "text/plain": [
       "<Figure size 640x480 with 1 Axes>"
      ]
     },
     "metadata": {},
     "output_type": "display_data"
    }
   ],
   "source": [
    "hdwy_gb['hdwy_dev'].plot(kind='hist')"
   ]
  },
  {
   "cell_type": "markdown",
   "metadata": {},
   "source": [
    "Mean graphs. So mean."
   ]
  },
  {
   "cell_type": "code",
   "execution_count": 21,
   "metadata": {},
   "outputs": [],
   "source": [
    "hdwy_mean = hdwy.groupby(['operator'],as_index = False)['hdwy_dev'].mean()"
   ]
  },
  {
   "cell_type": "code",
   "execution_count": 22,
   "metadata": {},
   "outputs": [
    {
     "data": {
      "text/html": [
       "<div>\n",
       "<style scoped>\n",
       "    .dataframe tbody tr th:only-of-type {\n",
       "        vertical-align: middle;\n",
       "    }\n",
       "\n",
       "    .dataframe tbody tr th {\n",
       "        vertical-align: top;\n",
       "    }\n",
       "\n",
       "    .dataframe thead th {\n",
       "        text-align: right;\n",
       "    }\n",
       "</style>\n",
       "<table border=\"1\" class=\"dataframe\">\n",
       "  <thead>\n",
       "    <tr style=\"text-align: right;\">\n",
       "      <th></th>\n",
       "      <th>operator</th>\n",
       "      <th>hdwy_dev</th>\n",
       "    </tr>\n",
       "  </thead>\n",
       "  <tbody>\n",
       "    <tr>\n",
       "      <th>0</th>\n",
       "      <td>0</td>\n",
       "      <td>0.360666</td>\n",
       "    </tr>\n",
       "    <tr>\n",
       "      <th>1</th>\n",
       "      <td>30</td>\n",
       "      <td>-4.125000</td>\n",
       "    </tr>\n",
       "    <tr>\n",
       "      <th>2</th>\n",
       "      <td>85</td>\n",
       "      <td>-9.833334</td>\n",
       "    </tr>\n",
       "    <tr>\n",
       "      <th>3</th>\n",
       "      <td>86</td>\n",
       "      <td>-4.013637</td>\n",
       "    </tr>\n",
       "    <tr>\n",
       "      <th>4</th>\n",
       "      <td>93</td>\n",
       "      <td>2.563333</td>\n",
       "    </tr>\n",
       "    <tr>\n",
       "      <th>...</th>\n",
       "      <td>...</td>\n",
       "      <td>...</td>\n",
       "    </tr>\n",
       "    <tr>\n",
       "      <th>439</th>\n",
       "      <td>2622</td>\n",
       "      <td>-0.146100</td>\n",
       "    </tr>\n",
       "    <tr>\n",
       "      <th>440</th>\n",
       "      <td>2623</td>\n",
       "      <td>-0.560075</td>\n",
       "    </tr>\n",
       "    <tr>\n",
       "      <th>441</th>\n",
       "      <td>2624</td>\n",
       "      <td>1.786764</td>\n",
       "    </tr>\n",
       "    <tr>\n",
       "      <th>442</th>\n",
       "      <td>2630</td>\n",
       "      <td>-0.137547</td>\n",
       "    </tr>\n",
       "    <tr>\n",
       "      <th>443</th>\n",
       "      <td>22554</td>\n",
       "      <td>-10.816667</td>\n",
       "    </tr>\n",
       "  </tbody>\n",
       "</table>\n",
       "<p>444 rows × 2 columns</p>\n",
       "</div>"
      ],
      "text/plain": [
       "     operator   hdwy_dev\n",
       "0           0   0.360666\n",
       "1          30  -4.125000\n",
       "2          85  -9.833334\n",
       "3          86  -4.013637\n",
       "4          93   2.563333\n",
       "..        ...        ...\n",
       "439      2622  -0.146100\n",
       "440      2623  -0.560075\n",
       "441      2624   1.786764\n",
       "442      2630  -0.137547\n",
       "443     22554 -10.816667\n",
       "\n",
       "[444 rows x 2 columns]"
      ]
     },
     "execution_count": 22,
     "metadata": {},
     "output_type": "execute_result"
    }
   ],
   "source": [
    "hdwy_mean"
   ]
  },
  {
   "cell_type": "code",
   "execution_count": 23,
   "metadata": {},
   "outputs": [
    {
     "data": {
      "text/plain": [
       "<AxesSubplot:title={'center':'Test'}, ylabel='Frequency'>"
      ]
     },
     "execution_count": 23,
     "metadata": {},
     "output_type": "execute_result"
    },
    {
     "data": {
      "image/png": "[encoded data removed]",
      "text/plain": [
       "<Figure size 640x480 with 1 Axes>"
      ]
     },
     "metadata": {},
     "output_type": "display_data"
    }
   ],
   "source": [
    "hdwy_mean['hdwy_dev'].plot(kind='hist',title='Test')"
   ]
  },
  {
   "cell_type": "markdown",
   "metadata": {},
   "source": [
    "Histogram. Averages of hdwy deviation per driver."
   ]
  },
  {
   "cell_type": "code",
   "execution_count": 24,
   "metadata": {},
   "outputs": [
    {
     "data": {
      "image/png": "[encoded data removed]",
      "text/plain": [
       "<Figure size 640x480 with 1 Axes>"
      ]
     },
     "metadata": {},
     "output_type": "display_data"
    }
   ],
   "source": [
    "sns.histplot(x=\"hdwy_dev\",\n",
    "            #palette=['Paired'],\n",
    "            data=hdwy_mean).set(title = 'Average HDWY Deviation Per Driver',xlabel='HDWY Deviation',ylabel='Driver Count',xlim=(-20,20))\n",
    "sns.set_theme(style='white', palette=('Paired'), font='sans-serif', font_scale=1, color_codes=True, rc=None)\n",
    "plt.grid(visible = True, axis = 'y')\n"
   ]
  },
  {
   "cell_type": "code",
   "execution_count": 32,
   "metadata": {},
   "outputs": [
    {
     "data": {
      "image/png": "[encoded data removed]",
      "text/plain": [
       "<Figure size 640x480 with 1 Axes>"
      ]
     },
     "metadata": {},
     "output_type": "display_data"
    }
   ],
   "source": [
    "sns.histplot(x=\"hdwy_dev\",\n",
    "            #palette=['Paired'],\n",
    "            data=hdwy_mean,edgecolor=\"0\",bins=50).set(title = 'Average HDWY Deviation Per Driver',xlabel='HDWY Deviation',ylabel='Frequency',xlim=(-20,20))\n",
    "sns.set_theme(style='white', palette=('Paired'), font='sans-serif', font_scale=1, color_codes=True, rc=None)\n",
    "plt.grid(visible = True, axis = 'y')"
   ]
  },
  {
   "cell_type": "markdown",
   "metadata": {},
   "source": [
    "boxplot. average headway per driver."
   ]
  },
  {
   "cell_type": "code",
   "execution_count": null,
   "metadata": {},
   "outputs": [
    {
     "data": {
      "image/png": "[encoded data removed]",
      "text/plain": [
       "<Figure size 640x480 with 1 Axes>"
      ]
     },
     "metadata": {},
     "output_type": "display_data"
    }
   ],
   "source": [
    "sns.boxplot(x=\"hdwy_dev\",\n",
    "            #palette=[\"m\", \"g\"],\n",
    "            data=hdwy_mean)\n",
    "sns.set_theme(style='whitegrid', palette=('Paired'), font='sans-serif', font_scale=1, color_codes=True, rc=None)"
   ]
  }
 ],
 "metadata": {
  "kernelspec": {
   "display_name": "Python 3.9.7 ('base')",
   "language": "python",
   "name": "python3"
  },
  "language_info": {
   "codemirror_mode": {
    "name": "ipython",
    "version": 3
   },
   "file_extension": ".py",
   "mimetype": "text/x-python",
   "name": "python",
   "nbconvert_exporter": "python",
   "pygments_lexer": "ipython3",
   "version": "3.9.7"
  },
  "vscode": {
   "interpreter": {
    "hash": "e83933c89791523ce27b9c1ac2fa3a2bbb0f839e7a6d72c2a74f34bb50225d36"
   }
  }
 },
 "nbformat": 4,
 "nbformat_minor": 2
}
