{
 "cells": [
  {
   "cell_type": "code",
   "execution_count": 1,
   "metadata": {},
   "outputs": [],
   "source": [
    "import pandas as pd\n",
    "import numpy as np\n",
    "import matplotlib.pyplot as plt\n",
    "import seaborn as sns\n",
    "%matplotlib inline"
   ]
  },
  {
   "cell_type": "code",
   "execution_count": 2,
   "metadata": {},
   "outputs": [
    {
     "data": {
      "text/html": [
       "<div>\n",
       "<style scoped>\n",
       "    .dataframe tbody tr th:only-of-type {\n",
       "        vertical-align: middle;\n",
       "    }\n",
       "\n",
       "    .dataframe tbody tr th {\n",
       "        vertical-align: top;\n",
       "    }\n",
       "\n",
       "    .dataframe thead th {\n",
       "        text-align: right;\n",
       "    }\n",
       "</style>\n",
       "<table border=\"1\" class=\"dataframe\">\n",
       "  <thead>\n",
       "    <tr style=\"text-align: right;\">\n",
       "      <th></th>\n",
       "      <th>CALENDAR_ID</th>\n",
       "      <th>SERVICE_ABBR</th>\n",
       "      <th>ADHERENCE_ID</th>\n",
       "      <th>DATE</th>\n",
       "      <th>ROUTE_ABBR</th>\n",
       "      <th>BLOCK_ABBR</th>\n",
       "      <th>OPERATOR</th>\n",
       "      <th>TRIP_ID</th>\n",
       "      <th>OVERLOAD_ID</th>\n",
       "      <th>ROUTE_DIRECTION_NAME</th>\n",
       "      <th>...</th>\n",
       "      <th>ACTUAL_HDWY</th>\n",
       "      <th>HDWY_DEV</th>\n",
       "      <th>ADJUSTED_EARLY_COUNT</th>\n",
       "      <th>ADJUSTED_LATE_COUNT</th>\n",
       "      <th>ADJUSTED_ONTIME_COUNT</th>\n",
       "      <th>STOP_CANCELLED</th>\n",
       "      <th>PREV_SCHED_STOP_CANCELLED</th>\n",
       "      <th>IS_RELIEF</th>\n",
       "      <th>BLOCK_STOP_ORDER</th>\n",
       "      <th>DWELL_IN_MINS</th>\n",
       "    </tr>\n",
       "  </thead>\n",
       "  <tbody>\n",
       "    <tr>\n",
       "      <th>0</th>\n",
       "      <td>120211101</td>\n",
       "      <td>1</td>\n",
       "      <td>76447164</td>\n",
       "      <td>2021-11-01</td>\n",
       "      <td>7</td>\n",
       "      <td>1704</td>\n",
       "      <td>2088</td>\n",
       "      <td>297750</td>\n",
       "      <td>0</td>\n",
       "      <td>TO DOWNTOWN</td>\n",
       "      <td>...</td>\n",
       "      <td>15.983333</td>\n",
       "      <td>1.983333</td>\n",
       "      <td>0</td>\n",
       "      <td>0</td>\n",
       "      <td>1</td>\n",
       "      <td>0</td>\n",
       "      <td>0.0</td>\n",
       "      <td>0</td>\n",
       "      <td>2</td>\n",
       "      <td>12.650000</td>\n",
       "    </tr>\n",
       "    <tr>\n",
       "      <th>1</th>\n",
       "      <td>120211101</td>\n",
       "      <td>1</td>\n",
       "      <td>76447165</td>\n",
       "      <td>2021-11-01</td>\n",
       "      <td>7</td>\n",
       "      <td>1704</td>\n",
       "      <td>2088</td>\n",
       "      <td>297750</td>\n",
       "      <td>0</td>\n",
       "      <td>TO DOWNTOWN</td>\n",
       "      <td>...</td>\n",
       "      <td>17.333333</td>\n",
       "      <td>3.333333</td>\n",
       "      <td>0</td>\n",
       "      <td>0</td>\n",
       "      <td>1</td>\n",
       "      <td>0</td>\n",
       "      <td>0.0</td>\n",
       "      <td>0</td>\n",
       "      <td>11</td>\n",
       "      <td>0.000000</td>\n",
       "    </tr>\n",
       "    <tr>\n",
       "      <th>2</th>\n",
       "      <td>120211101</td>\n",
       "      <td>1</td>\n",
       "      <td>76447166</td>\n",
       "      <td>2021-11-01</td>\n",
       "      <td>7</td>\n",
       "      <td>1704</td>\n",
       "      <td>2088</td>\n",
       "      <td>297750</td>\n",
       "      <td>0</td>\n",
       "      <td>TO DOWNTOWN</td>\n",
       "      <td>...</td>\n",
       "      <td>NaN</td>\n",
       "      <td>NaN</td>\n",
       "      <td>0</td>\n",
       "      <td>1</td>\n",
       "      <td>0</td>\n",
       "      <td>0</td>\n",
       "      <td>NaN</td>\n",
       "      <td>0</td>\n",
       "      <td>23</td>\n",
       "      <td>22.416666</td>\n",
       "    </tr>\n",
       "    <tr>\n",
       "      <th>3</th>\n",
       "      <td>120211101</td>\n",
       "      <td>1</td>\n",
       "      <td>76447167</td>\n",
       "      <td>2021-11-01</td>\n",
       "      <td>50</td>\n",
       "      <td>1704</td>\n",
       "      <td>2088</td>\n",
       "      <td>297749</td>\n",
       "      <td>0</td>\n",
       "      <td>TO DOWNTOWN</td>\n",
       "      <td>...</td>\n",
       "      <td>NaN</td>\n",
       "      <td>NaN</td>\n",
       "      <td>0</td>\n",
       "      <td>0</td>\n",
       "      <td>1</td>\n",
       "      <td>0</td>\n",
       "      <td>0.0</td>\n",
       "      <td>0</td>\n",
       "      <td>24</td>\n",
       "      <td>5.766666</td>\n",
       "    </tr>\n",
       "    <tr>\n",
       "      <th>4</th>\n",
       "      <td>120211101</td>\n",
       "      <td>1</td>\n",
       "      <td>76447168</td>\n",
       "      <td>2021-11-01</td>\n",
       "      <td>50</td>\n",
       "      <td>1704</td>\n",
       "      <td>2088</td>\n",
       "      <td>297749</td>\n",
       "      <td>0</td>\n",
       "      <td>TO DOWNTOWN</td>\n",
       "      <td>...</td>\n",
       "      <td>NaN</td>\n",
       "      <td>NaN</td>\n",
       "      <td>0</td>\n",
       "      <td>0</td>\n",
       "      <td>1</td>\n",
       "      <td>0</td>\n",
       "      <td>NaN</td>\n",
       "      <td>0</td>\n",
       "      <td>25</td>\n",
       "      <td>0.000000</td>\n",
       "    </tr>\n",
       "    <tr>\n",
       "      <th>5</th>\n",
       "      <td>120211101</td>\n",
       "      <td>1</td>\n",
       "      <td>76447969</td>\n",
       "      <td>2021-11-01</td>\n",
       "      <td>22</td>\n",
       "      <td>2200</td>\n",
       "      <td>1352</td>\n",
       "      <td>298143</td>\n",
       "      <td>0</td>\n",
       "      <td>TO DOWNTOWN</td>\n",
       "      <td>...</td>\n",
       "      <td>NaN</td>\n",
       "      <td>NaN</td>\n",
       "      <td>0</td>\n",
       "      <td>0</td>\n",
       "      <td>1</td>\n",
       "      <td>0</td>\n",
       "      <td>0.0</td>\n",
       "      <td>0</td>\n",
       "      <td>2</td>\n",
       "      <td>12.333333</td>\n",
       "    </tr>\n",
       "    <tr>\n",
       "      <th>6</th>\n",
       "      <td>120211101</td>\n",
       "      <td>1</td>\n",
       "      <td>76447970</td>\n",
       "      <td>2021-11-01</td>\n",
       "      <td>22</td>\n",
       "      <td>2200</td>\n",
       "      <td>1352</td>\n",
       "      <td>298143</td>\n",
       "      <td>0</td>\n",
       "      <td>TO DOWNTOWN</td>\n",
       "      <td>...</td>\n",
       "      <td>NaN</td>\n",
       "      <td>NaN</td>\n",
       "      <td>0</td>\n",
       "      <td>0</td>\n",
       "      <td>1</td>\n",
       "      <td>0</td>\n",
       "      <td>0.0</td>\n",
       "      <td>0</td>\n",
       "      <td>9</td>\n",
       "      <td>0.000000</td>\n",
       "    </tr>\n",
       "    <tr>\n",
       "      <th>7</th>\n",
       "      <td>120211101</td>\n",
       "      <td>1</td>\n",
       "      <td>76447971</td>\n",
       "      <td>2021-11-01</td>\n",
       "      <td>22</td>\n",
       "      <td>2200</td>\n",
       "      <td>1352</td>\n",
       "      <td>298143</td>\n",
       "      <td>0</td>\n",
       "      <td>TO DOWNTOWN</td>\n",
       "      <td>...</td>\n",
       "      <td>NaN</td>\n",
       "      <td>NaN</td>\n",
       "      <td>0</td>\n",
       "      <td>0</td>\n",
       "      <td>1</td>\n",
       "      <td>0</td>\n",
       "      <td>0.0</td>\n",
       "      <td>0</td>\n",
       "      <td>19</td>\n",
       "      <td>0.000000</td>\n",
       "    </tr>\n",
       "    <tr>\n",
       "      <th>8</th>\n",
       "      <td>120211101</td>\n",
       "      <td>1</td>\n",
       "      <td>76447972</td>\n",
       "      <td>2021-11-01</td>\n",
       "      <td>22</td>\n",
       "      <td>2200</td>\n",
       "      <td>1352</td>\n",
       "      <td>298143</td>\n",
       "      <td>0</td>\n",
       "      <td>TO DOWNTOWN</td>\n",
       "      <td>...</td>\n",
       "      <td>NaN</td>\n",
       "      <td>NaN</td>\n",
       "      <td>0</td>\n",
       "      <td>0</td>\n",
       "      <td>1</td>\n",
       "      <td>0</td>\n",
       "      <td>NaN</td>\n",
       "      <td>0</td>\n",
       "      <td>35</td>\n",
       "      <td>0.000000</td>\n",
       "    </tr>\n",
       "    <tr>\n",
       "      <th>9</th>\n",
       "      <td>120211101</td>\n",
       "      <td>1</td>\n",
       "      <td>76447973</td>\n",
       "      <td>2021-11-01</td>\n",
       "      <td>22</td>\n",
       "      <td>2200</td>\n",
       "      <td>1352</td>\n",
       "      <td>298162</td>\n",
       "      <td>0</td>\n",
       "      <td>FROM DOWNTOWN</td>\n",
       "      <td>...</td>\n",
       "      <td>NaN</td>\n",
       "      <td>NaN</td>\n",
       "      <td>0</td>\n",
       "      <td>0</td>\n",
       "      <td>1</td>\n",
       "      <td>0</td>\n",
       "      <td>0.0</td>\n",
       "      <td>0</td>\n",
       "      <td>36</td>\n",
       "      <td>11.383333</td>\n",
       "    </tr>\n",
       "  </tbody>\n",
       "</table>\n",
       "<p>10 rows × 30 columns</p>\n",
       "</div>"
      ],
      "text/plain": [
       "   CALENDAR_ID  SERVICE_ABBR  ADHERENCE_ID        DATE  ROUTE_ABBR  \\\n",
       "0    120211101             1      76447164  2021-11-01           7   \n",
       "1    120211101             1      76447165  2021-11-01           7   \n",
       "2    120211101             1      76447166  2021-11-01           7   \n",
       "3    120211101             1      76447167  2021-11-01          50   \n",
       "4    120211101             1      76447168  2021-11-01          50   \n",
       "5    120211101             1      76447969  2021-11-01          22   \n",
       "6    120211101             1      76447970  2021-11-01          22   \n",
       "7    120211101             1      76447971  2021-11-01          22   \n",
       "8    120211101             1      76447972  2021-11-01          22   \n",
       "9    120211101             1      76447973  2021-11-01          22   \n",
       "\n",
       "   BLOCK_ABBR  OPERATOR  TRIP_ID  OVERLOAD_ID ROUTE_DIRECTION_NAME  ...  \\\n",
       "0        1704      2088   297750            0          TO DOWNTOWN  ...   \n",
       "1        1704      2088   297750            0          TO DOWNTOWN  ...   \n",
       "2        1704      2088   297750            0          TO DOWNTOWN  ...   \n",
       "3        1704      2088   297749            0          TO DOWNTOWN  ...   \n",
       "4        1704      2088   297749            0          TO DOWNTOWN  ...   \n",
       "5        2200      1352   298143            0          TO DOWNTOWN  ...   \n",
       "6        2200      1352   298143            0          TO DOWNTOWN  ...   \n",
       "7        2200      1352   298143            0          TO DOWNTOWN  ...   \n",
       "8        2200      1352   298143            0          TO DOWNTOWN  ...   \n",
       "9        2200      1352   298162            0        FROM DOWNTOWN  ...   \n",
       "\n",
       "  ACTUAL_HDWY  HDWY_DEV  ADJUSTED_EARLY_COUNT  ADJUSTED_LATE_COUNT  \\\n",
       "0   15.983333  1.983333                     0                    0   \n",
       "1   17.333333  3.333333                     0                    0   \n",
       "2         NaN       NaN                     0                    1   \n",
       "3         NaN       NaN                     0                    0   \n",
       "4         NaN       NaN                     0                    0   \n",
       "5         NaN       NaN                     0                    0   \n",
       "6         NaN       NaN                     0                    0   \n",
       "7         NaN       NaN                     0                    0   \n",
       "8         NaN       NaN                     0                    0   \n",
       "9         NaN       NaN                     0                    0   \n",
       "\n",
       "   ADJUSTED_ONTIME_COUNT STOP_CANCELLED PREV_SCHED_STOP_CANCELLED IS_RELIEF  \\\n",
       "0                      1              0                       0.0         0   \n",
       "1                      1              0                       0.0         0   \n",
       "2                      0              0                       NaN         0   \n",
       "3                      1              0                       0.0         0   \n",
       "4                      1              0                       NaN         0   \n",
       "5                      1              0                       0.0         0   \n",
       "6                      1              0                       0.0         0   \n",
       "7                      1              0                       0.0         0   \n",
       "8                      1              0                       NaN         0   \n",
       "9                      1              0                       0.0         0   \n",
       "\n",
       "   BLOCK_STOP_ORDER  DWELL_IN_MINS  \n",
       "0                 2      12.650000  \n",
       "1                11       0.000000  \n",
       "2                23      22.416666  \n",
       "3                24       5.766666  \n",
       "4                25       0.000000  \n",
       "5                 2      12.333333  \n",
       "6                 9       0.000000  \n",
       "7                19       0.000000  \n",
       "8                35       0.000000  \n",
       "9                36      11.383333  \n",
       "\n",
       "[10 rows x 30 columns]"
      ]
     },
     "execution_count": 2,
     "metadata": {},
     "output_type": "execute_result"
    }
   ],
   "source": [
    "df = pd.read_csv(r\"C:\\Users\\jhank\\Desktop\\DA7\\Projects\\wego-shut_up_and_take_my_query\\data\\Headway Data.csv\")\n",
    "df.head(10)"
   ]
  },
  {
   "cell_type": "code",
   "execution_count": 3,
   "metadata": {},
   "outputs": [
    {
     "name": "stderr",
     "output_type": "stream",
     "text": [
      "C:\\Users\\jhank\\AppData\\Local\\Temp\\ipykernel_11480\\2304278101.py:1: FutureWarning: Indexing with multiple keys (implicitly converted to a tuple of keys) will be deprecated, use a list instead.\n",
      "  te_df1= df.groupby(['ROUTE_ABBR'], as_index=False)['ADHERENCE', 'DWELL_IN_MINS'].mean().round()\n"
     ]
    },
    {
     "data": {
      "text/html": [
       "<div>\n",
       "<style scoped>\n",
       "    .dataframe tbody tr th:only-of-type {\n",
       "        vertical-align: middle;\n",
       "    }\n",
       "\n",
       "    .dataframe tbody tr th {\n",
       "        vertical-align: top;\n",
       "    }\n",
       "\n",
       "    .dataframe thead th {\n",
       "        text-align: right;\n",
       "    }\n",
       "</style>\n",
       "<table border=\"1\" class=\"dataframe\">\n",
       "  <thead>\n",
       "    <tr style=\"text-align: right;\">\n",
       "      <th></th>\n",
       "      <th>ROUTE_ABBR</th>\n",
       "      <th>ADHERENCE</th>\n",
       "      <th>DWELL_IN_MINS</th>\n",
       "    </tr>\n",
       "  </thead>\n",
       "  <tbody>\n",
       "    <tr>\n",
       "      <th>0</th>\n",
       "      <td>3</td>\n",
       "      <td>-2.0</td>\n",
       "      <td>2.0</td>\n",
       "    </tr>\n",
       "    <tr>\n",
       "      <th>1</th>\n",
       "      <td>7</td>\n",
       "      <td>-2.0</td>\n",
       "      <td>4.0</td>\n",
       "    </tr>\n",
       "    <tr>\n",
       "      <th>2</th>\n",
       "      <td>22</td>\n",
       "      <td>-1.0</td>\n",
       "      <td>3.0</td>\n",
       "    </tr>\n",
       "    <tr>\n",
       "      <th>3</th>\n",
       "      <td>23</td>\n",
       "      <td>-1.0</td>\n",
       "      <td>3.0</td>\n",
       "    </tr>\n",
       "    <tr>\n",
       "      <th>4</th>\n",
       "      <td>50</td>\n",
       "      <td>-2.0</td>\n",
       "      <td>3.0</td>\n",
       "    </tr>\n",
       "    <tr>\n",
       "      <th>5</th>\n",
       "      <td>52</td>\n",
       "      <td>-2.0</td>\n",
       "      <td>3.0</td>\n",
       "    </tr>\n",
       "    <tr>\n",
       "      <th>6</th>\n",
       "      <td>55</td>\n",
       "      <td>-3.0</td>\n",
       "      <td>2.0</td>\n",
       "    </tr>\n",
       "    <tr>\n",
       "      <th>7</th>\n",
       "      <td>56</td>\n",
       "      <td>-2.0</td>\n",
       "      <td>3.0</td>\n",
       "    </tr>\n",
       "  </tbody>\n",
       "</table>\n",
       "</div>"
      ],
      "text/plain": [
       "   ROUTE_ABBR  ADHERENCE  DWELL_IN_MINS\n",
       "0           3       -2.0            2.0\n",
       "1           7       -2.0            4.0\n",
       "2          22       -1.0            3.0\n",
       "3          23       -1.0            3.0\n",
       "4          50       -2.0            3.0\n",
       "5          52       -2.0            3.0\n",
       "6          55       -3.0            2.0\n",
       "7          56       -2.0            3.0"
      ]
     },
     "execution_count": 3,
     "metadata": {},
     "output_type": "execute_result"
    }
   ],
   "source": [
    "te_df1= df.groupby(['ROUTE_ABBR'], as_index=False)['ADHERENCE', 'DWELL_IN_MINS'].mean().round()\n",
    "te_df1\n"
   ]
  },
  {
   "cell_type": "code",
   "execution_count": null,
   "metadata": {},
   "outputs": [],
   "source": [
    "df.tail(10)"
   ]
  },
  {
   "cell_type": "code",
   "execution_count": null,
   "metadata": {},
   "outputs": [],
   "source": [
    "df.info()"
   ]
  },
  {
   "cell_type": "code",
   "execution_count": null,
   "metadata": {},
   "outputs": [],
   "source": [
    "oper = df['OPERATOR'].nunique()"
   ]
  },
  {
   "cell_type": "code",
   "execution_count": null,
   "metadata": {},
   "outputs": [],
   "source": [
    "oper"
   ]
  },
  {
   "cell_type": "code",
   "execution_count": null,
   "metadata": {},
   "outputs": [],
   "source": [
    "eda1 = df[['ROUTE_ABBR','TRIP_ID','ROUTE_DIRECTION_NAME', 'HDWY_DEV', 'SCHEDULED_HDWY', 'ROUTE_STOP_SEQUENCE','TRIP_EDGE','SCHEDULED_TIME','ACTUAL_ARRIVAL_TIME','ACTUAL_DEPARTURE_TIME','ADHERENCE','ADJUSTED_LATE_COUNT']]"
   ]
  },
  {
   "cell_type": "code",
   "execution_count": null,
   "metadata": {},
   "outputs": [],
   "source": [
    "eda1.info()"
   ]
  },
  {
   "cell_type": "markdown",
   "metadata": {},
   "source": [
    "Adherence is the amount of time between scheduled time and actual departure time. A negtive number means it left that long after the scheduled time, a postive number means it left before its scheduled_time.\n",
    "\n",
    "Trip edge 1 is the start of a route, and 2 is the end. "
   ]
  },
  {
   "cell_type": "code",
   "execution_count": null,
   "metadata": {},
   "outputs": [],
   "source": [
    "eda1.head()"
   ]
  },
  {
   "cell_type": "code",
   "execution_count": null,
   "metadata": {},
   "outputs": [],
   "source": [
    "#All trip_edge #1\n",
    "edge_one = eda1.loc[df['TRIP_EDGE'] == 1]"
   ]
  },
  {
   "cell_type": "code",
   "execution_count": null,
   "metadata": {},
   "outputs": [],
   "source": [
    "edge_one.head(20)"
   ]
  },
  {
   "cell_type": "markdown",
   "metadata": {},
   "source": [
    "DF by route #"
   ]
  },
  {
   "cell_type": "code",
   "execution_count": null,
   "metadata": {},
   "outputs": [],
   "source": [
    "eda1['ROUTE_ABBR'].unique()"
   ]
  },
  {
   "cell_type": "code",
   "execution_count": null,
   "metadata": {},
   "outputs": [],
   "source": [
    "route50 = eda1.loc[df['ROUTE_ABBR'] == 50]\n"
   ]
  },
  {
   "cell_type": "markdown",
   "metadata": {},
   "source": [
    "### Clean table one. Route, trip id, trip edge(1), headway deviation, adherence"
   ]
  },
  {
   "cell_type": "code",
   "execution_count": null,
   "metadata": {},
   "outputs": [],
   "source": [
    "dfone = df[['ROUTE_ABBR','TRIP_ID','TRIP_EDGE','HDWY_DEV','ADHERENCE']]"
   ]
  },
  {
   "cell_type": "code",
   "execution_count": null,
   "metadata": {},
   "outputs": [],
   "source": [
    "dfone.columns = ['route','trip_id','trip_edge','hdwy_dev', 'adherence']"
   ]
  },
  {
   "cell_type": "code",
   "execution_count": null,
   "metadata": {},
   "outputs": [],
   "source": [
    "df2 = dfone.loc[df['TRIP_EDGE'] == 1]"
   ]
  },
  {
   "cell_type": "code",
   "execution_count": null,
   "metadata": {},
   "outputs": [],
   "source": [
    "df3 = dfone.loc[df['TRIP_EDGE'] == 2]"
   ]
  },
  {
   "cell_type": "code",
   "execution_count": null,
   "metadata": {},
   "outputs": [],
   "source": [
    "df3"
   ]
  },
  {
   "cell_type": "markdown",
   "metadata": {},
   "source": [
    "Work on driver data with ontime early and late counts"
   ]
  },
  {
   "cell_type": "code",
   "execution_count": null,
   "metadata": {},
   "outputs": [],
   "source": [
    "driver = df[['ROUTE_ABBR','OPERATOR','ADHERENCE','ADJUSTED_ONTIME_COUNT','ADJUSTED_EARLY_COUNT','ADJUSTED_LATE_COUNT']]"
   ]
  },
  {
   "cell_type": "code",
   "execution_count": null,
   "metadata": {},
   "outputs": [],
   "source": [
    "driver.groupby(['OPERATOR'])['ADJUSTED_EARLY_COUNT'].sum().plot(kind='bar')"
   ]
  },
  {
   "cell_type": "code",
   "execution_count": null,
   "metadata": {},
   "outputs": [],
   "source": [
    "print(driver_plot)"
   ]
  },
  {
   "cell_type": "code",
   "execution_count": null,
   "metadata": {},
   "outputs": [],
   "source": [
    "sns.barplot(data=driver_plot)"
   ]
  }
 ],
 "metadata": {
  "kernelspec": {
   "display_name": "Python 3 (ipykernel)",
   "language": "python",
   "name": "python3"
  },
  "language_info": {
   "codemirror_mode": {
    "name": "ipython",
    "version": 3
   },
   "file_extension": ".py",
   "mimetype": "text/x-python",
   "name": "python",
   "nbconvert_exporter": "python",
   "pygments_lexer": "ipython3",
   "version": "3.9.7"
  },
  "vscode": {
   "interpreter": {
    "hash": "e83933c89791523ce27b9c1ac2fa3a2bbb0f839e7a6d72c2a74f34bb50225d36"
   }
  }
 },
 "nbformat": 4,
 "nbformat_minor": 2
}
