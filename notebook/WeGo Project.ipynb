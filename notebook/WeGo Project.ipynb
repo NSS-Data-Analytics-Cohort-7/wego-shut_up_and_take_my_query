{
 "cells": [
  {
   "cell_type": "markdown",
   "id": "6063115c",
   "metadata": {},
   "source": [
    "### Goals of this project:\n",
    "\n",
    "How much impact does being late or too spaced out at the first stop have downstream?\n",
    "\n",
    "What is the impact of the layover at the start of the trip (the difference between the first top arrival and departure time)?\n",
    "\n",
    "Does more layover lead to more stable headways (lower values for % headway deviation)?\n",
    "\n",
    "How closely does lateness (ADHERENCE) correlate to headway?\n",
    "\n",
    "What is the relationship between distance or time travelled since the start of a given trip and the headway deviation? Does headway become less stable the further along the route the bus has travelled?\n",
    "\n",
    "How much of a factor does the driver have on headway and on-time performance? The driver is indicated by the OPERATOR variable.\n",
    "How does direction of travel, route, or location affect the headway and on-time performance?\n",
    "\n",
    "How does time of day or day of week affect headway and on-time performance? Can you detect an impact of school schedule on headway deviation (for certain routes and at certain times of day)?\n",
    "\n",
    "\n",
    "Does weather have any effect on headway or on-time performance? To help answer this question, the file bna_2022.csv contains historical weather data recorded at Nashville International Airport."
   ]
  },
  {
   "cell_type": "code",
   "execution_count": null,
   "id": "89d0fed4",
   "metadata": {},
   "outputs": [],
   "source": [
    "import pandas as pd\n",
    "import matplotlib.pyplot as plt\n",
    "import seaborn as sns\n",
    "import numpy as np"
   ]
  },
  {
   "cell_type": "code",
   "execution_count": null,
   "id": "f72cefe4",
   "metadata": {},
   "outputs": [],
   "source": [
    "%matplotlib inline"
   ]
  },
  {
   "cell_type": "code",
   "execution_count": null,
   "id": "1d8cfff2",
   "metadata": {},
   "outputs": [],
   "source": [
    "pd.options.display.max_columns = None"
   ]
  },
  {
   "cell_type": "code",
   "execution_count": null,
   "id": "231de59f",
   "metadata": {},
   "outputs": [],
   "source": [
    "headway = pd.read_csv('../data/Headway Data.csv')"
   ]
  },
  {
   "cell_type": "code",
   "execution_count": null,
   "id": "011321a3",
   "metadata": {},
   "outputs": [],
   "source": [
    "headway.head()        "
   ]
  },
  {
   "cell_type": "code",
   "execution_count": null,
   "id": "b5e88cef",
   "metadata": {},
   "outputs": [],
   "source": [
    "headway.info()"
   ]
  },
  {
   "cell_type": "code",
   "execution_count": null,
   "id": "9e4bb6e1",
   "metadata": {},
   "outputs": [],
   "source": [
    "headway.isnull().sum()"
   ]
  },
  {
   "cell_type": "code",
   "execution_count": null,
   "id": "9e5c422d",
   "metadata": {},
   "outputs": [],
   "source": [
    "len(headway['ROUTE_ABBR'].unique())"
   ]
  },
  {
   "cell_type": "code",
   "execution_count": null,
   "id": "84155ec1",
   "metadata": {},
   "outputs": [],
   "source": [
    "headway['ROUTE_ABBR'].unique()"
   ]
  },
  {
   "cell_type": "code",
   "execution_count": null,
   "id": "1510df69",
   "metadata": {},
   "outputs": [],
   "source": [
    "len(headway['OPERATOR'].unique())"
   ]
  },
  {
   "cell_type": "code",
   "execution_count": null,
   "id": "3a56dd34",
   "metadata": {},
   "outputs": [],
   "source": [
    "bna_weather = pd.read_csv('../data/bna_weather.csv')"
   ]
  },
  {
   "cell_type": "code",
   "execution_count": null,
   "id": "50769283",
   "metadata": {},
   "outputs": [],
   "source": [
    "bna_weather.head()"
   ]
  },
  {
   "cell_type": "code",
   "execution_count": null,
   "id": "fb321c35",
   "metadata": {},
   "outputs": [],
   "source": [
    "#calculating headway deviation percentage - which is HDWY_DEV/SCHEDULED_HDWY\n",
    "headway['Deviation_Percentage'] =headway['HDWY_DEV']/headway['SCHEDULED_HDWY']*100\n",
    "headway"
   ]
  },
  {
   "cell_type": "code",
   "execution_count": null,
   "id": "2969b4e7",
   "metadata": {
    "scrolled": true
   },
   "outputs": [],
   "source": [
    "#making a dataframe with only + headway deviations (HDWY_DEV)\n",
    "headway1 = headway[['DATE', 'ROUTE_ABBR', 'BLOCK_ABBR', 'OPERATOR', 'TRIP_ID', 'ROUTE_DIRECTION_NAME', 'TRIP_EDGE', 'HDWY_DEV']]\n",
    "headway1 = headway1.loc[(headway1['HDWY_DEV']>=0)]\n",
    "headway1"
   ]
  },
  {
   "cell_type": "code",
   "execution_count": null,
   "id": "227b2b4b",
   "metadata": {
    "scrolled": true
   },
   "outputs": [],
   "source": [
    "#making a dataframe with only - headway deviations (HDWY_DEV)\n",
    "headway2 = headway[['DATE', 'ROUTE_ABBR', 'BLOCK_ABBR', 'OPERATOR', 'TRIP_ID', 'ROUTE_DIRECTION_NAME', 'TRIP_EDGE', 'HDWY_DEV']]\n",
    "headway2 = headway2.loc[(headway2['HDWY_DEV']<0)]\n",
    "headway2"
   ]
  },
  {
   "cell_type": "code",
   "execution_count": null,
   "id": "b11a6e62",
   "metadata": {},
   "outputs": [],
   "source": [
    "\n",
    "headway3 = headway[['DATE', 'ROUTE_ABBR', 'BLOCK_ABBR', 'OPERATOR', 'TRIP_ID', 'ROUTE_DIRECTION_NAME', 'TRIP_EDGE', 'HDWY_DEV']]\n",
    "headway3 = headway3.loc[(headway3['TRIP_EDGE']==1)]\n",
    "headway3"
   ]
  },
  {
   "cell_type": "code",
   "execution_count": null,
   "id": "4dc0a8a1",
   "metadata": {
    "scrolled": true
   },
   "outputs": [],
   "source": [
    "#trip edge 2(the turn around)\n",
    "headway4 = headway[['DATE', 'ROUTE_ABBR', 'BLOCK_ABBR', 'OPERATOR', 'TRIP_ID', 'ROUTE_DIRECTION_NAME', 'TRIP_EDGE', 'HDWY_DEV']]\n",
    "headway4 = headway4.loc[(headway4['TRIP_EDGE']==2)]\n",
    "headway4"
   ]
  },
  {
   "cell_type": "code",
   "execution_count": null,
   "id": "d8a6f18a",
   "metadata": {},
   "outputs": [],
   "source": [
    "#looking at hdwy_dev and adherence to scheduled time side by side \n",
    "headway5 = headway[['DATE', 'OPERATOR', 'TRIP_ID', 'TRIP_EDGE', 'ADHERENCE_ID', 'HDWY_DEV', 'ADHERENCE']]\n",
    "headway5"
   ]
  },
  {
   "cell_type": "code",
   "execution_count": null,
   "id": "be66e006",
   "metadata": {},
   "outputs": [],
   "source": [
    "#time of day \n",
    "\n",
    "headway6 = headway[['DATE', 'OPERATOR', 'TRIP_ID', 'TRIP_EDGE', 'HDWY_DEV', 'ADHERENCE','SCHEDULED_TIME', 'ROUTE_ABBR']]\n",
    "headway6 = headway6.loc[(headway6['TRIP_EDGE']==2) | headway6['TRIP_EDGE']==1] \n",
    "headway6 = headway6.loc[(headway6['OPERATOR']==2088)]\n",
    "headway6"
   ]
  },
  {
   "cell_type": "code",
   "execution_count": null,
   "id": "81fc30df",
   "metadata": {},
   "outputs": [],
   "source": [
    "headway6['TIMES'] = headway6['SCHEDULED_TIME'].astype(str).str[:2].astype(int)\n",
    "headway6"
   ]
  },
  {
   "cell_type": "code",
   "execution_count": null,
   "id": "01712423",
   "metadata": {},
   "outputs": [],
   "source": [
    "headway6"
   ]
  },
  {
   "cell_type": "markdown",
   "id": "124f8ac2",
   "metadata": {},
   "source": [
    "### Question 1: \n",
    "How much impact does being late or too spaced out at the first stop have downstream?"
   ]
  },
  {
   "cell_type": "code",
   "execution_count": null,
   "id": "29b17dab",
   "metadata": {},
   "outputs": [],
   "source": []
  }
 ],
 "metadata": {
  "kernelspec": {
   "display_name": "Python 3 (ipykernel)",
   "language": "python",
   "name": "python3"
  },
  "language_info": {
   "codemirror_mode": {
    "name": "ipython",
    "version": 3
   },
   "file_extension": ".py",
   "mimetype": "text/x-python",
   "name": "python",
   "nbconvert_exporter": "python",
   "pygments_lexer": "ipython3",
   "version": "3.9.12"
  }
 },
 "nbformat": 4,
 "nbformat_minor": 5
}
