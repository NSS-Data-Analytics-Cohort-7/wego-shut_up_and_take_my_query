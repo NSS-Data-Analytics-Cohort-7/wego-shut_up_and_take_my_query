{
 "cells": [
  {
   "cell_type": "code",
   "execution_count": 13,
   "id": "fbdc383a",
   "metadata": {},
   "outputs": [],
   "source": [
    "import pandas as pd\n",
    "import matplotlib.pyplot as plt\n",
    "import seaborn as sns\n",
    "import numpy as np\n",
    "# pd.options.display.max_rows = None"
   ]
  },
  {
   "cell_type": "code",
   "execution_count": 14,
   "id": "006eee6c",
   "metadata": {},
   "outputs": [],
   "source": [
    "%matplotlib inline"
   ]
  },
  {
   "cell_type": "code",
   "execution_count": 15,
   "id": "efa7f42a",
   "metadata": {},
   "outputs": [],
   "source": [
    "headway = pd.read_csv('../data/Headway Data.csv')"
   ]
  },
  {
   "cell_type": "code",
   "execution_count": 16,
   "id": "d20388b9",
   "metadata": {
    "scrolled": true
   },
   "outputs": [
    {
     "data": {
      "text/html": [
       "<div>\n",
       "<style scoped>\n",
       "    .dataframe tbody tr th:only-of-type {\n",
       "        vertical-align: middle;\n",
       "    }\n",
       "\n",
       "    .dataframe tbody tr th {\n",
       "        vertical-align: top;\n",
       "    }\n",
       "\n",
       "    .dataframe thead th {\n",
       "        text-align: right;\n",
       "    }\n",
       "</style>\n",
       "<table border=\"1\" class=\"dataframe\">\n",
       "  <thead>\n",
       "    <tr style=\"text-align: right;\">\n",
       "      <th></th>\n",
       "      <th>CALENDAR_ID</th>\n",
       "      <th>SERVICE_ABBR</th>\n",
       "      <th>ADHERENCE_ID</th>\n",
       "      <th>DATE</th>\n",
       "      <th>ROUTE_ABBR</th>\n",
       "      <th>BLOCK_ABBR</th>\n",
       "      <th>OPERATOR</th>\n",
       "      <th>TRIP_ID</th>\n",
       "      <th>OVERLOAD_ID</th>\n",
       "      <th>ROUTE_DIRECTION_NAME</th>\n",
       "      <th>...</th>\n",
       "      <th>ACTUAL_HDWY</th>\n",
       "      <th>HDWY_DEV</th>\n",
       "      <th>ADJUSTED_EARLY_COUNT</th>\n",
       "      <th>ADJUSTED_LATE_COUNT</th>\n",
       "      <th>ADJUSTED_ONTIME_COUNT</th>\n",
       "      <th>STOP_CANCELLED</th>\n",
       "      <th>PREV_SCHED_STOP_CANCELLED</th>\n",
       "      <th>IS_RELIEF</th>\n",
       "      <th>BLOCK_STOP_ORDER</th>\n",
       "      <th>DWELL_IN_MINS</th>\n",
       "    </tr>\n",
       "  </thead>\n",
       "  <tbody>\n",
       "    <tr>\n",
       "      <th>0</th>\n",
       "      <td>120211101</td>\n",
       "      <td>1</td>\n",
       "      <td>76447164</td>\n",
       "      <td>2021-11-01</td>\n",
       "      <td>7</td>\n",
       "      <td>1704</td>\n",
       "      <td>2088</td>\n",
       "      <td>297750</td>\n",
       "      <td>0</td>\n",
       "      <td>TO DOWNTOWN</td>\n",
       "      <td>...</td>\n",
       "      <td>15.983333</td>\n",
       "      <td>1.983333</td>\n",
       "      <td>0</td>\n",
       "      <td>0</td>\n",
       "      <td>1</td>\n",
       "      <td>0</td>\n",
       "      <td>0.0</td>\n",
       "      <td>0</td>\n",
       "      <td>2</td>\n",
       "      <td>12.650000</td>\n",
       "    </tr>\n",
       "    <tr>\n",
       "      <th>1</th>\n",
       "      <td>120211101</td>\n",
       "      <td>1</td>\n",
       "      <td>76447165</td>\n",
       "      <td>2021-11-01</td>\n",
       "      <td>7</td>\n",
       "      <td>1704</td>\n",
       "      <td>2088</td>\n",
       "      <td>297750</td>\n",
       "      <td>0</td>\n",
       "      <td>TO DOWNTOWN</td>\n",
       "      <td>...</td>\n",
       "      <td>17.333333</td>\n",
       "      <td>3.333333</td>\n",
       "      <td>0</td>\n",
       "      <td>0</td>\n",
       "      <td>1</td>\n",
       "      <td>0</td>\n",
       "      <td>0.0</td>\n",
       "      <td>0</td>\n",
       "      <td>11</td>\n",
       "      <td>0.000000</td>\n",
       "    </tr>\n",
       "    <tr>\n",
       "      <th>2</th>\n",
       "      <td>120211101</td>\n",
       "      <td>1</td>\n",
       "      <td>76447166</td>\n",
       "      <td>2021-11-01</td>\n",
       "      <td>7</td>\n",
       "      <td>1704</td>\n",
       "      <td>2088</td>\n",
       "      <td>297750</td>\n",
       "      <td>0</td>\n",
       "      <td>TO DOWNTOWN</td>\n",
       "      <td>...</td>\n",
       "      <td>NaN</td>\n",
       "      <td>NaN</td>\n",
       "      <td>0</td>\n",
       "      <td>1</td>\n",
       "      <td>0</td>\n",
       "      <td>0</td>\n",
       "      <td>NaN</td>\n",
       "      <td>0</td>\n",
       "      <td>23</td>\n",
       "      <td>22.416666</td>\n",
       "    </tr>\n",
       "    <tr>\n",
       "      <th>3</th>\n",
       "      <td>120211101</td>\n",
       "      <td>1</td>\n",
       "      <td>76447167</td>\n",
       "      <td>2021-11-01</td>\n",
       "      <td>50</td>\n",
       "      <td>1704</td>\n",
       "      <td>2088</td>\n",
       "      <td>297749</td>\n",
       "      <td>0</td>\n",
       "      <td>TO DOWNTOWN</td>\n",
       "      <td>...</td>\n",
       "      <td>NaN</td>\n",
       "      <td>NaN</td>\n",
       "      <td>0</td>\n",
       "      <td>0</td>\n",
       "      <td>1</td>\n",
       "      <td>0</td>\n",
       "      <td>0.0</td>\n",
       "      <td>0</td>\n",
       "      <td>24</td>\n",
       "      <td>5.766666</td>\n",
       "    </tr>\n",
       "    <tr>\n",
       "      <th>4</th>\n",
       "      <td>120211101</td>\n",
       "      <td>1</td>\n",
       "      <td>76447168</td>\n",
       "      <td>2021-11-01</td>\n",
       "      <td>50</td>\n",
       "      <td>1704</td>\n",
       "      <td>2088</td>\n",
       "      <td>297749</td>\n",
       "      <td>0</td>\n",
       "      <td>TO DOWNTOWN</td>\n",
       "      <td>...</td>\n",
       "      <td>NaN</td>\n",
       "      <td>NaN</td>\n",
       "      <td>0</td>\n",
       "      <td>0</td>\n",
       "      <td>1</td>\n",
       "      <td>0</td>\n",
       "      <td>NaN</td>\n",
       "      <td>0</td>\n",
       "      <td>25</td>\n",
       "      <td>0.000000</td>\n",
       "    </tr>\n",
       "  </tbody>\n",
       "</table>\n",
       "<p>5 rows × 30 columns</p>\n",
       "</div>"
      ],
      "text/plain": [
       "   CALENDAR_ID  SERVICE_ABBR  ADHERENCE_ID        DATE  ROUTE_ABBR  \\\n",
       "0    120211101             1      76447164  2021-11-01           7   \n",
       "1    120211101             1      76447165  2021-11-01           7   \n",
       "2    120211101             1      76447166  2021-11-01           7   \n",
       "3    120211101             1      76447167  2021-11-01          50   \n",
       "4    120211101             1      76447168  2021-11-01          50   \n",
       "\n",
       "   BLOCK_ABBR  OPERATOR  TRIP_ID  OVERLOAD_ID ROUTE_DIRECTION_NAME  ...  \\\n",
       "0        1704      2088   297750            0          TO DOWNTOWN  ...   \n",
       "1        1704      2088   297750            0          TO DOWNTOWN  ...   \n",
       "2        1704      2088   297750            0          TO DOWNTOWN  ...   \n",
       "3        1704      2088   297749            0          TO DOWNTOWN  ...   \n",
       "4        1704      2088   297749            0          TO DOWNTOWN  ...   \n",
       "\n",
       "  ACTUAL_HDWY  HDWY_DEV  ADJUSTED_EARLY_COUNT  ADJUSTED_LATE_COUNT  \\\n",
       "0   15.983333  1.983333                     0                    0   \n",
       "1   17.333333  3.333333                     0                    0   \n",
       "2         NaN       NaN                     0                    1   \n",
       "3         NaN       NaN                     0                    0   \n",
       "4         NaN       NaN                     0                    0   \n",
       "\n",
       "   ADJUSTED_ONTIME_COUNT STOP_CANCELLED PREV_SCHED_STOP_CANCELLED IS_RELIEF  \\\n",
       "0                      1              0                       0.0         0   \n",
       "1                      1              0                       0.0         0   \n",
       "2                      0              0                       NaN         0   \n",
       "3                      1              0                       0.0         0   \n",
       "4                      1              0                       NaN         0   \n",
       "\n",
       "   BLOCK_STOP_ORDER  DWELL_IN_MINS  \n",
       "0                 2      12.650000  \n",
       "1                11       0.000000  \n",
       "2                23      22.416666  \n",
       "3                24       5.766666  \n",
       "4                25       0.000000  \n",
       "\n",
       "[5 rows x 30 columns]"
      ]
     },
     "execution_count": 16,
     "metadata": {},
     "output_type": "execute_result"
    }
   ],
   "source": [
    "headway.head()"
   ]
  },
  {
   "cell_type": "markdown",
   "id": "97a27713",
   "metadata": {},
   "source": [
    "### Question 6: How does direction of travel, route, or location affect the headway and on-time performance?"
   ]
  },
  {
   "cell_type": "code",
   "execution_count": null,
   "id": "0c843208",
   "metadata": {},
   "outputs": [],
   "source": [
    "#pulling out direction of travel (to downtown)\n",
    "direction_of_travel = headway[['DATE', 'ROUTE_ABBR', 'TRIP_ID', 'ROUTE_DIRECTION_NAME', 'TRIP_EDGE', 'HDWY_DEV', 'ADHERENCE', 'DWELL_IN_MINS']]\n",
    "direction_of_travel_TO = direction_of_travel.loc[(headway['ROUTE_DIRECTION_NAME']=='TO DOWNTOWN')]\n",
    "direction_of_travel_TO"
   ]
  },
  {
   "cell_type": "code",
   "execution_count": null,
   "id": "6fa2a24b",
   "metadata": {},
   "outputs": [],
   "source": [
    "#pulling out direction of travel (from downtown)\n",
    "direction_of_travel = headway[['DATE', 'ROUTE_ABBR', 'TRIP_ID', 'ROUTE_DIRECTION_NAME', 'TRIP_EDGE', 'HDWY_DEV', 'ADHERENCE', 'DWELL_IN_MINS']]\n",
    "direction_of_travel_FROM = direction_of_travel.loc[(headway['ROUTE_DIRECTION_NAME']=='FROM DOWNTOWN')]\n",
    "direction_of_travel_FROM"
   ]
  },
  {
   "cell_type": "code",
   "execution_count": null,
   "id": "c3900348",
   "metadata": {},
   "outputs": [],
   "source": [
    "#pulling out direction of travel (from downtown)\n",
    "direction_of_travel = headway[['DATE', 'ROUTE_ABBR', 'TRIP_ID', 'ROUTE_DIRECTION_NAME', 'TRIP_EDGE', 'HDWY_DEV', 'ADHERENCE', 'DWELL_IN_MINS']]\n",
    "direction_of_travel_FROM1 = direction_of_travel.loc[(headway['ROUTE_DIRECTION_NAME']=='FROM DOWNTOWN')][(headway['TRIP_EDGE']==1)]\n",
    "direction_of_travel_FROM1"
   ]
  },
  {
   "cell_type": "code",
   "execution_count": null,
   "id": "9bdd052f",
   "metadata": {},
   "outputs": [],
   "source": [
    "trip_edge1 = headway[['DATE', 'ROUTE_ABBR', 'TRIP_ID', 'ROUTE_DIRECTION_NAME', 'TRIP_EDGE', 'HDWY_DEV', 'ADHERENCE', 'DWELL_IN_MINS']][(headway['TRIP_EDGE']==1)]\n",
    "trip_edge1"
   ]
  },
  {
   "cell_type": "code",
   "execution_count": null,
   "id": "c2288660",
   "metadata": {},
   "outputs": [],
   "source": [
    "trip_edge2 = headway[['DATE', 'ROUTE_ABBR', 'TRIP_ID', 'ROUTE_DIRECTION_NAME', 'TRIP_EDGE', 'HDWY_DEV', 'ADHERENCE', 'DWELL_IN_MINS']][(headway['TRIP_EDGE']==2)]\n",
    "trip_edge2"
   ]
  },
  {
   "cell_type": "code",
   "execution_count": null,
   "id": "fc10b109",
   "metadata": {},
   "outputs": [],
   "source": [
    "trip_edge2.groupby('TRIP_EDGE')"
   ]
  },
  {
   "cell_type": "code",
   "execution_count": null,
   "id": "5d00b277",
   "metadata": {},
   "outputs": [],
   "source": [
    "trip_edge_df = headway[['DATE', 'ROUTE_ABBR', 'TRIP_ID', 'ROUTE_DIRECTION_NAME', 'TRIP_EDGE', 'HDWY_DEV', 'ADHERENCE', 'DWELL_IN_MINS']][(headway['TRIP_EDGE']==2) | (headway['TRIP_EDGE']==1)]\n",
    "trip_edge_df"
   ]
  },
  {
   "cell_type": "code",
   "execution_count": null,
   "id": "60607a29",
   "metadata": {},
   "outputs": [],
   "source": [
    "trip_edge_df.groupby(['ROUTE_DIRECTION_NAME', 'ROUTE_ABBR'], as_index=False)['ADHERENCE', 'DWELL_IN_MINS'].mean().round()"
   ]
  },
  {
   "cell_type": "code",
   "execution_count": null,
   "id": "7d931c00",
   "metadata": {},
   "outputs": [],
   "source": [
    "te_df1= trip_edge_df.groupby(['ROUTE_ABBR'], as_index=False)['ADHERENCE', 'DWELL_IN_MINS'].mean().round()\n",
    "te_df1"
   ]
  },
  {
   "cell_type": "code",
   "execution_count": null,
   "id": "000879bd",
   "metadata": {},
   "outputs": [],
   "source": [
    "te_df1.pivot(index='ROUTE_ABBR', columns='DWELL_IN_MINS', values='DWELL_IN_MINS').plot(kind='bar', figsize=(15,8))\n",
    "plt.xlabel('Routes')\n",
    "plt.ylabel('Dwell Time in Minutes')\n",
    "plt.legend(loc='upper left')\n",
    "plt.title('Avg Dwell Time Per Route')\n",
    "plt.show();"
   ]
  },
  {
   "cell_type": "code",
   "execution_count": null,
   "id": "de1468dd",
   "metadata": {},
   "outputs": [],
   "source": [
    "te_df1.pivot(index='ROUTE_ABBR', columns='ADHERENCE', values='ADHERENCE').plot(kind='bar', figsize=(15,8))\n",
    "plt.xlabel('Routes')\n",
    "plt.ylabel('Adherence To Schedule')\n",
    "plt.legend(loc='upper right')\n",
    "plt.title('Avg Adherence To Schedule')\n",
    "plt.gca().invert_yaxis()\n",
    "plt.show();"
   ]
  },
  {
   "cell_type": "code",
   "execution_count": null,
   "id": "29364383",
   "metadata": {},
   "outputs": [],
   "source": [
    "te_df2= trip_edge_df.groupby(['ROUTE_ABBR'], as_index=False)['ADHERENCE', 'DWELL_IN_MINS'].mean()\n",
    "te_df2"
   ]
  },
  {
   "cell_type": "code",
   "execution_count": null,
   "id": "735ad4fd",
   "metadata": {},
   "outputs": [],
   "source": [
    "trip_edge_df_all = headway[['DATE', 'ROUTE_ABBR', 'TRIP_ID', 'ROUTE_DIRECTION_NAME', 'TRIP_EDGE', 'HDWY_DEV', 'ADHERENCE', 'DWELL_IN_MINS']]\n",
    "trip_edge_df"
   ]
  },
  {
   "cell_type": "code",
   "execution_count": null,
   "id": "8361e374",
   "metadata": {},
   "outputs": [],
   "source": [
    "te_df1all= trip_edge_df_all.groupby(['ROUTE_ABBR'], as_index=False)['ADHERENCE', 'DWELL_IN_MINS'].mean().round()\n",
    "te_df1all"
   ]
  },
  {
   "cell_type": "code",
   "execution_count": null,
   "id": "94472d97",
   "metadata": {},
   "outputs": [],
   "source": [
    "te_df1all.pivot(index='ROUTE_ABBR', columns='DWELL_IN_MINS', values='DWELL_IN_MINS').plot(kind='bar', figsize=(15,8))\n",
    "plt.xlabel('Routes')\n",
    "plt.ylabel('Dwell Time in Minutes')\n",
    "plt.legend(loc='upper left')\n",
    "plt.title('Avg Dwell Time Per Route')\n",
    "plt.show();"
   ]
  },
  {
   "cell_type": "code",
   "execution_count": null,
   "id": "3f97e256",
   "metadata": {},
   "outputs": [],
   "source": [
    "te_df1all.pivot(index='ROUTE_ABBR', columns='ADHERENCE', values='ADHERENCE').plot(kind='bar', figsize=(15,8))\n",
    "plt.xlabel('Routes')\n",
    "plt.ylabel('Adherence To Schedule')\n",
    "plt.legend(loc='upper left')\n",
    "plt.title('Adherence To Schedule')\n",
    "plt.gca().invert_yaxis()\n",
    "plt.show();"
   ]
  },
  {
   "cell_type": "code",
   "execution_count": null,
   "id": "d55e8423",
   "metadata": {},
   "outputs": [],
   "source": [
    "headway.head()"
   ]
  },
  {
   "cell_type": "code",
   "execution_count": null,
   "id": "d185803a",
   "metadata": {
    "scrolled": false
   },
   "outputs": [],
   "source": [
    "headway1 = headway[['DATE', 'ROUTE_ABBR', 'TRIP_ID', 'ROUTE_DIRECTION_NAME', 'TRIP_EDGE', 'HDWY_DEV', 'ADHERENCE', 'DWELL_IN_MINS']][(headway['ROUTE_ABBR']== 55) & (headway['TRIP_ID']== 300293)]\n",
    "headway1"
   ]
  },
  {
   "cell_type": "code",
   "execution_count": null,
   "id": "3088b06a",
   "metadata": {},
   "outputs": [],
   "source": [
    "headway_r55 = headway[['DATE', 'ROUTE_ABBR', 'TRIP_ID', 'ROUTE_DIRECTION_NAME', 'TRIP_EDGE', 'HDWY_DEV', 'ADHERENCE', 'DWELL_IN_MINS']][(headway['ROUTE_ABBR']== 55)]\n",
    "headway_r55"
   ]
  },
  {
   "cell_type": "code",
   "execution_count": null,
   "id": "65404a05",
   "metadata": {},
   "outputs": [],
   "source": []
  }
 ],
 "metadata": {
  "kernelspec": {
   "display_name": "Python 3 (ipykernel)",
   "language": "python",
   "name": "python3"
  },
  "language_info": {
   "codemirror_mode": {
    "name": "ipython",
    "version": 3
   },
   "file_extension": ".py",
   "mimetype": "text/x-python",
   "name": "python",
   "nbconvert_exporter": "python",
   "pygments_lexer": "ipython3",
   "version": "3.9.12"
  }
 },
 "nbformat": 4,
 "nbformat_minor": 5
}
