{
 "cells": [
  {
   "cell_type": "code",
   "execution_count": null,
   "id": "fbdc383a",
   "metadata": {},
   "outputs": [],
   "source": [
    "import pandas as pd\n",
    "import matplotlib.pyplot as plt\n",
    "import seaborn as sns\n",
    "import numpy as np"
   ]
  },
  {
   "cell_type": "code",
   "execution_count": null,
   "id": "006eee6c",
   "metadata": {},
   "outputs": [],
   "source": [
    "%matplotlib inline"
   ]
  },
  {
   "cell_type": "code",
   "execution_count": null,
   "id": "efa7f42a",
   "metadata": {},
   "outputs": [],
   "source": [
    "headway = pd.read_csv('../data/Headway Data.csv')"
   ]
  },
  {
   "cell_type": "code",
   "execution_count": null,
   "id": "d20388b9",
   "metadata": {
    "scrolled": true
   },
   "outputs": [],
   "source": [
    "headway.head()"
   ]
  },
  {
   "cell_type": "markdown",
   "id": "97a27713",
   "metadata": {},
   "source": [
    "### Question 6: How does direction of travel, route, or location affect the headway and on-time performance?"
   ]
  },
  {
   "cell_type": "code",
   "execution_count": null,
   "id": "0c843208",
   "metadata": {},
   "outputs": [],
   "source": [
    "#pulling out direction of travel (to downtown)\n",
    "direction_of_travel = headway[['DATE', 'ROUTE_ABBR', 'TRIP_ID', 'ROUTE_DIRECTION_NAME', 'TRIP_EDGE', 'HDWY_DEV', 'ADHERENCE', 'DWELL_IN_MINS']]\n",
    "direction_of_travel_TO = direction_of_travel.loc[(headway['ROUTE_DIRECTION_NAME']=='TO DOWNTOWN')]\n",
    "direction_of_travel_TO"
   ]
  },
  {
   "cell_type": "code",
   "execution_count": null,
   "id": "6fa2a24b",
   "metadata": {},
   "outputs": [],
   "source": [
    "#pulling out direction of travel (from downtown)\n",
    "direction_of_travel = headway[['DATE', 'ROUTE_ABBR', 'TRIP_ID', 'ROUTE_DIRECTION_NAME', 'TRIP_EDGE', 'HDWY_DEV', 'ADHERENCE', 'DWELL_IN_MINS']]\n",
    "direction_of_travel_FROM = direction_of_travel.loc[(headway['ROUTE_DIRECTION_NAME']=='FROM DOWNTOWN')]\n",
    "direction_of_travel_FROM"
   ]
  },
  {
   "cell_type": "code",
   "execution_count": null,
   "id": "c3900348",
   "metadata": {},
   "outputs": [],
   "source": [
    "#pulling out direction of travel (from downtown)\n",
    "direction_of_travel = headway[['DATE', 'ROUTE_ABBR', 'TRIP_ID', 'ROUTE_DIRECTION_NAME', 'TRIP_EDGE', 'HDWY_DEV', 'ADHERENCE', 'DWELL_IN_MINS']]\n",
    "direction_of_travel_FROM1 = direction_of_travel.loc[(headway['ROUTE_DIRECTION_NAME']=='FROM DOWNTOWN')][(headway['TRIP_EDGE']==1)]\n",
    "direction_of_travel_FROM1"
   ]
  },
  {
   "cell_type": "code",
   "execution_count": null,
   "id": "9bdd052f",
   "metadata": {},
   "outputs": [],
   "source": [
    "trip_edge1 = headway[['DATE', 'ROUTE_ABBR', 'TRIP_ID', 'ROUTE_DIRECTION_NAME', 'TRIP_EDGE', 'HDWY_DEV', 'ADHERENCE', 'DWELL_IN_MINS']][(headway['TRIP_EDGE']==1)]\n",
    "trip_edge1"
   ]
  },
  {
   "cell_type": "code",
   "execution_count": null,
   "id": "c2288660",
   "metadata": {},
   "outputs": [],
   "source": [
    "trip_edge2 = headway[['DATE', 'ROUTE_ABBR', 'TRIP_ID', 'ROUTE_DIRECTION_NAME', 'TRIP_EDGE', 'HDWY_DEV', 'ADHERENCE', 'DWELL_IN_MINS']][(headway['TRIP_EDGE']==2)]\n",
    "trip_edge2"
   ]
  },
  {
   "cell_type": "code",
   "execution_count": null,
   "id": "fc10b109",
   "metadata": {},
   "outputs": [],
   "source": [
    "trip_edge2.groupby('TRIP_EDGE')"
   ]
  },
  {
   "cell_type": "code",
   "execution_count": null,
   "id": "5d00b277",
   "metadata": {},
   "outputs": [],
   "source": [
    "trip_edge_df = headway[['DATE', 'ROUTE_ABBR', 'TRIP_ID', 'ROUTE_DIRECTION_NAME', 'TRIP_EDGE', 'HDWY_DEV', 'ADHERENCE', 'DWELL_IN_MINS']][(headway['TRIP_EDGE']==2) | (headway['TRIP_EDGE']==1)]\n",
    "trip_edge_df"
   ]
  },
  {
   "cell_type": "code",
   "execution_count": null,
   "id": "60607a29",
   "metadata": {},
   "outputs": [],
   "source": [
    "trip_edge_df.groupby(['ROUTE_DIRECTION_NAME', 'ROUTE_ABBR'], as_index=False)['ADHERENCE', 'DWELL_IN_MINS'].mean().round()"
   ]
  },
  {
   "cell_type": "code",
   "execution_count": null,
   "id": "7d931c00",
   "metadata": {},
   "outputs": [],
   "source": [
    "te_df1= trip_edge_df.groupby(['ROUTE_ABBR'], as_index=False)['ADHERENCE', 'DWELL_IN_MINS'].mean().round()\n",
    "te_df1"
   ]
  },
  {
   "cell_type": "code",
   "execution_count": null,
   "id": "000879bd",
   "metadata": {},
   "outputs": [],
   "source": [
    "te_df1.pivot(index='ROUTE_ABBR', columns='DWELL_IN_MINS', values='DWELL_IN_MINS').plot(kind='bar', figsize=(15,8))\n",
    "plt.xlabel('Routes')\n",
    "plt.ylabel('Dwell Time in Minutes')\n",
    "plt.legend(loc='upper left')\n",
    "plt.title('Avg Dwell Time Per Route')\n",
    "plt.show();"
   ]
  },
  {
   "cell_type": "code",
   "execution_count": null,
   "id": "de1468dd",
   "metadata": {},
   "outputs": [],
   "source": [
    "te_df1.pivot(index='ROUTE_ABBR', columns='ADHERENCE', values='ADHERENCE').plot(kind='bar', figsize=(15,8))\n",
    "plt.xlabel('Routes')\n",
    "plt.ylabel('Adherence To Schedule')\n",
    "plt.legend(loc='upper right')\n",
    "plt.title('Avg Adherence To Schedule')\n",
    "plt.gca().invert_yaxis()\n",
    "plt.show();"
   ]
  },
  {
   "cell_type": "code",
   "execution_count": null,
   "id": "29364383",
   "metadata": {},
   "outputs": [],
   "source": [
    "te_df2= trip_edge_df.groupby(['ROUTE_ABBR'], as_index=False)['ADHERENCE', 'DWELL_IN_MINS'].mean()\n",
    "te_df2"
   ]
  },
  {
   "cell_type": "code",
   "execution_count": null,
   "id": "735ad4fd",
   "metadata": {},
   "outputs": [],
   "source": [
    "trip_edge_df_all = headway[['DATE', 'ROUTE_ABBR', 'TRIP_ID', 'ROUTE_DIRECTION_NAME', 'TRIP_EDGE', 'HDWY_DEV', 'ADHERENCE', 'DWELL_IN_MINS']]\n",
    "trip_edge_df"
   ]
  },
  {
   "cell_type": "code",
   "execution_count": null,
   "id": "8361e374",
   "metadata": {},
   "outputs": [],
   "source": [
    "te_df1all= trip_edge_df_all.groupby(['ROUTE_ABBR'], as_index=False)['ADHERENCE', 'DWELL_IN_MINS'].mean().round()\n",
    "te_df1all"
   ]
  },
  {
   "cell_type": "code",
   "execution_count": null,
   "id": "94472d97",
   "metadata": {},
   "outputs": [],
   "source": [
    "te_df1all.pivot(index='ROUTE_ABBR', columns='DWELL_IN_MINS', values='DWELL_IN_MINS').plot(kind='bar', figsize=(15,8))\n",
    "plt.xlabel('Routes')\n",
    "plt.ylabel('Dwell Time in Minutes')\n",
    "plt.legend(loc='upper left')\n",
    "plt.title('Avg Dwell Time Per Route')\n",
    "plt.show();"
   ]
  },
  {
   "cell_type": "code",
   "execution_count": null,
   "id": "3f97e256",
   "metadata": {},
   "outputs": [],
   "source": [
    "te_df1all.pivot(index='ROUTE_ABBR', columns='ADHERENCE', values='ADHERENCE').plot(kind='bar', figsize=(15,8))\n",
    "plt.xlabel('Routes')\n",
    "plt.ylabel('Adherence To Schedule')\n",
    "plt.legend(loc='upper left')\n",
    "plt.title('Adherence To Schedule')\n",
    "plt.gca().invert_yaxis()\n",
    "plt.show();"
   ]
  },
  {
   "cell_type": "code",
   "execution_count": null,
   "id": "d55e8423",
   "metadata": {},
   "outputs": [],
   "source": []
  }
 ],
 "metadata": {
  "kernelspec": {
   "display_name": "Python 3 (ipykernel)",
   "language": "python",
   "name": "python3"
  },
  "language_info": {
   "codemirror_mode": {
    "name": "ipython",
    "version": 3
   },
   "file_extension": ".py",
   "mimetype": "text/x-python",
   "name": "python",
   "nbconvert_exporter": "python",
   "pygments_lexer": "ipython3",
   "version": "3.9.12"
  }
 },
 "nbformat": 4,
 "nbformat_minor": 5
}
